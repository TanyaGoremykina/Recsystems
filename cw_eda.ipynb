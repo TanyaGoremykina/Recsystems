{
  "nbformat": 4,
  "nbformat_minor": 0,
  "metadata": {
    "colab": {
      "name": "cw_eda.ipynb",
      "provenance": [],
      "collapsed_sections": [],
      "authorship_tag": "ABX9TyMsMd713EMMGTergJsmEOIU",
      "include_colab_link": true
    },
    "kernelspec": {
      "name": "python3",
      "display_name": "Python 3"
    },
    "language_info": {
      "name": "python"
    }
  },
  "cells": [
    {
      "cell_type": "markdown",
      "metadata": {
        "id": "view-in-github",
        "colab_type": "text"
      },
      "source": [
        "<a href=\"https://colab.research.google.com/github/TanyaGoremykina/Recsystems/blob/main/cw_eda.ipynb\" target=\"_parent\"><img src=\"https://colab.research.google.com/assets/colab-badge.svg\" alt=\"Open In Colab\"/></a>"
      ]
    },
    {
      "cell_type": "markdown",
      "metadata": {
        "id": "2CDtrzPjr20j"
      },
      "source": [
        "# ПОДГОТОВКА ДАННЫХ"
      ]
    },
    {
      "cell_type": "code",
      "metadata": {
        "colab": {
          "base_uri": "https://localhost:8080/"
        },
        "id": "LpuKaaVpg5MZ",
        "outputId": "fcb5c4c2-fc88-4b44-ee6e-b657e643b753"
      },
      "source": [
        "!pip install implicit"
      ],
      "execution_count": null,
      "outputs": [
        {
          "output_type": "stream",
          "name": "stdout",
          "text": [
            "Collecting implicit\n",
            "  Downloading implicit-0.4.8.tar.gz (1.1 MB)\n",
            "\u001b[?25l\r\u001b[K     |▎                               | 10 kB 23.4 MB/s eta 0:00:01\r\u001b[K     |▋                               | 20 kB 26.6 MB/s eta 0:00:01\r\u001b[K     |▉                               | 30 kB 27.6 MB/s eta 0:00:01\r\u001b[K     |█▏                              | 40 kB 29.4 MB/s eta 0:00:01\r\u001b[K     |█▍                              | 51 kB 31.5 MB/s eta 0:00:01\r\u001b[K     |█▊                              | 61 kB 34.3 MB/s eta 0:00:01\r\u001b[K     |██                              | 71 kB 33.9 MB/s eta 0:00:01\r\u001b[K     |██▎                             | 81 kB 35.7 MB/s eta 0:00:01\r\u001b[K     |██▋                             | 92 kB 37.8 MB/s eta 0:00:01\r\u001b[K     |██▉                             | 102 kB 37.3 MB/s eta 0:00:01\r\u001b[K     |███▏                            | 112 kB 37.3 MB/s eta 0:00:01\r\u001b[K     |███▍                            | 122 kB 37.3 MB/s eta 0:00:01\r\u001b[K     |███▊                            | 133 kB 37.3 MB/s eta 0:00:01\r\u001b[K     |████                            | 143 kB 37.3 MB/s eta 0:00:01\r\u001b[K     |████▎                           | 153 kB 37.3 MB/s eta 0:00:01\r\u001b[K     |████▋                           | 163 kB 37.3 MB/s eta 0:00:01\r\u001b[K     |████▉                           | 174 kB 37.3 MB/s eta 0:00:01\r\u001b[K     |█████▏                          | 184 kB 37.3 MB/s eta 0:00:01\r\u001b[K     |█████▍                          | 194 kB 37.3 MB/s eta 0:00:01\r\u001b[K     |█████▊                          | 204 kB 37.3 MB/s eta 0:00:01\r\u001b[K     |██████                          | 215 kB 37.3 MB/s eta 0:00:01\r\u001b[K     |██████▎                         | 225 kB 37.3 MB/s eta 0:00:01\r\u001b[K     |██████▋                         | 235 kB 37.3 MB/s eta 0:00:01\r\u001b[K     |██████▉                         | 245 kB 37.3 MB/s eta 0:00:01\r\u001b[K     |███████▏                        | 256 kB 37.3 MB/s eta 0:00:01\r\u001b[K     |███████▌                        | 266 kB 37.3 MB/s eta 0:00:01\r\u001b[K     |███████▊                        | 276 kB 37.3 MB/s eta 0:00:01\r\u001b[K     |████████                        | 286 kB 37.3 MB/s eta 0:00:01\r\u001b[K     |████████▎                       | 296 kB 37.3 MB/s eta 0:00:01\r\u001b[K     |████████▋                       | 307 kB 37.3 MB/s eta 0:00:01\r\u001b[K     |████████▉                       | 317 kB 37.3 MB/s eta 0:00:01\r\u001b[K     |█████████▏                      | 327 kB 37.3 MB/s eta 0:00:01\r\u001b[K     |█████████▌                      | 337 kB 37.3 MB/s eta 0:00:01\r\u001b[K     |█████████▊                      | 348 kB 37.3 MB/s eta 0:00:01\r\u001b[K     |██████████                      | 358 kB 37.3 MB/s eta 0:00:01\r\u001b[K     |██████████▎                     | 368 kB 37.3 MB/s eta 0:00:01\r\u001b[K     |██████████▋                     | 378 kB 37.3 MB/s eta 0:00:01\r\u001b[K     |██████████▉                     | 389 kB 37.3 MB/s eta 0:00:01\r\u001b[K     |███████████▏                    | 399 kB 37.3 MB/s eta 0:00:01\r\u001b[K     |███████████▌                    | 409 kB 37.3 MB/s eta 0:00:01\r\u001b[K     |███████████▊                    | 419 kB 37.3 MB/s eta 0:00:01\r\u001b[K     |████████████                    | 430 kB 37.3 MB/s eta 0:00:01\r\u001b[K     |████████████▎                   | 440 kB 37.3 MB/s eta 0:00:01\r\u001b[K     |████████████▋                   | 450 kB 37.3 MB/s eta 0:00:01\r\u001b[K     |█████████████                   | 460 kB 37.3 MB/s eta 0:00:01\r\u001b[K     |█████████████▏                  | 471 kB 37.3 MB/s eta 0:00:01\r\u001b[K     |█████████████▌                  | 481 kB 37.3 MB/s eta 0:00:01\r\u001b[K     |█████████████▊                  | 491 kB 37.3 MB/s eta 0:00:01\r\u001b[K     |██████████████                  | 501 kB 37.3 MB/s eta 0:00:01\r\u001b[K     |██████████████▎                 | 512 kB 37.3 MB/s eta 0:00:01\r\u001b[K     |██████████████▋                 | 522 kB 37.3 MB/s eta 0:00:01\r\u001b[K     |███████████████                 | 532 kB 37.3 MB/s eta 0:00:01\r\u001b[K     |███████████████▏                | 542 kB 37.3 MB/s eta 0:00:01\r\u001b[K     |███████████████▌                | 552 kB 37.3 MB/s eta 0:00:01\r\u001b[K     |███████████████▊                | 563 kB 37.3 MB/s eta 0:00:01\r\u001b[K     |████████████████                | 573 kB 37.3 MB/s eta 0:00:01\r\u001b[K     |████████████████▎               | 583 kB 37.3 MB/s eta 0:00:01\r\u001b[K     |████████████████▋               | 593 kB 37.3 MB/s eta 0:00:01\r\u001b[K     |█████████████████               | 604 kB 37.3 MB/s eta 0:00:01\r\u001b[K     |█████████████████▏              | 614 kB 37.3 MB/s eta 0:00:01\r\u001b[K     |█████████████████▌              | 624 kB 37.3 MB/s eta 0:00:01\r\u001b[K     |█████████████████▊              | 634 kB 37.3 MB/s eta 0:00:01\r\u001b[K     |██████████████████              | 645 kB 37.3 MB/s eta 0:00:01\r\u001b[K     |██████████████████▍             | 655 kB 37.3 MB/s eta 0:00:01\r\u001b[K     |██████████████████▋             | 665 kB 37.3 MB/s eta 0:00:01\r\u001b[K     |███████████████████             | 675 kB 37.3 MB/s eta 0:00:01\r\u001b[K     |███████████████████▏            | 686 kB 37.3 MB/s eta 0:00:01\r\u001b[K     |███████████████████▌            | 696 kB 37.3 MB/s eta 0:00:01\r\u001b[K     |███████████████████▊            | 706 kB 37.3 MB/s eta 0:00:01\r\u001b[K     |████████████████████            | 716 kB 37.3 MB/s eta 0:00:01\r\u001b[K     |████████████████████▍           | 727 kB 37.3 MB/s eta 0:00:01\r\u001b[K     |████████████████████▋           | 737 kB 37.3 MB/s eta 0:00:01\r\u001b[K     |█████████████████████           | 747 kB 37.3 MB/s eta 0:00:01\r\u001b[K     |█████████████████████▏          | 757 kB 37.3 MB/s eta 0:00:01\r\u001b[K     |█████████████████████▌          | 768 kB 37.3 MB/s eta 0:00:01\r\u001b[K     |█████████████████████▊          | 778 kB 37.3 MB/s eta 0:00:01\r\u001b[K     |██████████████████████          | 788 kB 37.3 MB/s eta 0:00:01\r\u001b[K     |██████████████████████▍         | 798 kB 37.3 MB/s eta 0:00:01\r\u001b[K     |██████████████████████▋         | 808 kB 37.3 MB/s eta 0:00:01\r\u001b[K     |███████████████████████         | 819 kB 37.3 MB/s eta 0:00:01\r\u001b[K     |███████████████████████▏        | 829 kB 37.3 MB/s eta 0:00:01\r\u001b[K     |███████████████████████▌        | 839 kB 37.3 MB/s eta 0:00:01\r\u001b[K     |███████████████████████▉        | 849 kB 37.3 MB/s eta 0:00:01\r\u001b[K     |████████████████████████        | 860 kB 37.3 MB/s eta 0:00:01\r\u001b[K     |████████████████████████▍       | 870 kB 37.3 MB/s eta 0:00:01\r\u001b[K     |████████████████████████▋       | 880 kB 37.3 MB/s eta 0:00:01\r\u001b[K     |█████████████████████████       | 890 kB 37.3 MB/s eta 0:00:01\r\u001b[K     |█████████████████████████▏      | 901 kB 37.3 MB/s eta 0:00:01\r\u001b[K     |█████████████████████████▌      | 911 kB 37.3 MB/s eta 0:00:01\r\u001b[K     |█████████████████████████▉      | 921 kB 37.3 MB/s eta 0:00:01\r\u001b[K     |██████████████████████████      | 931 kB 37.3 MB/s eta 0:00:01\r\u001b[K     |██████████████████████████▍     | 942 kB 37.3 MB/s eta 0:00:01\r\u001b[K     |██████████████████████████▋     | 952 kB 37.3 MB/s eta 0:00:01\r\u001b[K     |███████████████████████████     | 962 kB 37.3 MB/s eta 0:00:01\r\u001b[K     |███████████████████████████▏    | 972 kB 37.3 MB/s eta 0:00:01\r\u001b[K     |███████████████████████████▌    | 983 kB 37.3 MB/s eta 0:00:01\r\u001b[K     |███████████████████████████▉    | 993 kB 37.3 MB/s eta 0:00:01\r\u001b[K     |████████████████████████████    | 1.0 MB 37.3 MB/s eta 0:00:01\r\u001b[K     |████████████████████████████▍   | 1.0 MB 37.3 MB/s eta 0:00:01\r\u001b[K     |████████████████████████████▋   | 1.0 MB 37.3 MB/s eta 0:00:01\r\u001b[K     |█████████████████████████████   | 1.0 MB 37.3 MB/s eta 0:00:01\r\u001b[K     |█████████████████████████████▎  | 1.0 MB 37.3 MB/s eta 0:00:01\r\u001b[K     |█████████████████████████████▌  | 1.1 MB 37.3 MB/s eta 0:00:01\r\u001b[K     |█████████████████████████████▉  | 1.1 MB 37.3 MB/s eta 0:00:01\r\u001b[K     |██████████████████████████████  | 1.1 MB 37.3 MB/s eta 0:00:01\r\u001b[K     |██████████████████████████████▍ | 1.1 MB 37.3 MB/s eta 0:00:01\r\u001b[K     |██████████████████████████████▋ | 1.1 MB 37.3 MB/s eta 0:00:01\r\u001b[K     |███████████████████████████████ | 1.1 MB 37.3 MB/s eta 0:00:01\r\u001b[K     |███████████████████████████████▎| 1.1 MB 37.3 MB/s eta 0:00:01\r\u001b[K     |███████████████████████████████▌| 1.1 MB 37.3 MB/s eta 0:00:01\r\u001b[K     |███████████████████████████████▉| 1.1 MB 37.3 MB/s eta 0:00:01\r\u001b[K     |████████████████████████████████| 1.1 MB 37.3 MB/s \n",
            "\u001b[?25h  Installing build dependencies ... \u001b[?25l\u001b[?25hdone\n",
            "  Getting requirements to build wheel ... \u001b[?25l\u001b[?25hdone\n",
            "  Installing backend dependencies ... \u001b[?25l\u001b[?25hdone\n",
            "    Preparing wheel metadata ... \u001b[?25l\u001b[?25hdone\n",
            "Requirement already satisfied: tqdm>=4.27 in /usr/local/lib/python3.7/dist-packages (from implicit) (4.62.3)\n",
            "Requirement already satisfied: numpy in /usr/local/lib/python3.7/dist-packages (from implicit) (1.19.5)\n",
            "Requirement already satisfied: scipy>=0.16 in /usr/local/lib/python3.7/dist-packages (from implicit) (1.4.1)\n",
            "Building wheels for collected packages: implicit\n",
            "  Building wheel for implicit (PEP 517) ... \u001b[?25l\u001b[?25hdone\n",
            "  Created wheel for implicit: filename=implicit-0.4.8-cp37-cp37m-linux_x86_64.whl size=4606550 sha256=ad03ef250202d9d66063df91cc61fdbb41c942633eaa8447317636a6eb59d3da\n",
            "  Stored in directory: /root/.cache/pip/wheels/88/e6/34/25e73cccbaf1a961154bb562a5f86123b68fdbf40e306073d6\n",
            "Successfully built implicit\n",
            "Installing collected packages: implicit\n",
            "Successfully installed implicit-0.4.8\n"
          ]
        }
      ]
    },
    {
      "cell_type": "code",
      "metadata": {
        "colab": {
          "base_uri": "https://localhost:8080/"
        },
        "id": "Iq-9ys2hhAsE",
        "outputId": "1650f889-3107-453f-80a7-1254fe89d8b1"
      },
      "source": [
        "! pip install LightFM"
      ],
      "execution_count": null,
      "outputs": [
        {
          "output_type": "stream",
          "name": "stdout",
          "text": [
            "Collecting LightFM\n",
            "  Downloading lightfm-1.16.tar.gz (310 kB)\n",
            "\u001b[?25l\r\u001b[K     |█                               | 10 kB 22.4 MB/s eta 0:00:01\r\u001b[K     |██▏                             | 20 kB 24.7 MB/s eta 0:00:01\r\u001b[K     |███▏                            | 30 kB 26.6 MB/s eta 0:00:01\r\u001b[K     |████▎                           | 40 kB 27.7 MB/s eta 0:00:01\r\u001b[K     |█████▎                          | 51 kB 29.5 MB/s eta 0:00:01\r\u001b[K     |██████▍                         | 61 kB 31.8 MB/s eta 0:00:01\r\u001b[K     |███████▍                        | 71 kB 30.7 MB/s eta 0:00:01\r\u001b[K     |████████▌                       | 81 kB 32.3 MB/s eta 0:00:01\r\u001b[K     |█████████▌                      | 92 kB 34.1 MB/s eta 0:00:01\r\u001b[K     |██████████▋                     | 102 kB 33.5 MB/s eta 0:00:01\r\u001b[K     |███████████▋                    | 112 kB 33.5 MB/s eta 0:00:01\r\u001b[K     |████████████▊                   | 122 kB 33.5 MB/s eta 0:00:01\r\u001b[K     |█████████████▊                  | 133 kB 33.5 MB/s eta 0:00:01\r\u001b[K     |██████████████▉                 | 143 kB 33.5 MB/s eta 0:00:01\r\u001b[K     |███████████████▉                | 153 kB 33.5 MB/s eta 0:00:01\r\u001b[K     |█████████████████               | 163 kB 33.5 MB/s eta 0:00:01\r\u001b[K     |██████████████████              | 174 kB 33.5 MB/s eta 0:00:01\r\u001b[K     |███████████████████             | 184 kB 33.5 MB/s eta 0:00:01\r\u001b[K     |████████████████████            | 194 kB 33.5 MB/s eta 0:00:01\r\u001b[K     |█████████████████████▏          | 204 kB 33.5 MB/s eta 0:00:01\r\u001b[K     |██████████████████████▏         | 215 kB 33.5 MB/s eta 0:00:01\r\u001b[K     |███████████████████████▎        | 225 kB 33.5 MB/s eta 0:00:01\r\u001b[K     |████████████████████████▎       | 235 kB 33.5 MB/s eta 0:00:01\r\u001b[K     |█████████████████████████▍      | 245 kB 33.5 MB/s eta 0:00:01\r\u001b[K     |██████████████████████████▍     | 256 kB 33.5 MB/s eta 0:00:01\r\u001b[K     |███████████████████████████▌    | 266 kB 33.5 MB/s eta 0:00:01\r\u001b[K     |████████████████████████████▌   | 276 kB 33.5 MB/s eta 0:00:01\r\u001b[K     |█████████████████████████████▋  | 286 kB 33.5 MB/s eta 0:00:01\r\u001b[K     |██████████████████████████████▋ | 296 kB 33.5 MB/s eta 0:00:01\r\u001b[K     |███████████████████████████████▊| 307 kB 33.5 MB/s eta 0:00:01\r\u001b[K     |████████████████████████████████| 310 kB 33.5 MB/s \n",
            "\u001b[?25hRequirement already satisfied: numpy in /usr/local/lib/python3.7/dist-packages (from LightFM) (1.19.5)\n",
            "Requirement already satisfied: scipy>=0.17.0 in /usr/local/lib/python3.7/dist-packages (from LightFM) (1.4.1)\n",
            "Requirement already satisfied: requests in /usr/local/lib/python3.7/dist-packages (from LightFM) (2.23.0)\n",
            "Requirement already satisfied: scikit-learn in /usr/local/lib/python3.7/dist-packages (from LightFM) (0.22.2.post1)\n",
            "Requirement already satisfied: chardet<4,>=3.0.2 in /usr/local/lib/python3.7/dist-packages (from requests->LightFM) (3.0.4)\n",
            "Requirement already satisfied: certifi>=2017.4.17 in /usr/local/lib/python3.7/dist-packages (from requests->LightFM) (2021.5.30)\n",
            "Requirement already satisfied: idna<3,>=2.5 in /usr/local/lib/python3.7/dist-packages (from requests->LightFM) (2.10)\n",
            "Requirement already satisfied: urllib3!=1.25.0,!=1.25.1,<1.26,>=1.21.1 in /usr/local/lib/python3.7/dist-packages (from requests->LightFM) (1.24.3)\n",
            "Requirement already satisfied: joblib>=0.11 in /usr/local/lib/python3.7/dist-packages (from scikit-learn->LightFM) (1.0.1)\n",
            "Building wheels for collected packages: LightFM\n",
            "  Building wheel for LightFM (setup.py) ... \u001b[?25l\u001b[?25hdone\n",
            "  Created wheel for LightFM: filename=lightfm-1.16-cp37-cp37m-linux_x86_64.whl size=705354 sha256=b28b8e651768a7423ee9b962fe6caf66ec481ec0c1e845ab28758de8d750313e\n",
            "  Stored in directory: /root/.cache/pip/wheels/f8/56/28/5772a3bd3413d65f03aa452190b00898b680b10028a1021914\n",
            "Successfully built LightFM\n",
            "Installing collected packages: LightFM\n",
            "Successfully installed LightFM-1.16\n"
          ]
        }
      ]
    },
    {
      "cell_type": "code",
      "metadata": {
        "id": "pV2fB1lXgR5Y"
      },
      "source": [
        "import numpy as np\n",
        "import pandas as pd\n",
        "import matplotlib.pyplot as plt\n",
        "%matplotlib inline\n",
        "\n",
        "# Для работы с матрицами\n",
        "from scipy.sparse import csr_matrix\n",
        "\n",
        "# Матричная факторизация\n",
        "from implicit.als import AlternatingLeastSquares\n",
        "from implicit.nearest_neighbours import ItemItemRecommender  # нужен для одного трюка\n",
        "from implicit.nearest_neighbours import bm25_weight, tfidf_weight\n",
        "\n",
        "# Функции из 1-ого вебинара\n",
        "import os, sys\n",
        "\n",
        "module_path = os.path.abspath(os.path.join(os.pardir))\n",
        "src_path = os.path.join(module_path, \"src\")\n",
        "if module_path not in sys.path:\n",
        "    sys.path.append(module_path)\n",
        "    sys.path.append(src_path)\n",
        "    \n",
        "from src.metrics import precision_at_k, recall_at_k\n",
        "from src.utils import prefilter_items"
      ],
      "execution_count": null,
      "outputs": []
    },
    {
      "cell_type": "code",
      "metadata": {
        "id": "kTdOdak7jsog"
      },
      "source": [
        "from src.recommenders import MainRecommender"
      ],
      "execution_count": null,
      "outputs": []
    },
    {
      "cell_type": "code",
      "metadata": {
        "id": "rC-OLlRAjw6z"
      },
      "source": [
        "data = pd.read_csv('retail_train.csv')\n",
        "item_features = pd.read_csv('product.csv')\n",
        "user_features = pd.read_csv('hh_demographic.csv')\n",
        "\n",
        "# column processing\n",
        "item_features.columns = [col.lower() for col in item_features.columns]\n",
        "user_features.columns = [col.lower() for col in user_features.columns]\n",
        "\n",
        "item_features.rename(columns={'product_id': 'item_id'}, inplace=True)\n",
        "user_features.rename(columns={'household_key': 'user_id'}, inplace=True)"
      ],
      "execution_count": null,
      "outputs": []
    },
    {
      "cell_type": "markdown",
      "metadata": {
        "id": "Yj1BA8Y5kLuG"
      },
      "source": [
        "**retail_train**\n",
        "\n",
        "Таблица взаимодействий. Клиенты, заказы, товары, количество, цены, время, скидки"
      ]
    },
    {
      "cell_type": "code",
      "metadata": {
        "colab": {
          "base_uri": "https://localhost:8080/",
          "height": 206
        },
        "id": "MF9NRJh8kO5W",
        "outputId": "02ad0509-0e2f-4783-a932-aa4285a8f1aa"
      },
      "source": [
        "data.head()"
      ],
      "execution_count": null,
      "outputs": [
        {
          "output_type": "execute_result",
          "data": {
            "text/html": [
              "<div>\n",
              "<style scoped>\n",
              "    .dataframe tbody tr th:only-of-type {\n",
              "        vertical-align: middle;\n",
              "    }\n",
              "\n",
              "    .dataframe tbody tr th {\n",
              "        vertical-align: top;\n",
              "    }\n",
              "\n",
              "    .dataframe thead th {\n",
              "        text-align: right;\n",
              "    }\n",
              "</style>\n",
              "<table border=\"1\" class=\"dataframe\">\n",
              "  <thead>\n",
              "    <tr style=\"text-align: right;\">\n",
              "      <th></th>\n",
              "      <th>user_id</th>\n",
              "      <th>basket_id</th>\n",
              "      <th>day</th>\n",
              "      <th>item_id</th>\n",
              "      <th>quantity</th>\n",
              "      <th>sales_value</th>\n",
              "      <th>store_id</th>\n",
              "      <th>retail_disc</th>\n",
              "      <th>trans_time</th>\n",
              "      <th>week_no</th>\n",
              "      <th>coupon_disc</th>\n",
              "      <th>coupon_match_disc</th>\n",
              "    </tr>\n",
              "  </thead>\n",
              "  <tbody>\n",
              "    <tr>\n",
              "      <th>0</th>\n",
              "      <td>2375</td>\n",
              "      <td>26984851472</td>\n",
              "      <td>1.0</td>\n",
              "      <td>1004906.0</td>\n",
              "      <td>1.0</td>\n",
              "      <td>1.39</td>\n",
              "      <td>364.0</td>\n",
              "      <td>-0.60</td>\n",
              "      <td>1631.0</td>\n",
              "      <td>1.0</td>\n",
              "      <td>0.0</td>\n",
              "      <td>0.0</td>\n",
              "    </tr>\n",
              "    <tr>\n",
              "      <th>1</th>\n",
              "      <td>2375</td>\n",
              "      <td>26984851472</td>\n",
              "      <td>1.0</td>\n",
              "      <td>1033142.0</td>\n",
              "      <td>1.0</td>\n",
              "      <td>0.82</td>\n",
              "      <td>364.0</td>\n",
              "      <td>0.00</td>\n",
              "      <td>1631.0</td>\n",
              "      <td>1.0</td>\n",
              "      <td>0.0</td>\n",
              "      <td>0.0</td>\n",
              "    </tr>\n",
              "    <tr>\n",
              "      <th>2</th>\n",
              "      <td>2375</td>\n",
              "      <td>26984851472</td>\n",
              "      <td>1.0</td>\n",
              "      <td>1036325.0</td>\n",
              "      <td>1.0</td>\n",
              "      <td>0.99</td>\n",
              "      <td>364.0</td>\n",
              "      <td>-0.30</td>\n",
              "      <td>1631.0</td>\n",
              "      <td>1.0</td>\n",
              "      <td>0.0</td>\n",
              "      <td>0.0</td>\n",
              "    </tr>\n",
              "    <tr>\n",
              "      <th>3</th>\n",
              "      <td>2375</td>\n",
              "      <td>26984851472</td>\n",
              "      <td>1.0</td>\n",
              "      <td>1082185.0</td>\n",
              "      <td>1.0</td>\n",
              "      <td>1.21</td>\n",
              "      <td>364.0</td>\n",
              "      <td>0.00</td>\n",
              "      <td>1631.0</td>\n",
              "      <td>1.0</td>\n",
              "      <td>0.0</td>\n",
              "      <td>0.0</td>\n",
              "    </tr>\n",
              "    <tr>\n",
              "      <th>4</th>\n",
              "      <td>2375</td>\n",
              "      <td>26984851472</td>\n",
              "      <td>1.0</td>\n",
              "      <td>8160430.0</td>\n",
              "      <td>1.0</td>\n",
              "      <td>1.50</td>\n",
              "      <td>364.0</td>\n",
              "      <td>-0.39</td>\n",
              "      <td>1631.0</td>\n",
              "      <td>1.0</td>\n",
              "      <td>0.0</td>\n",
              "      <td>0.0</td>\n",
              "    </tr>\n",
              "  </tbody>\n",
              "</table>\n",
              "</div>"
            ],
            "text/plain": [
              "   user_id    basket_id  day  ...  week_no  coupon_disc  coupon_match_disc\n",
              "0     2375  26984851472  1.0  ...      1.0          0.0                0.0\n",
              "1     2375  26984851472  1.0  ...      1.0          0.0                0.0\n",
              "2     2375  26984851472  1.0  ...      1.0          0.0                0.0\n",
              "3     2375  26984851472  1.0  ...      1.0          0.0                0.0\n",
              "4     2375  26984851472  1.0  ...      1.0          0.0                0.0\n",
              "\n",
              "[5 rows x 12 columns]"
            ]
          },
          "metadata": {},
          "execution_count": 6
        }
      ]
    },
    {
      "cell_type": "code",
      "metadata": {
        "colab": {
          "base_uri": "https://localhost:8080/",
          "height": 206
        },
        "id": "u2rOpteSkUeQ",
        "outputId": "780557d2-3451-45de-fa3c-41b7f5fce64c"
      },
      "source": [
        "data.tail()"
      ],
      "execution_count": null,
      "outputs": [
        {
          "output_type": "execute_result",
          "data": {
            "text/html": [
              "<div>\n",
              "<style scoped>\n",
              "    .dataframe tbody tr th:only-of-type {\n",
              "        vertical-align: middle;\n",
              "    }\n",
              "\n",
              "    .dataframe tbody tr th {\n",
              "        vertical-align: top;\n",
              "    }\n",
              "\n",
              "    .dataframe thead th {\n",
              "        text-align: right;\n",
              "    }\n",
              "</style>\n",
              "<table border=\"1\" class=\"dataframe\">\n",
              "  <thead>\n",
              "    <tr style=\"text-align: right;\">\n",
              "      <th></th>\n",
              "      <th>user_id</th>\n",
              "      <th>basket_id</th>\n",
              "      <th>day</th>\n",
              "      <th>item_id</th>\n",
              "      <th>quantity</th>\n",
              "      <th>sales_value</th>\n",
              "      <th>store_id</th>\n",
              "      <th>retail_disc</th>\n",
              "      <th>trans_time</th>\n",
              "      <th>week_no</th>\n",
              "      <th>coupon_disc</th>\n",
              "      <th>coupon_match_disc</th>\n",
              "    </tr>\n",
              "  </thead>\n",
              "  <tbody>\n",
              "    <tr>\n",
              "      <th>143597</th>\n",
              "      <td>908</td>\n",
              "      <td>28110745181</td>\n",
              "      <td>95.0</td>\n",
              "      <td>967762.0</td>\n",
              "      <td>1.0</td>\n",
              "      <td>0.89</td>\n",
              "      <td>406.0</td>\n",
              "      <td>0.00</td>\n",
              "      <td>2119.0</td>\n",
              "      <td>14.0</td>\n",
              "      <td>0.0</td>\n",
              "      <td>0.0</td>\n",
              "    </tr>\n",
              "    <tr>\n",
              "      <th>143598</th>\n",
              "      <td>908</td>\n",
              "      <td>28110745181</td>\n",
              "      <td>95.0</td>\n",
              "      <td>971078.0</td>\n",
              "      <td>2.0</td>\n",
              "      <td>4.00</td>\n",
              "      <td>406.0</td>\n",
              "      <td>-0.78</td>\n",
              "      <td>2119.0</td>\n",
              "      <td>14.0</td>\n",
              "      <td>0.0</td>\n",
              "      <td>0.0</td>\n",
              "    </tr>\n",
              "    <tr>\n",
              "      <th>143599</th>\n",
              "      <td>908</td>\n",
              "      <td>28110745181</td>\n",
              "      <td>95.0</td>\n",
              "      <td>1009128.0</td>\n",
              "      <td>1.0</td>\n",
              "      <td>1.79</td>\n",
              "      <td>406.0</td>\n",
              "      <td>0.00</td>\n",
              "      <td>2119.0</td>\n",
              "      <td>14.0</td>\n",
              "      <td>0.0</td>\n",
              "      <td>0.0</td>\n",
              "    </tr>\n",
              "    <tr>\n",
              "      <th>143600</th>\n",
              "      <td>908</td>\n",
              "      <td>28110745181</td>\n",
              "      <td>95.0</td>\n",
              "      <td>1039348.0</td>\n",
              "      <td>2.0</td>\n",
              "      <td>4.00</td>\n",
              "      <td>406.0</td>\n",
              "      <td>-0.98</td>\n",
              "      <td>2119.0</td>\n",
              "      <td>14.0</td>\n",
              "      <td>0.0</td>\n",
              "      <td>0.0</td>\n",
              "    </tr>\n",
              "    <tr>\n",
              "      <th>143601</th>\n",
              "      <td>1291</td>\n",
              "      <td>28110750453</td>\n",
              "      <td>NaN</td>\n",
              "      <td>NaN</td>\n",
              "      <td>NaN</td>\n",
              "      <td>NaN</td>\n",
              "      <td>NaN</td>\n",
              "      <td>NaN</td>\n",
              "      <td>NaN</td>\n",
              "      <td>NaN</td>\n",
              "      <td>NaN</td>\n",
              "      <td>NaN</td>\n",
              "    </tr>\n",
              "  </tbody>\n",
              "</table>\n",
              "</div>"
            ],
            "text/plain": [
              "        user_id    basket_id   day  ...  week_no  coupon_disc  coupon_match_disc\n",
              "143597      908  28110745181  95.0  ...     14.0          0.0                0.0\n",
              "143598      908  28110745181  95.0  ...     14.0          0.0                0.0\n",
              "143599      908  28110745181  95.0  ...     14.0          0.0                0.0\n",
              "143600      908  28110745181  95.0  ...     14.0          0.0                0.0\n",
              "143601     1291  28110750453   NaN  ...      NaN          NaN                NaN\n",
              "\n",
              "[5 rows x 12 columns]"
            ]
          },
          "metadata": {},
          "execution_count": 7
        }
      ]
    },
    {
      "cell_type": "code",
      "metadata": {
        "colab": {
          "base_uri": "https://localhost:8080/"
        },
        "id": "M32iHWy_kaPH",
        "outputId": "4ebcbb6b-2630-48ae-987c-7bc856383380"
      },
      "source": [
        "data.info()"
      ],
      "execution_count": null,
      "outputs": [
        {
          "output_type": "stream",
          "name": "stdout",
          "text": [
            "<class 'pandas.core.frame.DataFrame'>\n",
            "RangeIndex: 143602 entries, 0 to 143601\n",
            "Data columns (total 12 columns):\n",
            " #   Column             Non-Null Count   Dtype  \n",
            "---  ------             --------------   -----  \n",
            " 0   user_id            143602 non-null  int64  \n",
            " 1   basket_id          143602 non-null  int64  \n",
            " 2   day                143601 non-null  float64\n",
            " 3   item_id            143601 non-null  float64\n",
            " 4   quantity           143601 non-null  float64\n",
            " 5   sales_value        143601 non-null  float64\n",
            " 6   store_id           143601 non-null  float64\n",
            " 7   retail_disc        143601 non-null  float64\n",
            " 8   trans_time         143601 non-null  float64\n",
            " 9   week_no            143601 non-null  float64\n",
            " 10  coupon_disc        143601 non-null  float64\n",
            " 11  coupon_match_disc  143601 non-null  float64\n",
            "dtypes: float64(10), int64(2)\n",
            "memory usage: 13.1 MB\n"
          ]
        }
      ]
    },
    {
      "cell_type": "markdown",
      "metadata": {
        "id": "kJS6dS1Xkf6r"
      },
      "source": [
        "Числовые значения, пропусков нет, категориальных нет (есть числовые идентификаторы клиентов, заказов, товаров)."
      ]
    },
    {
      "cell_type": "code",
      "metadata": {
        "colab": {
          "base_uri": "https://localhost:8080/",
          "height": 320
        },
        "id": "KNGgtG9ZkgzB",
        "outputId": "07e62107-2c0f-4d36-9559-f286ee5920f2"
      },
      "source": [
        "data.describe()"
      ],
      "execution_count": null,
      "outputs": [
        {
          "output_type": "execute_result",
          "data": {
            "text/html": [
              "<div>\n",
              "<style scoped>\n",
              "    .dataframe tbody tr th:only-of-type {\n",
              "        vertical-align: middle;\n",
              "    }\n",
              "\n",
              "    .dataframe tbody tr th {\n",
              "        vertical-align: top;\n",
              "    }\n",
              "\n",
              "    .dataframe thead th {\n",
              "        text-align: right;\n",
              "    }\n",
              "</style>\n",
              "<table border=\"1\" class=\"dataframe\">\n",
              "  <thead>\n",
              "    <tr style=\"text-align: right;\">\n",
              "      <th></th>\n",
              "      <th>user_id</th>\n",
              "      <th>basket_id</th>\n",
              "      <th>day</th>\n",
              "      <th>item_id</th>\n",
              "      <th>quantity</th>\n",
              "      <th>sales_value</th>\n",
              "      <th>store_id</th>\n",
              "      <th>retail_disc</th>\n",
              "      <th>trans_time</th>\n",
              "      <th>week_no</th>\n",
              "      <th>coupon_disc</th>\n",
              "      <th>coupon_match_disc</th>\n",
              "    </tr>\n",
              "  </thead>\n",
              "  <tbody>\n",
              "    <tr>\n",
              "      <th>count</th>\n",
              "      <td>143602.000000</td>\n",
              "      <td>1.436020e+05</td>\n",
              "      <td>143601.000000</td>\n",
              "      <td>1.436010e+05</td>\n",
              "      <td>143601.000000</td>\n",
              "      <td>143601.000000</td>\n",
              "      <td>143601.000000</td>\n",
              "      <td>143601.000000</td>\n",
              "      <td>143601.000000</td>\n",
              "      <td>143601.000000</td>\n",
              "      <td>143601.000000</td>\n",
              "      <td>143601.000000</td>\n",
              "    </tr>\n",
              "    <tr>\n",
              "      <th>mean</th>\n",
              "      <td>1272.949973</td>\n",
              "      <td>2.771454e+10</td>\n",
              "      <td>61.624348</td>\n",
              "      <td>2.084514e+06</td>\n",
              "      <td>59.101678</td>\n",
              "      <td>2.982365</td>\n",
              "      <td>2477.488792</td>\n",
              "      <td>-0.567646</td>\n",
              "      <td>1601.484126</td>\n",
              "      <td>9.493367</td>\n",
              "      <td>-0.011226</td>\n",
              "      <td>-0.001990</td>\n",
              "    </tr>\n",
              "    <tr>\n",
              "      <th>std</th>\n",
              "      <td>732.458522</td>\n",
              "      <td>2.909231e+08</td>\n",
              "      <td>24.217352</td>\n",
              "      <td>2.530045e+06</td>\n",
              "      <td>861.603549</td>\n",
              "      <td>3.662724</td>\n",
              "      <td>7808.665022</td>\n",
              "      <td>1.153765</td>\n",
              "      <td>410.436685</td>\n",
              "      <td>3.476325</td>\n",
              "      <td>0.182483</td>\n",
              "      <td>0.031894</td>\n",
              "    </tr>\n",
              "    <tr>\n",
              "      <th>min</th>\n",
              "      <td>1.000000</td>\n",
              "      <td>2.698485e+10</td>\n",
              "      <td>1.000000</td>\n",
              "      <td>2.669100e+04</td>\n",
              "      <td>0.000000</td>\n",
              "      <td>0.000000</td>\n",
              "      <td>1.000000</td>\n",
              "      <td>-75.000000</td>\n",
              "      <td>0.000000</td>\n",
              "      <td>1.000000</td>\n",
              "      <td>-16.990000</td>\n",
              "      <td>-2.700000</td>\n",
              "    </tr>\n",
              "    <tr>\n",
              "      <th>25%</th>\n",
              "      <td>641.000000</td>\n",
              "      <td>2.750532e+10</td>\n",
              "      <td>44.000000</td>\n",
              "      <td>9.098940e+05</td>\n",
              "      <td>1.000000</td>\n",
              "      <td>1.290000</td>\n",
              "      <td>327.000000</td>\n",
              "      <td>-0.790000</td>\n",
              "      <td>1327.000000</td>\n",
              "      <td>7.000000</td>\n",
              "      <td>0.000000</td>\n",
              "      <td>0.000000</td>\n",
              "    </tr>\n",
              "    <tr>\n",
              "      <th>50%</th>\n",
              "      <td>1248.000000</td>\n",
              "      <td>2.777423e+10</td>\n",
              "      <td>67.000000</td>\n",
              "      <td>1.013321e+06</td>\n",
              "      <td>1.000000</td>\n",
              "      <td>2.000000</td>\n",
              "      <td>367.000000</td>\n",
              "      <td>-0.140000</td>\n",
              "      <td>1640.000000</td>\n",
              "      <td>10.000000</td>\n",
              "      <td>0.000000</td>\n",
              "      <td>0.000000</td>\n",
              "    </tr>\n",
              "    <tr>\n",
              "      <th>75%</th>\n",
              "      <td>1937.000000</td>\n",
              "      <td>2.795069e+10</td>\n",
              "      <td>82.000000</td>\n",
              "      <td>1.110843e+06</td>\n",
              "      <td>1.000000</td>\n",
              "      <td>3.490000</td>\n",
              "      <td>412.000000</td>\n",
              "      <td>0.000000</td>\n",
              "      <td>1915.000000</td>\n",
              "      <td>12.000000</td>\n",
              "      <td>0.000000</td>\n",
              "      <td>0.000000</td>\n",
              "    </tr>\n",
              "    <tr>\n",
              "      <th>max</th>\n",
              "      <td>2500.000000</td>\n",
              "      <td>2.811075e+10</td>\n",
              "      <td>96.000000</td>\n",
              "      <td>1.215964e+07</td>\n",
              "      <td>39365.000000</td>\n",
              "      <td>400.000000</td>\n",
              "      <td>32004.000000</td>\n",
              "      <td>0.000000</td>\n",
              "      <td>2359.000000</td>\n",
              "      <td>14.000000</td>\n",
              "      <td>0.000000</td>\n",
              "      <td>0.000000</td>\n",
              "    </tr>\n",
              "  </tbody>\n",
              "</table>\n",
              "</div>"
            ],
            "text/plain": [
              "             user_id     basket_id  ...    coupon_disc  coupon_match_disc\n",
              "count  143602.000000  1.436020e+05  ...  143601.000000      143601.000000\n",
              "mean     1272.949973  2.771454e+10  ...      -0.011226          -0.001990\n",
              "std       732.458522  2.909231e+08  ...       0.182483           0.031894\n",
              "min         1.000000  2.698485e+10  ...     -16.990000          -2.700000\n",
              "25%       641.000000  2.750532e+10  ...       0.000000           0.000000\n",
              "50%      1248.000000  2.777423e+10  ...       0.000000           0.000000\n",
              "75%      1937.000000  2.795069e+10  ...       0.000000           0.000000\n",
              "max      2500.000000  2.811075e+10  ...       0.000000           0.000000\n",
              "\n",
              "[8 rows x 12 columns]"
            ]
          },
          "metadata": {},
          "execution_count": 9
        }
      ]
    },
    {
      "cell_type": "markdown",
      "metadata": {
        "id": "6lVFEvOrknn_"
      },
      "source": [
        "**product**\n",
        "\n",
        "Описание товаров. Идентификаторы товаров, производителей, подразделение на отделы, локальность, описание"
      ]
    },
    {
      "cell_type": "code",
      "metadata": {
        "colab": {
          "base_uri": "https://localhost:8080/",
          "height": 206
        },
        "id": "hmIFC8T7kqwy",
        "outputId": "3923fbdc-9e15-40cb-cded-08fa6fbdefc4"
      },
      "source": [
        "item_features.head()"
      ],
      "execution_count": null,
      "outputs": [
        {
          "output_type": "execute_result",
          "data": {
            "text/html": [
              "<div>\n",
              "<style scoped>\n",
              "    .dataframe tbody tr th:only-of-type {\n",
              "        vertical-align: middle;\n",
              "    }\n",
              "\n",
              "    .dataframe tbody tr th {\n",
              "        vertical-align: top;\n",
              "    }\n",
              "\n",
              "    .dataframe thead th {\n",
              "        text-align: right;\n",
              "    }\n",
              "</style>\n",
              "<table border=\"1\" class=\"dataframe\">\n",
              "  <thead>\n",
              "    <tr style=\"text-align: right;\">\n",
              "      <th></th>\n",
              "      <th>item_id</th>\n",
              "      <th>manufacturer</th>\n",
              "      <th>department</th>\n",
              "      <th>brand</th>\n",
              "      <th>commodity_desc</th>\n",
              "      <th>sub_commodity_desc</th>\n",
              "      <th>curr_size_of_product</th>\n",
              "    </tr>\n",
              "  </thead>\n",
              "  <tbody>\n",
              "    <tr>\n",
              "      <th>0</th>\n",
              "      <td>25671</td>\n",
              "      <td>2</td>\n",
              "      <td>GROCERY</td>\n",
              "      <td>National</td>\n",
              "      <td>FRZN ICE</td>\n",
              "      <td>ICE - CRUSHED/CUBED</td>\n",
              "      <td>22 LB</td>\n",
              "    </tr>\n",
              "    <tr>\n",
              "      <th>1</th>\n",
              "      <td>26081</td>\n",
              "      <td>2</td>\n",
              "      <td>MISC. TRANS.</td>\n",
              "      <td>National</td>\n",
              "      <td>NO COMMODITY DESCRIPTION</td>\n",
              "      <td>NO SUBCOMMODITY DESCRIPTION</td>\n",
              "      <td></td>\n",
              "    </tr>\n",
              "    <tr>\n",
              "      <th>2</th>\n",
              "      <td>26093</td>\n",
              "      <td>69</td>\n",
              "      <td>PASTRY</td>\n",
              "      <td>Private</td>\n",
              "      <td>BREAD</td>\n",
              "      <td>BREAD:ITALIAN/FRENCH</td>\n",
              "      <td></td>\n",
              "    </tr>\n",
              "    <tr>\n",
              "      <th>3</th>\n",
              "      <td>26190</td>\n",
              "      <td>69</td>\n",
              "      <td>GROCERY</td>\n",
              "      <td>Private</td>\n",
              "      <td>FRUIT - SHELF STABLE</td>\n",
              "      <td>APPLE SAUCE</td>\n",
              "      <td>50 OZ</td>\n",
              "    </tr>\n",
              "    <tr>\n",
              "      <th>4</th>\n",
              "      <td>26355</td>\n",
              "      <td>69</td>\n",
              "      <td>GROCERY</td>\n",
              "      <td>Private</td>\n",
              "      <td>COOKIES/CONES</td>\n",
              "      <td>SPECIALTY COOKIES</td>\n",
              "      <td>14 OZ</td>\n",
              "    </tr>\n",
              "  </tbody>\n",
              "</table>\n",
              "</div>"
            ],
            "text/plain": [
              "   item_id  manufacturer  ...           sub_commodity_desc curr_size_of_product\n",
              "0    25671             2  ...          ICE - CRUSHED/CUBED                22 LB\n",
              "1    26081             2  ...  NO SUBCOMMODITY DESCRIPTION                     \n",
              "2    26093            69  ...         BREAD:ITALIAN/FRENCH                     \n",
              "3    26190            69  ...                  APPLE SAUCE                50 OZ\n",
              "4    26355            69  ...            SPECIALTY COOKIES                14 OZ\n",
              "\n",
              "[5 rows x 7 columns]"
            ]
          },
          "metadata": {},
          "execution_count": 10
        }
      ]
    },
    {
      "cell_type": "code",
      "metadata": {
        "colab": {
          "base_uri": "https://localhost:8080/",
          "height": 206
        },
        "id": "bvHT9kvPkvL5",
        "outputId": "543e8d8d-d0ec-4a23-ab0c-8884d411b6fc"
      },
      "source": [
        "item_features.tail()"
      ],
      "execution_count": null,
      "outputs": [
        {
          "output_type": "execute_result",
          "data": {
            "text/html": [
              "<div>\n",
              "<style scoped>\n",
              "    .dataframe tbody tr th:only-of-type {\n",
              "        vertical-align: middle;\n",
              "    }\n",
              "\n",
              "    .dataframe tbody tr th {\n",
              "        vertical-align: top;\n",
              "    }\n",
              "\n",
              "    .dataframe thead th {\n",
              "        text-align: right;\n",
              "    }\n",
              "</style>\n",
              "<table border=\"1\" class=\"dataframe\">\n",
              "  <thead>\n",
              "    <tr style=\"text-align: right;\">\n",
              "      <th></th>\n",
              "      <th>item_id</th>\n",
              "      <th>manufacturer</th>\n",
              "      <th>department</th>\n",
              "      <th>brand</th>\n",
              "      <th>commodity_desc</th>\n",
              "      <th>sub_commodity_desc</th>\n",
              "      <th>curr_size_of_product</th>\n",
              "    </tr>\n",
              "  </thead>\n",
              "  <tbody>\n",
              "    <tr>\n",
              "      <th>92348</th>\n",
              "      <td>18293142</td>\n",
              "      <td>6384</td>\n",
              "      <td>DRUG GM</td>\n",
              "      <td>National</td>\n",
              "      <td>BOOKSTORE</td>\n",
              "      <td>PAPERBACK BOOKS</td>\n",
              "      <td></td>\n",
              "    </tr>\n",
              "    <tr>\n",
              "      <th>92349</th>\n",
              "      <td>18293439</td>\n",
              "      <td>6393</td>\n",
              "      <td>DRUG GM</td>\n",
              "      <td>National</td>\n",
              "      <td>BOOKSTORE</td>\n",
              "      <td>CHILDRENS LOW END</td>\n",
              "      <td></td>\n",
              "    </tr>\n",
              "    <tr>\n",
              "      <th>92350</th>\n",
              "      <td>18293696</td>\n",
              "      <td>6406</td>\n",
              "      <td>DRUG GM</td>\n",
              "      <td>National</td>\n",
              "      <td>BOOKSTORE</td>\n",
              "      <td>PAPERBACK BEST SELLER</td>\n",
              "      <td></td>\n",
              "    </tr>\n",
              "    <tr>\n",
              "      <th>92351</th>\n",
              "      <td>18294080</td>\n",
              "      <td>6442</td>\n",
              "      <td>DRUG GM</td>\n",
              "      <td>National</td>\n",
              "      <td>BOOKSTORE</td>\n",
              "      <td>PAPERBACK BOOKS</td>\n",
              "      <td></td>\n",
              "    </tr>\n",
              "    <tr>\n",
              "      <th>92352</th>\n",
              "      <td>18316298</td>\n",
              "      <td>764</td>\n",
              "      <td>GROCERY</td>\n",
              "      <td>National</td>\n",
              "      <td>PAPER TOWELS</td>\n",
              "      <td>PAPER TOWELS &amp; HOLDERS</td>\n",
              "      <td></td>\n",
              "    </tr>\n",
              "  </tbody>\n",
              "</table>\n",
              "</div>"
            ],
            "text/plain": [
              "        item_id  manufacturer  ...      sub_commodity_desc curr_size_of_product\n",
              "92348  18293142          6384  ...         PAPERBACK BOOKS                     \n",
              "92349  18293439          6393  ...       CHILDRENS LOW END                     \n",
              "92350  18293696          6406  ...   PAPERBACK BEST SELLER                     \n",
              "92351  18294080          6442  ...         PAPERBACK BOOKS                     \n",
              "92352  18316298           764  ...  PAPER TOWELS & HOLDERS                     \n",
              "\n",
              "[5 rows x 7 columns]"
            ]
          },
          "metadata": {},
          "execution_count": 11
        }
      ]
    },
    {
      "cell_type": "code",
      "metadata": {
        "colab": {
          "base_uri": "https://localhost:8080/"
        },
        "id": "7sRGMp_fk24D",
        "outputId": "f206eb10-28f7-4cd7-d33c-eff21f0d6997"
      },
      "source": [
        "item_features.info()"
      ],
      "execution_count": null,
      "outputs": [
        {
          "output_type": "stream",
          "name": "stdout",
          "text": [
            "<class 'pandas.core.frame.DataFrame'>\n",
            "RangeIndex: 92353 entries, 0 to 92352\n",
            "Data columns (total 7 columns):\n",
            " #   Column                Non-Null Count  Dtype \n",
            "---  ------                --------------  ----- \n",
            " 0   item_id               92353 non-null  int64 \n",
            " 1   manufacturer          92353 non-null  int64 \n",
            " 2   department            92353 non-null  object\n",
            " 3   brand                 92353 non-null  object\n",
            " 4   commodity_desc        92353 non-null  object\n",
            " 5   sub_commodity_desc    92353 non-null  object\n",
            " 6   curr_size_of_product  92353 non-null  object\n",
            "dtypes: int64(2), object(5)\n",
            "memory usage: 4.9+ MB\n"
          ]
        }
      ]
    },
    {
      "cell_type": "markdown",
      "metadata": {
        "id": "5jx-QOgck60-"
      },
      "source": [
        "Нет пропусков, но в строковых описаниях в столбце \"urr_size_of_product\" есть пустые строки"
      ]
    },
    {
      "cell_type": "code",
      "metadata": {
        "colab": {
          "base_uri": "https://localhost:8080/",
          "height": 300
        },
        "id": "Krcz-20Ek8mu",
        "outputId": "27cbcfe3-955a-4ebd-cfb2-2cdb20c822f9"
      },
      "source": [
        "item_features.describe()"
      ],
      "execution_count": null,
      "outputs": [
        {
          "output_type": "execute_result",
          "data": {
            "text/html": [
              "<div>\n",
              "<style scoped>\n",
              "    .dataframe tbody tr th:only-of-type {\n",
              "        vertical-align: middle;\n",
              "    }\n",
              "\n",
              "    .dataframe tbody tr th {\n",
              "        vertical-align: top;\n",
              "    }\n",
              "\n",
              "    .dataframe thead th {\n",
              "        text-align: right;\n",
              "    }\n",
              "</style>\n",
              "<table border=\"1\" class=\"dataframe\">\n",
              "  <thead>\n",
              "    <tr style=\"text-align: right;\">\n",
              "      <th></th>\n",
              "      <th>item_id</th>\n",
              "      <th>manufacturer</th>\n",
              "    </tr>\n",
              "  </thead>\n",
              "  <tbody>\n",
              "    <tr>\n",
              "      <th>count</th>\n",
              "      <td>9.235300e+04</td>\n",
              "      <td>92353.00000</td>\n",
              "    </tr>\n",
              "    <tr>\n",
              "      <th>mean</th>\n",
              "      <td>5.328353e+06</td>\n",
              "      <td>1739.22833</td>\n",
              "    </tr>\n",
              "    <tr>\n",
              "      <th>std</th>\n",
              "      <td>5.359937e+06</td>\n",
              "      <td>1818.26957</td>\n",
              "    </tr>\n",
              "    <tr>\n",
              "      <th>min</th>\n",
              "      <td>2.567100e+04</td>\n",
              "      <td>1.00000</td>\n",
              "    </tr>\n",
              "    <tr>\n",
              "      <th>25%</th>\n",
              "      <td>9.706280e+05</td>\n",
              "      <td>328.00000</td>\n",
              "    </tr>\n",
              "    <tr>\n",
              "      <th>50%</th>\n",
              "      <td>1.621091e+06</td>\n",
              "      <td>1094.00000</td>\n",
              "    </tr>\n",
              "    <tr>\n",
              "      <th>75%</th>\n",
              "      <td>9.704770e+06</td>\n",
              "      <td>2264.00000</td>\n",
              "    </tr>\n",
              "    <tr>\n",
              "      <th>max</th>\n",
              "      <td>1.831630e+07</td>\n",
              "      <td>6477.00000</td>\n",
              "    </tr>\n",
              "  </tbody>\n",
              "</table>\n",
              "</div>"
            ],
            "text/plain": [
              "            item_id  manufacturer\n",
              "count  9.235300e+04   92353.00000\n",
              "mean   5.328353e+06    1739.22833\n",
              "std    5.359937e+06    1818.26957\n",
              "min    2.567100e+04       1.00000\n",
              "25%    9.706280e+05     328.00000\n",
              "50%    1.621091e+06    1094.00000\n",
              "75%    9.704770e+06    2264.00000\n",
              "max    1.831630e+07    6477.00000"
            ]
          },
          "metadata": {},
          "execution_count": 13
        }
      ]
    },
    {
      "cell_type": "code",
      "metadata": {
        "id": "QLux1Jk8lDLZ"
      },
      "source": [
        "def print_categorical(data):\n",
        "    for cat_colname in data.columns:\n",
        "        if data[cat_colname].nunique() < 310:\n",
        "            print(str(cat_colname) + '\\n\\n' + str(data[cat_colname].unique()) + '\\n\\n')\n",
        "            print(data.groupby(cat_colname)[cat_colname].count())\n",
        "            print('*' * 100 + '\\n')"
      ],
      "execution_count": null,
      "outputs": []
    },
    {
      "cell_type": "code",
      "metadata": {
        "colab": {
          "base_uri": "https://localhost:8080/"
        },
        "id": "ZvlJ4UA-lGTP",
        "outputId": "49f5cea6-cd19-4425-d4d9-2c46afd19eb6"
      },
      "source": [
        "print_categorical(item_features)"
      ],
      "execution_count": null,
      "outputs": [
        {
          "output_type": "stream",
          "name": "stdout",
          "text": [
            "department\n",
            "\n",
            "['GROCERY' 'MISC. TRANS.' 'PASTRY' 'DRUG GM' 'MEAT-PCKGD' 'SEAFOOD-PCKGD'\n",
            " 'PRODUCE' 'NUTRITION' 'DELI' 'COSMETICS' 'MEAT' 'FLORAL'\n",
            " 'TRAVEL & LEISUR' 'SEAFOOD' 'MISC SALES TRAN' 'SALAD BAR' 'KIOSK-GAS'\n",
            " 'ELECT &PLUMBING' 'GRO BAKERY' 'GM MERCH EXP' 'FROZEN GROCERY'\n",
            " 'COUP/STR & MFG' 'SPIRITS' 'GARDEN CENTER' 'TOYS' 'CHARITABLE CONT'\n",
            " 'RESTAURANT' 'RX' 'PROD-WHS SALES' 'MEAT-WHSE' 'DAIRY DELI' 'CHEF SHOPPE'\n",
            " 'HBC' 'DELI/SNACK BAR' 'PORK' 'AUTOMOTIVE' 'VIDEO RENTAL' ' '\n",
            " 'CNTRL/STORE SUP' 'HOUSEWARES' 'POSTAL CENTER' 'PHOTO' 'VIDEO'\n",
            " 'PHARMACY SUPPLY']\n",
            "\n",
            "\n",
            "department\n",
            "                      15\n",
            "AUTOMOTIVE             2\n",
            "CHARITABLE CONT        2\n",
            "CHEF SHOPPE           14\n",
            "CNTRL/STORE SUP        4\n",
            "COSMETICS           3011\n",
            "COUP/STR & MFG        39\n",
            "DAIRY DELI             3\n",
            "DELI                2354\n",
            "DELI/SNACK BAR         2\n",
            "DRUG GM            31529\n",
            "ELECT &PLUMBING        1\n",
            "FLORAL               938\n",
            "FROZEN GROCERY        23\n",
            "GARDEN CENTER        128\n",
            "GM MERCH EXP           3\n",
            "GRO BAKERY             2\n",
            "GROCERY            39021\n",
            "HBC                    1\n",
            "HOUSEWARES             1\n",
            "KIOSK-GAS             16\n",
            "MEAT                2544\n",
            "MEAT-PCKGD          2427\n",
            "MEAT-WHSE              1\n",
            "MISC SALES TRAN       88\n",
            "MISC. TRANS.         490\n",
            "NUTRITION           2914\n",
            "PASTRY              2149\n",
            "PHARMACY SUPPLY        1\n",
            "PHOTO                  2\n",
            "PORK                   1\n",
            "POSTAL CENTER          3\n",
            "PROD-WHS SALES         2\n",
            "PRODUCE             3118\n",
            "RESTAURANT           102\n",
            "RX                     9\n",
            "SALAD BAR             48\n",
            "SEAFOOD              369\n",
            "SEAFOOD-PCKGD        563\n",
            "SPIRITS              377\n",
            "TOYS                   3\n",
            "TRAVEL & LEISUR       28\n",
            "VIDEO                  2\n",
            "VIDEO RENTAL           3\n",
            "Name: department, dtype: int64\n",
            "****************************************************************************************************\n",
            "\n",
            "brand\n",
            "\n",
            "['National' 'Private']\n",
            "\n",
            "\n",
            "brand\n",
            "National    78537\n",
            "Private     13816\n",
            "Name: brand, dtype: int64\n",
            "****************************************************************************************************\n",
            "\n",
            "commodity_desc\n",
            "\n",
            "['FRZN ICE' 'NO COMMODITY DESCRIPTION' 'BREAD' 'FRUIT - SHELF STABLE'\n",
            " 'COOKIES/CONES' 'SPICES & EXTRACTS' 'VITAMINS' 'BREAKFAST SWEETS'\n",
            " 'PNT BTR/JELLY/JAMS' 'ICE CREAM/MILK/SHERBTS' 'MAGAZINE' 'AIR CARE'\n",
            " 'CHEESE' 'SHORTENING/OIL' 'COFFEE' 'DIETARY AID PRODUCTS'\n",
            " 'PAPER HOUSEWARES' 'BAKED BREAD/BUNS/ROLLS' 'VEGETABLES - SHELF STABLE'\n",
            " 'HISPANIC' 'DINNER MXS:DRY' 'CONDIMENTS/SAUCES' 'FRZN VEGETABLE/VEG DSH'\n",
            " 'BAKING NEEDS' 'DINNER SAUSAGE' 'FRZN FRUITS' 'SEAFOOD - FROZEN'\n",
            " 'HOUSEHOLD CLEANG NEEDS' 'FD WRAPS/BAGS/TRSH BG' 'DRY MIX DESSERTS'\n",
            " 'PICKLE/RELISH/PKLD VEG' 'CAKES' 'BAKING MIXES' 'POTATOES'\n",
            " 'FLUID MILK PRODUCTS' 'SOUP' 'BAKED SWEET GOODS' 'COOKIES'\n",
            " 'DRY BN/VEG/POTATO/RICE' 'FACIAL TISS/DNR NAPKIN' 'FROZEN PIZZA' 'EGGS'\n",
            " 'REFRGRATD DOUGH PRODUCTS' 'HOT CEREAL' 'COLD CEREAL' 'SUGARS/SWEETNERS'\n",
            " 'SEAFOOD - SHELF STABLE' 'POPCORN' 'CANNED JUICES'\n",
            " 'STATIONERY & SCHOOL SUPPLIES' 'COLD AND FLU' 'BABY HBC' 'BAG SNACKS'\n",
            " 'BEANS - CANNED GLASS & MW' 'FROZEN MEAT' 'SOAP - LIQUID & BAR' 'ROLLS'\n",
            " 'NON-DAIRY BEVERAGES' 'KITCHEN GADGETS' 'CRACKERS/MISC BKD FD'\n",
            " 'CONVENIENT BRKFST/WHLSM SNACKS' 'CHIPS&SNACKS' 'CANDY - PACKAGED'\n",
            " 'SOFT DRINKS' 'HAIR CARE PRODUCTS' 'CANDY - CHECKLANE' 'BUTTER'\n",
            " 'FRZN MEAT/MEAT DINNERS' 'SHAVING CARE PRODUCTS'\n",
            " 'WATER - CARBONATED/FLVRD DRINK' 'FRZN BREAKFAST FOODS'\n",
            " 'MILK BY-PRODUCTS' 'FIRST AID PRODUCTS' 'NEWSPAPER' 'SALADS/DIPS'\n",
            " 'INSECTICIDES' 'ORGANICS FRUIT & VEGETABLES' 'ELECTRICAL SUPPPLIES'\n",
            " 'LAUNDRY DETERGENTS' 'JUICE' 'ISOTONIC DRINKS' 'FRZN JCE CONC/DRNKS'\n",
            " 'LAUNDRY ADDITIVES' 'IRONING AND CHEMICALS' 'TEAS' 'DRY NOODLES/PASTA'\n",
            " 'PASTA SAUCE' 'PROCESSED' 'MAKEUP AND TREATMENT' 'ANALGESICS'\n",
            " 'HOSIERY/SOCKS' 'CAT FOOD' 'BATTERIES' 'MOLASSES/SYRUP/PANCAKE MIXS'\n",
            " 'BOOKSTORE' 'BATH TISSUES' 'FROZEN PIE/DESSERTS' 'MEAT - SHELF STABLE'\n",
            " 'MEAT - MISC' 'SPRING/SUMMER SEASONAL' 'LUNCHMEAT'\n",
            " 'BREAKFAST SAUSAGE/SANDWICHES' 'DRIED FRUIT' 'CHARCOAL AND LIGHTER FLUID'\n",
            " 'SALD DRSNG/SNDWCH SPRD' 'LIQUOR' 'FROZEN BREAD/DOUGH'\n",
            " 'HAND/BODY/FACIAL PRODUCTS' 'SNACK NUTS' 'ORAL HYGIENE PRODUCTS'\n",
            " 'BEERS/ALES' 'INFANT FORMULA' 'REFRGRATD JUICES/DRNKS' 'YOGURT'\n",
            " 'DEODORANTS' 'BACON' 'DOG FOODS' 'FRZN NOVELTIES/WTR ICE'\n",
            " 'FEMININE HYGIENE' 'COFFEE FILTERS' 'BROOMS AND MOPS'\n",
            " 'GREETING CARDS/WRAP/PARTY SPLY' 'WAREHOUSE SNACKS' 'DRY SAUCES/GRAVY'\n",
            " 'MARGARINES' 'PWDR/CRYSTL DRNK MX' 'OLIVES' 'MISC. DAIRY' 'COCOA MIXES'\n",
            " 'SALAD MIX' 'HARDWARE SUPPLIES' 'HOT DOGS' 'FLOUR & MEALS'\n",
            " 'SYRUPS/TOPPINGS' 'ANTACIDS' 'BLEACH' 'PAPER TOWELS' 'STONE FRUIT'\n",
            " 'MELONS' 'BERRIES' 'CHICKEN' 'SANDWICHES' 'GRAPES' 'CARROTS' 'APPLES'\n",
            " 'HERBS' 'CIGARETTES' 'HEAT/SERVE' 'BABY FOODS' 'SQUASH'\n",
            " 'VEGETABLES - ALL OTHERS' 'DELI MEATS' 'BEEF' 'FRZN POTATOES' 'CORN'\n",
            " 'CHEESES' 'MISCELLANEOUS' 'CITRUS' 'FROZEN' 'DISHWASH DETERGENTS'\n",
            " 'SWEET GOODS & SNACKS' 'NUTS' 'TROPICAL FRUIT' 'CHICKEN/POULTRY'\n",
            " 'BROCCOLI/CAULIFLOWER' 'SINUS AND ALLERGY' 'MUSHROOMS' 'CANNED MILK'\n",
            " 'ONIONS' 'INFANT CARE PRODUCTS' 'TURKEY' 'WATER' 'CAT LITTER'\n",
            " 'SEAFOOD-FRESH' 'PIES' 'TOBACCO OTHER' 'SEAFOOD - MISC'\n",
            " 'FILM AND CAMERA PRODUCTS' 'PEPPERS-ALL' 'PLASTIC HOUSEWARES'\n",
            " 'FOOT CARE PRODUCTS' 'SHOE CARE' 'FIREWORKS' 'FLORAL-FLOWERING PLANTS'\n",
            " 'SUNTAN' 'CEREAL/BREAKFAST' 'CANDLES/ACCESSORIES' 'COOKWARE & BAKEWARE'\n",
            " 'DISPOSIBLE FOILWARE' 'FLORAL-FRESH CUT' 'VEGETABLES SALAD'\n",
            " 'AUDIO/VIDEO PRODUCTS' 'REFRIGERATED' 'FROZEN CHICKEN' 'SMOKED MEATS'\n",
            " 'VALUE ADDED VEGETABLES' 'EYE AND EAR CARE PRODUCTS'\n",
            " 'SNKS/CKYS/CRKR/CNDY' 'FLORAL BALLOONS' 'AUTOMOTIVE PRODUCTS' 'LAXATIVES'\n",
            " 'DOMESTIC WINE' 'MISC WINE' 'OVERNIGHT PHOTOFINISHING' 'TOMATOES' 'PEARS'\n",
            " 'FITNESS&DIET' 'BATH' 'COUPON/MISC ITEMS' 'PORK'\n",
            " 'PERSONAL CARE APPLIANCES' 'CONDIMENTS' 'BEVERAGE' 'SNACKS'\n",
            " 'VALUE ADDED FRUIT' 'SALAD BAR' 'HAIR CARE ACCESSORIES'\n",
            " 'DIAPERS & DISPOSABLES' 'SMOKING CESSATIONS' 'FUEL' 'PREPARED FOOD'\n",
            " 'PET CARE SUPPLIES' 'COFFEE SHOP' 'COUPON' '(CORP USE ONLY)' 'ROSES'\n",
            " 'PROD SUPPLIES' 'J-HOOKS' 'RICE CAKES' 'LAMB' 'IMPORTED WINE' 'UNKNOWN'\n",
            " 'DELI SPECIALTIES (RETAIL PK)' 'PREPARED/PKGD FOODS' 'FAMILY PLANNING'\n",
            " 'EASTER' 'CIGARS' 'PACKAGED NATURAL SNACKS' 'FLORAL-FOLIAGE PLANTS'\n",
            " 'MISCELLANEOUS CROUTONS' 'COUPONS/STORE & MFG' 'APPAREL'\n",
            " 'PREPAID WIRELESS&ACCESSORIES' 'HOME FREEZING & CANNING SUPPLY'\n",
            " 'IN-STORE PHOTOFINISHING' 'ADULT INCONTINENCE' 'PARTY TRAYS'\n",
            " 'DOMESTIC GOODS' 'FALL AND WINTER SEASONAL' 'TOYS AND GAMES'\n",
            " 'LAWN AND GARDEN SHOP' 'GLASSWARE & DINNERWARE' 'BAKING'\n",
            " 'RESTRICTED DIET' 'FRAGRANCES' 'HALLOWEEN' 'BAKERY PARTY TRAYS' 'SEWING'\n",
            " 'NATURAL HBC' 'BIRD SEED' 'GARDEN CENTER' 'COSMETIC ACCESSORIES'\n",
            " 'ETHNIC PERSONAL CARE' 'GLASSES/VISION AIDS' 'FLORAL- HARD GOODS'\n",
            " 'BABYFOOD' 'TOYS' 'CHRISTMAS  SEASONAL' 'COFFEE SHOP SWEET GOODS&RETAIL'\n",
            " 'DRY TEA/COFFEE/COCO MIX' 'VEAL' 'CONTINUITIES'\n",
            " 'PORTABLE ELECTRIC APPLIANCES' 'VALENTINE' 'FROZEN - BOXED(GROCERY)'\n",
            " 'SERVICE BEVERAGE' 'GIFT & FRUIT BASKETS' 'SUSHI' 'PROPANE'\n",
            " 'FRZN SEAFOOD' 'HOME FURNISHINGS' 'PHARMACY' 'NATURAL VITAMINS'\n",
            " 'DELI SUPPLIES' 'WATCHES/CALCULATORS/LOBBY' 'SEASONAL'\n",
            " 'BOUQUET (NON ROSE)' 'HOME HEALTH CARE' 'RW FRESH PROCESSED MEAT'\n",
            " 'EXOTIC GAME/FOWL' 'NDAIRY/TEAS/JUICE/SOD' 'TICKETS' 'MEAT SUPPLIES'\n",
            " 'NEW AGE' 'FLORAL-ACCESSORIES' 'EASTER LILY' 'MISCELLANEOUS HBC'\n",
            " 'BULK FOODS' 'NON EDIBLE PRODUCTS' 'QUICK SERVICE' 'BOTTLE DEPOSITS' ' '\n",
            " 'DOLLAR VALUE PRODUCTS' 'MISCELLANEOUS(CORP USE ONLY)'\n",
            " 'SPORTS MEMORABLILIA' 'LONG DISTANCE CALLING CARDS' 'PKG.SEAFOOD MISC'\n",
            " 'FROZEN PACKAGE MEAT']\n",
            "\n",
            "\n",
            "commodity_desc\n",
            "                                   15\n",
            "(CORP USE ONLY)                     4\n",
            "ADULT INCONTINENCE                 55\n",
            "AIR CARE                          414\n",
            "ANALGESICS                        485\n",
            "                                 ... \n",
            "WAREHOUSE SNACKS                  298\n",
            "WATCHES/CALCULATORS/LOBBY          25\n",
            "WATER                              74\n",
            "WATER - CARBONATED/FLVRD DRINK    435\n",
            "YOGURT                            686\n",
            "Name: commodity_desc, Length: 308, dtype: int64\n",
            "****************************************************************************************************\n",
            "\n"
          ]
        }
      ]
    },
    {
      "cell_type": "code",
      "metadata": {
        "id": "2NpJmcnTk8ic"
      },
      "source": [
        ""
      ],
      "execution_count": null,
      "outputs": []
    },
    {
      "cell_type": "code",
      "metadata": {
        "colab": {
          "base_uri": "https://localhost:8080/"
        },
        "id": "6DRG7c2UlNQt",
        "outputId": "fd535773-f755-4361-d038-7cfaa6fa09e8"
      },
      "source": [
        "item_features['sub_commodity_desc'].unique()"
      ],
      "execution_count": null,
      "outputs": [
        {
          "output_type": "execute_result",
          "data": {
            "text/plain": [
              "array(['ICE - CRUSHED/CUBED', 'NO SUBCOMMODITY DESCRIPTION',\n",
              "       'BREAD:ITALIAN/FRENCH', ..., 'SEMI MOIST CAT FOOD: BOX',\n",
              "       'BERRIES OTHER', 'ROSES OTHER'], dtype=object)"
            ]
          },
          "metadata": {},
          "execution_count": 16
        }
      ]
    },
    {
      "cell_type": "code",
      "metadata": {
        "colab": {
          "base_uri": "https://localhost:8080/"
        },
        "id": "HHS7AfE_lO37",
        "outputId": "7922706d-89d8-4729-a0e6-8c73f6a228d2"
      },
      "source": [
        "item_features['sub_commodity_desc'].nunique()"
      ],
      "execution_count": null,
      "outputs": [
        {
          "output_type": "execute_result",
          "data": {
            "text/plain": [
              "2383"
            ]
          },
          "metadata": {},
          "execution_count": 17
        }
      ]
    },
    {
      "cell_type": "code",
      "metadata": {
        "colab": {
          "base_uri": "https://localhost:8080/"
        },
        "id": "HhmZaygflTtj",
        "outputId": "823b154a-bfe7-419f-dcc0-73576347af5d"
      },
      "source": [
        "item_features['curr_size_of_product'].unique()"
      ],
      "execution_count": null,
      "outputs": [
        {
          "output_type": "execute_result",
          "data": {
            "text/plain": [
              "array(['22 LB', ' ', '50 OZ', ..., '6.3 IN', '35 LD', '2 LTR PET'],\n",
              "      dtype=object)"
            ]
          },
          "metadata": {},
          "execution_count": 18
        }
      ]
    },
    {
      "cell_type": "code",
      "metadata": {
        "colab": {
          "base_uri": "https://localhost:8080/"
        },
        "id": "kINmuo4Zkxu1",
        "outputId": "e15ae6af-a493-43a9-9eab-f235961edc8f"
      },
      "source": [
        "item_features['curr_size_of_product'].nunique()"
      ],
      "execution_count": null,
      "outputs": [
        {
          "output_type": "execute_result",
          "data": {
            "text/plain": [
              "4345"
            ]
          },
          "metadata": {},
          "execution_count": 19
        }
      ]
    },
    {
      "cell_type": "markdown",
      "metadata": {
        "id": "YweQpJPqk02K"
      },
      "source": [
        "**hh_demographic**\n",
        "\n",
        "Описание клиентов. Идентификаторы клиентов, возрастные группы, семейное положение, группы по доходу, данные по недвижимости и количеству детей"
      ]
    },
    {
      "cell_type": "code",
      "metadata": {
        "colab": {
          "base_uri": "https://localhost:8080/",
          "height": 206
        },
        "id": "6qVEQptvk3Ca",
        "outputId": "2dc84f17-24b9-44bf-b87e-14a18ed94497"
      },
      "source": [
        "user_features.head()"
      ],
      "execution_count": null,
      "outputs": [
        {
          "output_type": "execute_result",
          "data": {
            "text/html": [
              "<div>\n",
              "<style scoped>\n",
              "    .dataframe tbody tr th:only-of-type {\n",
              "        vertical-align: middle;\n",
              "    }\n",
              "\n",
              "    .dataframe tbody tr th {\n",
              "        vertical-align: top;\n",
              "    }\n",
              "\n",
              "    .dataframe thead th {\n",
              "        text-align: right;\n",
              "    }\n",
              "</style>\n",
              "<table border=\"1\" class=\"dataframe\">\n",
              "  <thead>\n",
              "    <tr style=\"text-align: right;\">\n",
              "      <th></th>\n",
              "      <th>age_desc</th>\n",
              "      <th>marital_status_code</th>\n",
              "      <th>income_desc</th>\n",
              "      <th>homeowner_desc</th>\n",
              "      <th>hh_comp_desc</th>\n",
              "      <th>household_size_desc</th>\n",
              "      <th>kid_category_desc</th>\n",
              "      <th>user_id</th>\n",
              "    </tr>\n",
              "  </thead>\n",
              "  <tbody>\n",
              "    <tr>\n",
              "      <th>0</th>\n",
              "      <td>65+</td>\n",
              "      <td>A</td>\n",
              "      <td>35-49K</td>\n",
              "      <td>Homeowner</td>\n",
              "      <td>2 Adults No Kids</td>\n",
              "      <td>2</td>\n",
              "      <td>None/Unknown</td>\n",
              "      <td>1</td>\n",
              "    </tr>\n",
              "    <tr>\n",
              "      <th>1</th>\n",
              "      <td>45-54</td>\n",
              "      <td>A</td>\n",
              "      <td>50-74K</td>\n",
              "      <td>Homeowner</td>\n",
              "      <td>2 Adults No Kids</td>\n",
              "      <td>2</td>\n",
              "      <td>None/Unknown</td>\n",
              "      <td>7</td>\n",
              "    </tr>\n",
              "    <tr>\n",
              "      <th>2</th>\n",
              "      <td>25-34</td>\n",
              "      <td>U</td>\n",
              "      <td>25-34K</td>\n",
              "      <td>Unknown</td>\n",
              "      <td>2 Adults Kids</td>\n",
              "      <td>3</td>\n",
              "      <td>1</td>\n",
              "      <td>8</td>\n",
              "    </tr>\n",
              "    <tr>\n",
              "      <th>3</th>\n",
              "      <td>25-34</td>\n",
              "      <td>U</td>\n",
              "      <td>75-99K</td>\n",
              "      <td>Homeowner</td>\n",
              "      <td>2 Adults Kids</td>\n",
              "      <td>4</td>\n",
              "      <td>2</td>\n",
              "      <td>13</td>\n",
              "    </tr>\n",
              "    <tr>\n",
              "      <th>4</th>\n",
              "      <td>45-54</td>\n",
              "      <td>B</td>\n",
              "      <td>50-74K</td>\n",
              "      <td>Homeowner</td>\n",
              "      <td>Single Female</td>\n",
              "      <td>1</td>\n",
              "      <td>None/Unknown</td>\n",
              "      <td>16</td>\n",
              "    </tr>\n",
              "  </tbody>\n",
              "</table>\n",
              "</div>"
            ],
            "text/plain": [
              "  age_desc marital_status_code  ... kid_category_desc user_id\n",
              "0      65+                   A  ...      None/Unknown       1\n",
              "1    45-54                   A  ...      None/Unknown       7\n",
              "2    25-34                   U  ...                 1       8\n",
              "3    25-34                   U  ...                 2      13\n",
              "4    45-54                   B  ...      None/Unknown      16\n",
              "\n",
              "[5 rows x 8 columns]"
            ]
          },
          "metadata": {},
          "execution_count": 20
        }
      ]
    },
    {
      "cell_type": "code",
      "metadata": {
        "colab": {
          "base_uri": "https://localhost:8080/",
          "height": 206
        },
        "id": "9gupWFESk_CL",
        "outputId": "c214dcb2-ca2f-477c-aa0a-f75e9302dd59"
      },
      "source": [
        "user_features.tail()"
      ],
      "execution_count": null,
      "outputs": [
        {
          "output_type": "execute_result",
          "data": {
            "text/html": [
              "<div>\n",
              "<style scoped>\n",
              "    .dataframe tbody tr th:only-of-type {\n",
              "        vertical-align: middle;\n",
              "    }\n",
              "\n",
              "    .dataframe tbody tr th {\n",
              "        vertical-align: top;\n",
              "    }\n",
              "\n",
              "    .dataframe thead th {\n",
              "        text-align: right;\n",
              "    }\n",
              "</style>\n",
              "<table border=\"1\" class=\"dataframe\">\n",
              "  <thead>\n",
              "    <tr style=\"text-align: right;\">\n",
              "      <th></th>\n",
              "      <th>age_desc</th>\n",
              "      <th>marital_status_code</th>\n",
              "      <th>income_desc</th>\n",
              "      <th>homeowner_desc</th>\n",
              "      <th>hh_comp_desc</th>\n",
              "      <th>household_size_desc</th>\n",
              "      <th>kid_category_desc</th>\n",
              "      <th>user_id</th>\n",
              "    </tr>\n",
              "  </thead>\n",
              "  <tbody>\n",
              "    <tr>\n",
              "      <th>796</th>\n",
              "      <td>35-44</td>\n",
              "      <td>U</td>\n",
              "      <td>50-74K</td>\n",
              "      <td>Homeowner</td>\n",
              "      <td>2 Adults No Kids</td>\n",
              "      <td>2</td>\n",
              "      <td>None/Unknown</td>\n",
              "      <td>2494</td>\n",
              "    </tr>\n",
              "    <tr>\n",
              "      <th>797</th>\n",
              "      <td>45-54</td>\n",
              "      <td>A</td>\n",
              "      <td>75-99K</td>\n",
              "      <td>Homeowner</td>\n",
              "      <td>Unknown</td>\n",
              "      <td>3</td>\n",
              "      <td>1</td>\n",
              "      <td>2496</td>\n",
              "    </tr>\n",
              "    <tr>\n",
              "      <th>798</th>\n",
              "      <td>45-54</td>\n",
              "      <td>U</td>\n",
              "      <td>35-49K</td>\n",
              "      <td>Unknown</td>\n",
              "      <td>Single Male</td>\n",
              "      <td>1</td>\n",
              "      <td>None/Unknown</td>\n",
              "      <td>2497</td>\n",
              "    </tr>\n",
              "    <tr>\n",
              "      <th>799</th>\n",
              "      <td>25-34</td>\n",
              "      <td>U</td>\n",
              "      <td>50-74K</td>\n",
              "      <td>Homeowner</td>\n",
              "      <td>2 Adults No Kids</td>\n",
              "      <td>2</td>\n",
              "      <td>None/Unknown</td>\n",
              "      <td>2498</td>\n",
              "    </tr>\n",
              "    <tr>\n",
              "      <th>800</th>\n",
              "      <td>25-34</td>\n",
              "      <td>U</td>\n",
              "      <td>Under 15K</td>\n",
              "      <td>Unknown</td>\n",
              "      <td>2 Adults Kids</td>\n",
              "      <td>3</td>\n",
              "      <td>1</td>\n",
              "      <td>2499</td>\n",
              "    </tr>\n",
              "  </tbody>\n",
              "</table>\n",
              "</div>"
            ],
            "text/plain": [
              "    age_desc marital_status_code  ... kid_category_desc user_id\n",
              "796    35-44                   U  ...      None/Unknown    2494\n",
              "797    45-54                   A  ...                 1    2496\n",
              "798    45-54                   U  ...      None/Unknown    2497\n",
              "799    25-34                   U  ...      None/Unknown    2498\n",
              "800    25-34                   U  ...                 1    2499\n",
              "\n",
              "[5 rows x 8 columns]"
            ]
          },
          "metadata": {},
          "execution_count": 21
        }
      ]
    },
    {
      "cell_type": "code",
      "metadata": {
        "colab": {
          "base_uri": "https://localhost:8080/"
        },
        "id": "r_0kQN3VlEZ8",
        "outputId": "5c895124-8ca4-4cf2-dfdf-0df1f224d552"
      },
      "source": [
        "user_features.info()"
      ],
      "execution_count": null,
      "outputs": [
        {
          "output_type": "stream",
          "name": "stdout",
          "text": [
            "<class 'pandas.core.frame.DataFrame'>\n",
            "RangeIndex: 801 entries, 0 to 800\n",
            "Data columns (total 8 columns):\n",
            " #   Column               Non-Null Count  Dtype \n",
            "---  ------               --------------  ----- \n",
            " 0   age_desc             801 non-null    object\n",
            " 1   marital_status_code  801 non-null    object\n",
            " 2   income_desc          801 non-null    object\n",
            " 3   homeowner_desc       801 non-null    object\n",
            " 4   hh_comp_desc         801 non-null    object\n",
            " 5   household_size_desc  801 non-null    object\n",
            " 6   kid_category_desc    801 non-null    object\n",
            " 7   user_id              801 non-null    int64 \n",
            "dtypes: int64(1), object(7)\n",
            "memory usage: 50.2+ KB\n"
          ]
        }
      ]
    },
    {
      "cell_type": "code",
      "metadata": {
        "colab": {
          "base_uri": "https://localhost:8080/"
        },
        "id": "b8LanynalGYM",
        "outputId": "5bc7b65f-bf9b-4b23-d74b-1109c9ee77a8"
      },
      "source": [
        "data.user_id.nunique()"
      ],
      "execution_count": null,
      "outputs": [
        {
          "output_type": "execute_result",
          "data": {
            "text/plain": [
              "1857"
            ]
          },
          "metadata": {},
          "execution_count": 23
        }
      ]
    },
    {
      "cell_type": "code",
      "metadata": {
        "colab": {
          "base_uri": "https://localhost:8080/",
          "height": 34
        },
        "id": "bFUsxYbZlL7A",
        "outputId": "24fcdc38-dbdd-4ca9-9791-0ca15fbc8390"
      },
      "source": [
        "f\"{user_features.user_id.nunique()/data.user_id.nunique()*100:.2f}%\""
      ],
      "execution_count": null,
      "outputs": [
        {
          "output_type": "execute_result",
          "data": {
            "application/vnd.google.colaboratory.intrinsic+json": {
              "type": "string"
            },
            "text/plain": [
              "'43.13%'"
            ]
          },
          "metadata": {},
          "execution_count": 24
        }
      ]
    },
    {
      "cell_type": "code",
      "metadata": {
        "colab": {
          "base_uri": "https://localhost:8080/"
        },
        "id": "zNON2AHLlNIJ",
        "outputId": "e44a2391-2c4a-45fd-f9ff-295ff49f9898"
      },
      "source": [
        "u_all = set(data.user_id.unique().tolist())\n",
        "u_inf = set(user_features.user_id.unique().tolist())\n",
        "\n",
        "len(u_all.intersection(u_inf))"
      ],
      "execution_count": null,
      "outputs": [
        {
          "output_type": "execute_result",
          "data": {
            "text/plain": [
              "580"
            ]
          },
          "metadata": {},
          "execution_count": 25
        }
      ]
    },
    {
      "cell_type": "markdown",
      "metadata": {
        "id": "vuiWkkxJlS7p"
      },
      "source": [
        "Пропусков нет, но данные охватывают только 43.13% всех пользователей"
      ]
    },
    {
      "cell_type": "markdown",
      "metadata": {
        "id": "jadFN2pdlXAy"
      },
      "source": [
        "**Фильтрация**\n",
        "\n",
        "Фильтруем 3 самых популярных"
      ]
    },
    {
      "cell_type": "code",
      "metadata": {
        "id": "ftMRP1Y6ldFy"
      },
      "source": [
        "popularity = data.groupby('item_id')['quantity'].sum().reset_index()\n",
        "popularity.rename(columns={'quantity': 'n_sold'}, inplace=True)\n",
        "top_5000 = popularity.sort_values('n_sold', ascending=False).head(5000).item_id.tolist()"
      ],
      "execution_count": null,
      "outputs": []
    },
    {
      "cell_type": "code",
      "metadata": {
        "colab": {
          "base_uri": "https://localhost:8080/",
          "height": 206
        },
        "id": "0OKOQL4Kljnx",
        "outputId": "6d220f90-e937-4a72-8e10-c55c26d6d407"
      },
      "source": [
        "item_features.loc[item_features['item_id'].isin(top_5000[:5])]"
      ],
      "execution_count": null,
      "outputs": [
        {
          "output_type": "execute_result",
          "data": {
            "text/html": [
              "<div>\n",
              "<style scoped>\n",
              "    .dataframe tbody tr th:only-of-type {\n",
              "        vertical-align: middle;\n",
              "    }\n",
              "\n",
              "    .dataframe tbody tr th {\n",
              "        vertical-align: top;\n",
              "    }\n",
              "\n",
              "    .dataframe thead th {\n",
              "        text-align: right;\n",
              "    }\n",
              "</style>\n",
              "<table border=\"1\" class=\"dataframe\">\n",
              "  <thead>\n",
              "    <tr style=\"text-align: right;\">\n",
              "      <th></th>\n",
              "      <th>item_id</th>\n",
              "      <th>manufacturer</th>\n",
              "      <th>department</th>\n",
              "      <th>brand</th>\n",
              "      <th>commodity_desc</th>\n",
              "      <th>sub_commodity_desc</th>\n",
              "      <th>curr_size_of_product</th>\n",
              "    </tr>\n",
              "  </thead>\n",
              "  <tbody>\n",
              "    <tr>\n",
              "      <th>3565</th>\n",
              "      <td>397896</td>\n",
              "      <td>69</td>\n",
              "      <td>KIOSK-GAS</td>\n",
              "      <td>Private</td>\n",
              "      <td>COUPON/MISC ITEMS</td>\n",
              "      <td>GASOLINE-REG UNLEADED</td>\n",
              "      <td></td>\n",
              "    </tr>\n",
              "    <tr>\n",
              "      <th>57181</th>\n",
              "      <td>6533889</td>\n",
              "      <td>69</td>\n",
              "      <td>MISC SALES TRAN</td>\n",
              "      <td>Private</td>\n",
              "      <td>COUPON/MISC ITEMS</td>\n",
              "      <td>GASOLINE-REG UNLEADED</td>\n",
              "      <td></td>\n",
              "    </tr>\n",
              "    <tr>\n",
              "      <th>57216</th>\n",
              "      <td>6534166</td>\n",
              "      <td>69</td>\n",
              "      <td>MISC SALES TRAN</td>\n",
              "      <td>Private</td>\n",
              "      <td>COUPON/MISC ITEMS</td>\n",
              "      <td>GASOLINE-REG UNLEADED</td>\n",
              "      <td></td>\n",
              "    </tr>\n",
              "    <tr>\n",
              "      <th>57221</th>\n",
              "      <td>6534178</td>\n",
              "      <td>69</td>\n",
              "      <td>KIOSK-GAS</td>\n",
              "      <td>Private</td>\n",
              "      <td>COUPON/MISC ITEMS</td>\n",
              "      <td>GASOLINE-REG UNLEADED</td>\n",
              "      <td></td>\n",
              "    </tr>\n",
              "    <tr>\n",
              "      <th>57335</th>\n",
              "      <td>6544236</td>\n",
              "      <td>69</td>\n",
              "      <td>MISC SALES TRAN</td>\n",
              "      <td>Private</td>\n",
              "      <td>COUPON/MISC ITEMS</td>\n",
              "      <td>GASOLINE-REG UNLEADED</td>\n",
              "      <td></td>\n",
              "    </tr>\n",
              "  </tbody>\n",
              "</table>\n",
              "</div>"
            ],
            "text/plain": [
              "       item_id  manufacturer  ...     sub_commodity_desc curr_size_of_product\n",
              "3565    397896            69  ...  GASOLINE-REG UNLEADED                     \n",
              "57181  6533889            69  ...  GASOLINE-REG UNLEADED                     \n",
              "57216  6534166            69  ...  GASOLINE-REG UNLEADED                     \n",
              "57221  6534178            69  ...  GASOLINE-REG UNLEADED                     \n",
              "57335  6544236            69  ...  GASOLINE-REG UNLEADED                     \n",
              "\n",
              "[5 rows x 7 columns]"
            ]
          },
          "metadata": {},
          "execution_count": 27
        }
      ]
    },
    {
      "cell_type": "code",
      "metadata": {
        "id": "Wk4BlQQSlnfe"
      },
      "source": [
        "data.loc[data['item_id'].isin(top_5000[:3]), 'item_id'] = 999999"
      ],
      "execution_count": null,
      "outputs": []
    },
    {
      "cell_type": "markdown",
      "metadata": {
        "id": "KV-xXNo-lyPv"
      },
      "source": [
        "**Уберем товары, которые не продавались за последние 12 месяцев**"
      ]
    },
    {
      "cell_type": "code",
      "metadata": {
        "id": "VeVXmhwblql6"
      },
      "source": [
        "curr_week = data['week_no'].values.max()\n",
        "data.loc[data['week_no']<curr_week-53, 'item_id'] = 999999"
      ],
      "execution_count": null,
      "outputs": []
    },
    {
      "cell_type": "markdown",
      "metadata": {
        "id": "pxeFKPzGmCLP"
      },
      "source": [
        "**Уберем слишком дешевые товары (на них не заработаем). 1 покупка из рассылок стоят < 1$**"
      ]
    },
    {
      "cell_type": "code",
      "metadata": {
        "id": "SwDRKVhdmEdc"
      },
      "source": [
        "mean_price = data.groupby('item_id')['quantity', \"sales_value\"].sum()\n",
        "mean_price[\"mean_price\"] = mean_price[\"sales_value\"] / mean_price[\"quantity\"]\n",
        "cheap_list = mean_price.loc[mean_price[\"mean_price\"]<0.9].index.tolist()\n",
        "data.loc[data['item_id'].isin(cheap_list), 'item_id'] = 999999"
      ],
      "execution_count": null,
      "outputs": []
    },
    {
      "cell_type": "markdown",
      "metadata": {
        "id": "Kdj8yavGmKwd"
      },
      "source": [
        "**Cамые непопулярные**"
      ]
    },
    {
      "cell_type": "code",
      "metadata": {
        "colab": {
          "base_uri": "https://localhost:8080/",
          "height": 206
        },
        "id": "ZDPHxboHmNYt",
        "outputId": "318cf240-ed4b-4dab-9307-284d1e6d4106"
      },
      "source": [
        "popularity_pu = data.groupby('item_id')['user_id'].nunique().reset_index()\n",
        "popularity_pu.rename(columns={'user_id': 'share_unique_users'}, inplace=True)\n",
        "popularity_pu.sort_values('share_unique_users', ascending=False, inplace=True)\n",
        "popularity_pu.tail()"
      ],
      "execution_count": null,
      "outputs": [
        {
          "output_type": "execute_result",
          "data": {
            "text/html": [
              "<div>\n",
              "<style scoped>\n",
              "    .dataframe tbody tr th:only-of-type {\n",
              "        vertical-align: middle;\n",
              "    }\n",
              "\n",
              "    .dataframe tbody tr th {\n",
              "        vertical-align: top;\n",
              "    }\n",
              "\n",
              "    .dataframe thead th {\n",
              "        text-align: right;\n",
              "    }\n",
              "</style>\n",
              "<table border=\"1\" class=\"dataframe\">\n",
              "  <thead>\n",
              "    <tr style=\"text-align: right;\">\n",
              "      <th></th>\n",
              "      <th>item_id</th>\n",
              "      <th>share_unique_users</th>\n",
              "    </tr>\n",
              "  </thead>\n",
              "  <tbody>\n",
              "    <tr>\n",
              "      <th>11046</th>\n",
              "      <td>1018943.0</td>\n",
              "      <td>1</td>\n",
              "    </tr>\n",
              "    <tr>\n",
              "      <th>11047</th>\n",
              "      <td>1018944.0</td>\n",
              "      <td>1</td>\n",
              "    </tr>\n",
              "    <tr>\n",
              "      <th>11051</th>\n",
              "      <td>1018964.0</td>\n",
              "      <td>1</td>\n",
              "    </tr>\n",
              "    <tr>\n",
              "      <th>11052</th>\n",
              "      <td>1018977.0</td>\n",
              "      <td>1</td>\n",
              "    </tr>\n",
              "    <tr>\n",
              "      <th>24365</th>\n",
              "      <td>12159641.0</td>\n",
              "      <td>1</td>\n",
              "    </tr>\n",
              "  </tbody>\n",
              "</table>\n",
              "</div>"
            ],
            "text/plain": [
              "          item_id  share_unique_users\n",
              "11046   1018943.0                   1\n",
              "11047   1018944.0                   1\n",
              "11051   1018964.0                   1\n",
              "11052   1018977.0                   1\n",
              "24365  12159641.0                   1"
            ]
          },
          "metadata": {},
          "execution_count": 31
        }
      ]
    },
    {
      "cell_type": "code",
      "metadata": {
        "colab": {
          "base_uri": "https://localhost:8080/",
          "height": 206
        },
        "id": "vt7pCWvsmVAn",
        "outputId": "522d86f5-11e0-4aaa-9d6a-d843f2928ae1"
      },
      "source": [
        "popularity_pu = data.groupby('item_id')['user_id'].nunique().reset_index()\n",
        "popularity_pu.rename(columns={'user_id': 'share_unique_users'}, inplace=True)\n",
        "popularity_pu['share_unique_users'] = popularity_pu['share_unique_users'] / data['user_id'].nunique()\n",
        "popularity_pu.sort_values('share_unique_users', ascending=False, inplace=True)\n",
        "popularity_pu.head()"
      ],
      "execution_count": null,
      "outputs": [
        {
          "output_type": "execute_result",
          "data": {
            "text/html": [
              "<div>\n",
              "<style scoped>\n",
              "    .dataframe tbody tr th:only-of-type {\n",
              "        vertical-align: middle;\n",
              "    }\n",
              "\n",
              "    .dataframe tbody tr th {\n",
              "        vertical-align: top;\n",
              "    }\n",
              "\n",
              "    .dataframe thead th {\n",
              "        text-align: right;\n",
              "    }\n",
              "</style>\n",
              "<table border=\"1\" class=\"dataframe\">\n",
              "  <thead>\n",
              "    <tr style=\"text-align: right;\">\n",
              "      <th></th>\n",
              "      <th>item_id</th>\n",
              "      <th>share_unique_users</th>\n",
              "    </tr>\n",
              "  </thead>\n",
              "  <tbody>\n",
              "    <tr>\n",
              "      <th>10068</th>\n",
              "      <td>999999.0</td>\n",
              "      <td>0.833064</td>\n",
              "    </tr>\n",
              "    <tr>\n",
              "      <th>14263</th>\n",
              "      <td>1082185.0</td>\n",
              "      <td>0.400108</td>\n",
              "    </tr>\n",
              "    <tr>\n",
              "      <th>11578</th>\n",
              "      <td>1029743.0</td>\n",
              "      <td>0.199785</td>\n",
              "    </tr>\n",
              "    <tr>\n",
              "      <th>9779</th>\n",
              "      <td>995242.0</td>\n",
              "      <td>0.186322</td>\n",
              "    </tr>\n",
              "    <tr>\n",
              "      <th>9093</th>\n",
              "      <td>981760.0</td>\n",
              "      <td>0.169628</td>\n",
              "    </tr>\n",
              "  </tbody>\n",
              "</table>\n",
              "</div>"
            ],
            "text/plain": [
              "         item_id  share_unique_users\n",
              "10068   999999.0            0.833064\n",
              "14263  1082185.0            0.400108\n",
              "11578  1029743.0            0.199785\n",
              "9779    995242.0            0.186322\n",
              "9093    981760.0            0.169628"
            ]
          },
          "metadata": {},
          "execution_count": 32
        }
      ]
    },
    {
      "cell_type": "code",
      "metadata": {
        "colab": {
          "base_uri": "https://localhost:8080/"
        },
        "id": "YF6GgG2YmY9h",
        "outputId": "33e3b134-6a20-4bc4-d73b-51a575244d2c"
      },
      "source": [
        "popularity_pu.shape"
      ],
      "execution_count": null,
      "outputs": [
        {
          "output_type": "execute_result",
          "data": {
            "text/plain": [
              "(24366, 2)"
            ]
          },
          "metadata": {},
          "execution_count": 33
        }
      ]
    },
    {
      "cell_type": "code",
      "metadata": {
        "colab": {
          "base_uri": "https://localhost:8080/",
          "height": 206
        },
        "id": "wT2lvFZNmbsx",
        "outputId": "9fe04b1f-2145-4699-d0cb-08e5075c019f"
      },
      "source": [
        "popularity_pu.tail()"
      ],
      "execution_count": null,
      "outputs": [
        {
          "output_type": "execute_result",
          "data": {
            "text/html": [
              "<div>\n",
              "<style scoped>\n",
              "    .dataframe tbody tr th:only-of-type {\n",
              "        vertical-align: middle;\n",
              "    }\n",
              "\n",
              "    .dataframe tbody tr th {\n",
              "        vertical-align: top;\n",
              "    }\n",
              "\n",
              "    .dataframe thead th {\n",
              "        text-align: right;\n",
              "    }\n",
              "</style>\n",
              "<table border=\"1\" class=\"dataframe\">\n",
              "  <thead>\n",
              "    <tr style=\"text-align: right;\">\n",
              "      <th></th>\n",
              "      <th>item_id</th>\n",
              "      <th>share_unique_users</th>\n",
              "    </tr>\n",
              "  </thead>\n",
              "  <tbody>\n",
              "    <tr>\n",
              "      <th>11046</th>\n",
              "      <td>1018943.0</td>\n",
              "      <td>0.000539</td>\n",
              "    </tr>\n",
              "    <tr>\n",
              "      <th>11047</th>\n",
              "      <td>1018944.0</td>\n",
              "      <td>0.000539</td>\n",
              "    </tr>\n",
              "    <tr>\n",
              "      <th>11051</th>\n",
              "      <td>1018964.0</td>\n",
              "      <td>0.000539</td>\n",
              "    </tr>\n",
              "    <tr>\n",
              "      <th>11052</th>\n",
              "      <td>1018977.0</td>\n",
              "      <td>0.000539</td>\n",
              "    </tr>\n",
              "    <tr>\n",
              "      <th>24365</th>\n",
              "      <td>12159641.0</td>\n",
              "      <td>0.000539</td>\n",
              "    </tr>\n",
              "  </tbody>\n",
              "</table>\n",
              "</div>"
            ],
            "text/plain": [
              "          item_id  share_unique_users\n",
              "11046   1018943.0            0.000539\n",
              "11047   1018944.0            0.000539\n",
              "11051   1018964.0            0.000539\n",
              "11052   1018977.0            0.000539\n",
              "24365  12159641.0            0.000539"
            ]
          },
          "metadata": {},
          "execution_count": 34
        }
      ]
    },
    {
      "cell_type": "code",
      "metadata": {
        "colab": {
          "base_uri": "https://localhost:8080/"
        },
        "id": "jk9KeIPDmfzF",
        "outputId": "62d58b5b-47ad-4a14-d736-007e7eb197c0"
      },
      "source": [
        "popularity_pu.info()"
      ],
      "execution_count": null,
      "outputs": [
        {
          "output_type": "stream",
          "name": "stdout",
          "text": [
            "<class 'pandas.core.frame.DataFrame'>\n",
            "Int64Index: 24366 entries, 10068 to 24365\n",
            "Data columns (total 2 columns):\n",
            " #   Column              Non-Null Count  Dtype  \n",
            "---  ------              --------------  -----  \n",
            " 0   item_id             24366 non-null  float64\n",
            " 1   share_unique_users  24366 non-null  float64\n",
            "dtypes: float64(2)\n",
            "memory usage: 571.1 KB\n"
          ]
        }
      ]
    },
    {
      "cell_type": "code",
      "metadata": {
        "colab": {
          "base_uri": "https://localhost:8080/",
          "height": 424
        },
        "id": "6ZeWQr2FmiYa",
        "outputId": "34d13065-b442-494b-9015-3c04dab0b9b7"
      },
      "source": [
        "popularity_pu[popularity_pu['share_unique_users'] < 0.005]"
      ],
      "execution_count": null,
      "outputs": [
        {
          "output_type": "execute_result",
          "data": {
            "text/html": [
              "<div>\n",
              "<style scoped>\n",
              "    .dataframe tbody tr th:only-of-type {\n",
              "        vertical-align: middle;\n",
              "    }\n",
              "\n",
              "    .dataframe tbody tr th {\n",
              "        vertical-align: top;\n",
              "    }\n",
              "\n",
              "    .dataframe thead th {\n",
              "        text-align: right;\n",
              "    }\n",
              "</style>\n",
              "<table border=\"1\" class=\"dataframe\">\n",
              "  <thead>\n",
              "    <tr style=\"text-align: right;\">\n",
              "      <th></th>\n",
              "      <th>item_id</th>\n",
              "      <th>share_unique_users</th>\n",
              "    </tr>\n",
              "  </thead>\n",
              "  <tbody>\n",
              "    <tr>\n",
              "      <th>9198</th>\n",
              "      <td>983659.0</td>\n",
              "      <td>0.004847</td>\n",
              "    </tr>\n",
              "    <tr>\n",
              "      <th>9982</th>\n",
              "      <td>998666.0</td>\n",
              "      <td>0.004847</td>\n",
              "    </tr>\n",
              "    <tr>\n",
              "      <th>2535</th>\n",
              "      <td>851129.0</td>\n",
              "      <td>0.004847</td>\n",
              "    </tr>\n",
              "    <tr>\n",
              "      <th>16877</th>\n",
              "      <td>1134633.0</td>\n",
              "      <td>0.004847</td>\n",
              "    </tr>\n",
              "    <tr>\n",
              "      <th>2831</th>\n",
              "      <td>856942.0</td>\n",
              "      <td>0.004847</td>\n",
              "    </tr>\n",
              "    <tr>\n",
              "      <th>...</th>\n",
              "      <td>...</td>\n",
              "      <td>...</td>\n",
              "    </tr>\n",
              "    <tr>\n",
              "      <th>11046</th>\n",
              "      <td>1018943.0</td>\n",
              "      <td>0.000539</td>\n",
              "    </tr>\n",
              "    <tr>\n",
              "      <th>11047</th>\n",
              "      <td>1018944.0</td>\n",
              "      <td>0.000539</td>\n",
              "    </tr>\n",
              "    <tr>\n",
              "      <th>11051</th>\n",
              "      <td>1018964.0</td>\n",
              "      <td>0.000539</td>\n",
              "    </tr>\n",
              "    <tr>\n",
              "      <th>11052</th>\n",
              "      <td>1018977.0</td>\n",
              "      <td>0.000539</td>\n",
              "    </tr>\n",
              "    <tr>\n",
              "      <th>24365</th>\n",
              "      <td>12159641.0</td>\n",
              "      <td>0.000539</td>\n",
              "    </tr>\n",
              "  </tbody>\n",
              "</table>\n",
              "<p>22311 rows × 2 columns</p>\n",
              "</div>"
            ],
            "text/plain": [
              "          item_id  share_unique_users\n",
              "9198     983659.0            0.004847\n",
              "9982     998666.0            0.004847\n",
              "2535     851129.0            0.004847\n",
              "16877   1134633.0            0.004847\n",
              "2831     856942.0            0.004847\n",
              "...           ...                 ...\n",
              "11046   1018943.0            0.000539\n",
              "11047   1018944.0            0.000539\n",
              "11051   1018964.0            0.000539\n",
              "11052   1018977.0            0.000539\n",
              "24365  12159641.0            0.000539\n",
              "\n",
              "[22311 rows x 2 columns]"
            ]
          },
          "metadata": {},
          "execution_count": 36
        }
      ]
    },
    {
      "cell_type": "code",
      "metadata": {
        "id": "reWlGeXxmmYR"
      },
      "source": [
        "unpop_list = popularity_pu[popularity_pu['share_unique_users'] < 0.005].item_id.tolist()\n",
        "data.loc[data['item_id'].isin(unpop_list), 'item_id'] = 999999"
      ],
      "execution_count": null,
      "outputs": []
    },
    {
      "cell_type": "markdown",
      "metadata": {
        "id": "xWXA1g_gmplJ"
      },
      "source": [
        "**Не интересные для рекоммендаций категории (department)**"
      ]
    },
    {
      "cell_type": "code",
      "metadata": {
        "colab": {
          "base_uri": "https://localhost:8080/"
        },
        "id": "o8ngfqg3mrjz",
        "outputId": "6a01f3a9-d304-4596-fb72-0cfaa503c88f"
      },
      "source": [
        "item_features.shape"
      ],
      "execution_count": null,
      "outputs": [
        {
          "output_type": "execute_result",
          "data": {
            "text/plain": [
              "(92353, 7)"
            ]
          },
          "metadata": {},
          "execution_count": 38
        }
      ]
    },
    {
      "cell_type": "code",
      "metadata": {
        "colab": {
          "base_uri": "https://localhost:8080/"
        },
        "id": "qOP3n5KBmwKC",
        "outputId": "9fcf9804-ab5f-4fbf-a63a-4ddd236e3067"
      },
      "source": [
        "item_features['department'].unique()"
      ],
      "execution_count": null,
      "outputs": [
        {
          "output_type": "execute_result",
          "data": {
            "text/plain": [
              "array(['GROCERY', 'MISC. TRANS.', 'PASTRY', 'DRUG GM', 'MEAT-PCKGD',\n",
              "       'SEAFOOD-PCKGD', 'PRODUCE', 'NUTRITION', 'DELI', 'COSMETICS',\n",
              "       'MEAT', 'FLORAL', 'TRAVEL & LEISUR', 'SEAFOOD', 'MISC SALES TRAN',\n",
              "       'SALAD BAR', 'KIOSK-GAS', 'ELECT &PLUMBING', 'GRO BAKERY',\n",
              "       'GM MERCH EXP', 'FROZEN GROCERY', 'COUP/STR & MFG', 'SPIRITS',\n",
              "       'GARDEN CENTER', 'TOYS', 'CHARITABLE CONT', 'RESTAURANT', 'RX',\n",
              "       'PROD-WHS SALES', 'MEAT-WHSE', 'DAIRY DELI', 'CHEF SHOPPE', 'HBC',\n",
              "       'DELI/SNACK BAR', 'PORK', 'AUTOMOTIVE', 'VIDEO RENTAL', ' ',\n",
              "       'CNTRL/STORE SUP', 'HOUSEWARES', 'POSTAL CENTER', 'PHOTO', 'VIDEO',\n",
              "       'PHARMACY SUPPLY'], dtype=object)"
            ]
          },
          "metadata": {},
          "execution_count": 39
        }
      ]
    },
    {
      "cell_type": "code",
      "metadata": {
        "colab": {
          "base_uri": "https://localhost:8080/",
          "height": 112
        },
        "id": "qmszX2UimzoW",
        "outputId": "67d10577-3c6c-49ee-ad96-981e56dda3ee"
      },
      "source": [
        "item_features[item_features['department'] == 'PROD-WHS SALES']"
      ],
      "execution_count": null,
      "outputs": [
        {
          "output_type": "execute_result",
          "data": {
            "text/html": [
              "<div>\n",
              "<style scoped>\n",
              "    .dataframe tbody tr th:only-of-type {\n",
              "        vertical-align: middle;\n",
              "    }\n",
              "\n",
              "    .dataframe tbody tr th {\n",
              "        vertical-align: top;\n",
              "    }\n",
              "\n",
              "    .dataframe thead th {\n",
              "        text-align: right;\n",
              "    }\n",
              "</style>\n",
              "<table border=\"1\" class=\"dataframe\">\n",
              "  <thead>\n",
              "    <tr style=\"text-align: right;\">\n",
              "      <th></th>\n",
              "      <th>item_id</th>\n",
              "      <th>manufacturer</th>\n",
              "      <th>department</th>\n",
              "      <th>brand</th>\n",
              "      <th>commodity_desc</th>\n",
              "      <th>sub_commodity_desc</th>\n",
              "      <th>curr_size_of_product</th>\n",
              "    </tr>\n",
              "  </thead>\n",
              "  <tbody>\n",
              "    <tr>\n",
              "      <th>10781</th>\n",
              "      <td>862237</td>\n",
              "      <td>2</td>\n",
              "      <td>PROD-WHS SALES</td>\n",
              "      <td>National</td>\n",
              "      <td>PROD SUPPLIES</td>\n",
              "      <td>TICKETS</td>\n",
              "      <td></td>\n",
              "    </tr>\n",
              "    <tr>\n",
              "      <th>30852</th>\n",
              "      <td>1040186</td>\n",
              "      <td>2</td>\n",
              "      <td>PROD-WHS SALES</td>\n",
              "      <td>National</td>\n",
              "      <td>PROD SUPPLIES</td>\n",
              "      <td>COUPON</td>\n",
              "      <td></td>\n",
              "    </tr>\n",
              "  </tbody>\n",
              "</table>\n",
              "</div>"
            ],
            "text/plain": [
              "       item_id  manufacturer  ... sub_commodity_desc curr_size_of_product\n",
              "10781   862237             2  ...            TICKETS                     \n",
              "30852  1040186             2  ...             COUPON                     \n",
              "\n",
              "[2 rows x 7 columns]"
            ]
          },
          "metadata": {},
          "execution_count": 40
        }
      ]
    },
    {
      "cell_type": "code",
      "metadata": {
        "colab": {
          "base_uri": "https://localhost:8080/",
          "height": 332
        },
        "id": "VBous3U3m3dP",
        "outputId": "6040ea5c-bd7d-4675-9878-8db0e9ca7d8b"
      },
      "source": [
        "item_features[item_features['department'] == 'RX']"
      ],
      "execution_count": null,
      "outputs": [
        {
          "output_type": "execute_result",
          "data": {
            "text/html": [
              "<div>\n",
              "<style scoped>\n",
              "    .dataframe tbody tr th:only-of-type {\n",
              "        vertical-align: middle;\n",
              "    }\n",
              "\n",
              "    .dataframe tbody tr th {\n",
              "        vertical-align: top;\n",
              "    }\n",
              "\n",
              "    .dataframe thead th {\n",
              "        text-align: right;\n",
              "    }\n",
              "</style>\n",
              "<table border=\"1\" class=\"dataframe\">\n",
              "  <thead>\n",
              "    <tr style=\"text-align: right;\">\n",
              "      <th></th>\n",
              "      <th>item_id</th>\n",
              "      <th>manufacturer</th>\n",
              "      <th>department</th>\n",
              "      <th>brand</th>\n",
              "      <th>commodity_desc</th>\n",
              "      <th>sub_commodity_desc</th>\n",
              "      <th>curr_size_of_product</th>\n",
              "    </tr>\n",
              "  </thead>\n",
              "  <tbody>\n",
              "    <tr>\n",
              "      <th>10776</th>\n",
              "      <td>862185</td>\n",
              "      <td>5983</td>\n",
              "      <td>RX</td>\n",
              "      <td>National</td>\n",
              "      <td>PHARMACY</td>\n",
              "      <td>MENSTRUAL ANALGESICS</td>\n",
              "      <td>30 CT</td>\n",
              "    </tr>\n",
              "    <tr>\n",
              "      <th>23890</th>\n",
              "      <td>977999</td>\n",
              "      <td>6073</td>\n",
              "      <td>RX</td>\n",
              "      <td>National</td>\n",
              "      <td>PHARMACY</td>\n",
              "      <td>JHOOK - PERSONAL CARE</td>\n",
              "      <td></td>\n",
              "    </tr>\n",
              "    <tr>\n",
              "      <th>30923</th>\n",
              "      <td>1040789</td>\n",
              "      <td>5720</td>\n",
              "      <td>RX</td>\n",
              "      <td>National</td>\n",
              "      <td>PHARMACY</td>\n",
              "      <td>FIRST AID MEDICATIONS</td>\n",
              "      <td></td>\n",
              "    </tr>\n",
              "    <tr>\n",
              "      <th>33043</th>\n",
              "      <td>1059903</td>\n",
              "      <td>125</td>\n",
              "      <td>RX</td>\n",
              "      <td>National</td>\n",
              "      <td>PHARMACY</td>\n",
              "      <td>N-PRESC HEARING AID BATTERIES</td>\n",
              "      <td>4 CT</td>\n",
              "    </tr>\n",
              "    <tr>\n",
              "      <th>42459</th>\n",
              "      <td>1185885</td>\n",
              "      <td>5</td>\n",
              "      <td>RX</td>\n",
              "      <td>Private</td>\n",
              "      <td>COUPON/MISC ITEMS</td>\n",
              "      <td>MISC SALES TRANS</td>\n",
              "      <td></td>\n",
              "    </tr>\n",
              "    <tr>\n",
              "      <th>44511</th>\n",
              "      <td>1377652</td>\n",
              "      <td>2151</td>\n",
              "      <td>RX</td>\n",
              "      <td>National</td>\n",
              "      <td>PHARMACY</td>\n",
              "      <td>CONVALESCENT CARE - CANES</td>\n",
              "      <td>1 CT</td>\n",
              "    </tr>\n",
              "    <tr>\n",
              "      <th>52595</th>\n",
              "      <td>5565609</td>\n",
              "      <td>569</td>\n",
              "      <td>RX</td>\n",
              "      <td>National</td>\n",
              "      <td>PHARMACY</td>\n",
              "      <td>RX OTC BEAUTYASSESSPILL BX/H</td>\n",
              "      <td></td>\n",
              "    </tr>\n",
              "    <tr>\n",
              "      <th>66044</th>\n",
              "      <td>9368445</td>\n",
              "      <td>5059</td>\n",
              "      <td>RX</td>\n",
              "      <td>National</td>\n",
              "      <td>PHARMACY</td>\n",
              "      <td>COLD AND FLU - DXM</td>\n",
              "      <td>40 CT</td>\n",
              "    </tr>\n",
              "    <tr>\n",
              "      <th>79409</th>\n",
              "      <td>12810538</td>\n",
              "      <td>851</td>\n",
              "      <td>RX</td>\n",
              "      <td>National</td>\n",
              "      <td>PHARMACY</td>\n",
              "      <td>N-PRESC HEARING AID BATTERIES</td>\n",
              "      <td>16 CT</td>\n",
              "    </tr>\n",
              "  </tbody>\n",
              "</table>\n",
              "</div>"
            ],
            "text/plain": [
              "        item_id  ...  curr_size_of_product\n",
              "10776    862185  ...                 30 CT\n",
              "23890    977999  ...                      \n",
              "30923   1040789  ...                      \n",
              "33043   1059903  ...                  4 CT\n",
              "42459   1185885  ...                      \n",
              "44511   1377652  ...                  1 CT\n",
              "52595   5565609  ...                      \n",
              "66044   9368445  ...                 40 CT\n",
              "79409  12810538  ...                 16 CT\n",
              "\n",
              "[9 rows x 7 columns]"
            ]
          },
          "metadata": {},
          "execution_count": 41
        }
      ]
    },
    {
      "cell_type": "code",
      "metadata": {
        "colab": {
          "base_uri": "https://localhost:8080/",
          "height": 81
        },
        "id": "hC30RTyEm7Zu",
        "outputId": "921bc926-409c-47e8-dfbf-3020aa0bed7f"
      },
      "source": [
        "item_features[item_features['department'] == 'MEAT-WHSE']"
      ],
      "execution_count": null,
      "outputs": [
        {
          "output_type": "execute_result",
          "data": {
            "text/html": [
              "<div>\n",
              "<style scoped>\n",
              "    .dataframe tbody tr th:only-of-type {\n",
              "        vertical-align: middle;\n",
              "    }\n",
              "\n",
              "    .dataframe tbody tr th {\n",
              "        vertical-align: top;\n",
              "    }\n",
              "\n",
              "    .dataframe thead th {\n",
              "        text-align: right;\n",
              "    }\n",
              "</style>\n",
              "<table border=\"1\" class=\"dataframe\">\n",
              "  <thead>\n",
              "    <tr style=\"text-align: right;\">\n",
              "      <th></th>\n",
              "      <th>item_id</th>\n",
              "      <th>manufacturer</th>\n",
              "      <th>department</th>\n",
              "      <th>brand</th>\n",
              "      <th>commodity_desc</th>\n",
              "      <th>sub_commodity_desc</th>\n",
              "      <th>curr_size_of_product</th>\n",
              "    </tr>\n",
              "  </thead>\n",
              "  <tbody>\n",
              "    <tr>\n",
              "      <th>12746</th>\n",
              "      <td>879637</td>\n",
              "      <td>5995</td>\n",
              "      <td>MEAT-WHSE</td>\n",
              "      <td>National</td>\n",
              "      <td>COUPON</td>\n",
              "      <td>MISC SALES TRANS</td>\n",
              "      <td></td>\n",
              "    </tr>\n",
              "  </tbody>\n",
              "</table>\n",
              "</div>"
            ],
            "text/plain": [
              "       item_id  manufacturer  ... sub_commodity_desc curr_size_of_product\n",
              "12746   879637          5995  ...   MISC SALES TRANS                     \n",
              "\n",
              "[1 rows x 7 columns]"
            ]
          },
          "metadata": {},
          "execution_count": 42
        }
      ]
    },
    {
      "cell_type": "code",
      "metadata": {
        "colab": {
          "base_uri": "https://localhost:8080/",
          "height": 81
        },
        "id": "nc39It0Km9tn",
        "outputId": "c35e8033-47d5-4421-f67d-ef784644f6b3"
      },
      "source": [
        "item_features[item_features['department'] == 'HBC']"
      ],
      "execution_count": null,
      "outputs": [
        {
          "output_type": "execute_result",
          "data": {
            "text/html": [
              "<div>\n",
              "<style scoped>\n",
              "    .dataframe tbody tr th:only-of-type {\n",
              "        vertical-align: middle;\n",
              "    }\n",
              "\n",
              "    .dataframe tbody tr th {\n",
              "        vertical-align: top;\n",
              "    }\n",
              "\n",
              "    .dataframe thead th {\n",
              "        text-align: right;\n",
              "    }\n",
              "</style>\n",
              "<table border=\"1\" class=\"dataframe\">\n",
              "  <thead>\n",
              "    <tr style=\"text-align: right;\">\n",
              "      <th></th>\n",
              "      <th>item_id</th>\n",
              "      <th>manufacturer</th>\n",
              "      <th>department</th>\n",
              "      <th>brand</th>\n",
              "      <th>commodity_desc</th>\n",
              "      <th>sub_commodity_desc</th>\n",
              "      <th>curr_size_of_product</th>\n",
              "    </tr>\n",
              "  </thead>\n",
              "  <tbody>\n",
              "    <tr>\n",
              "      <th>21478</th>\n",
              "      <td>956174</td>\n",
              "      <td>177</td>\n",
              "      <td>HBC</td>\n",
              "      <td>National</td>\n",
              "      <td>INFANT CARE PRODUCTS</td>\n",
              "      <td>FEEDING ACCESSORIES BOTTLES</td>\n",
              "      <td></td>\n",
              "    </tr>\n",
              "  </tbody>\n",
              "</table>\n",
              "</div>"
            ],
            "text/plain": [
              "       item_id  manufacturer  ...           sub_commodity_desc curr_size_of_product\n",
              "21478   956174           177  ...  FEEDING ACCESSORIES BOTTLES                     \n",
              "\n",
              "[1 rows x 7 columns]"
            ]
          },
          "metadata": {},
          "execution_count": 43
        }
      ]
    },
    {
      "cell_type": "code",
      "metadata": {
        "colab": {
          "base_uri": "https://localhost:8080/",
          "height": 174
        },
        "id": "xmk6WKDPnAMc",
        "outputId": "bd946e05-a5a6-4260-81d9-864ba73d592d"
      },
      "source": [
        "item_features[item_features['department'] == 'CNTRL/STORE SUP']"
      ],
      "execution_count": null,
      "outputs": [
        {
          "output_type": "execute_result",
          "data": {
            "text/html": [
              "<div>\n",
              "<style scoped>\n",
              "    .dataframe tbody tr th:only-of-type {\n",
              "        vertical-align: middle;\n",
              "    }\n",
              "\n",
              "    .dataframe tbody tr th {\n",
              "        vertical-align: top;\n",
              "    }\n",
              "\n",
              "    .dataframe thead th {\n",
              "        text-align: right;\n",
              "    }\n",
              "</style>\n",
              "<table border=\"1\" class=\"dataframe\">\n",
              "  <thead>\n",
              "    <tr style=\"text-align: right;\">\n",
              "      <th></th>\n",
              "      <th>item_id</th>\n",
              "      <th>manufacturer</th>\n",
              "      <th>department</th>\n",
              "      <th>brand</th>\n",
              "      <th>commodity_desc</th>\n",
              "      <th>sub_commodity_desc</th>\n",
              "      <th>curr_size_of_product</th>\n",
              "    </tr>\n",
              "  </thead>\n",
              "  <tbody>\n",
              "    <tr>\n",
              "      <th>59612</th>\n",
              "      <td>7100347</td>\n",
              "      <td>1871</td>\n",
              "      <td>CNTRL/STORE SUP</td>\n",
              "      <td>National</td>\n",
              "      <td>COUPON/MISC ITEMS</td>\n",
              "      <td>CENTRAL SUPPLIES</td>\n",
              "      <td>125 CT</td>\n",
              "    </tr>\n",
              "    <tr>\n",
              "      <th>78400</th>\n",
              "      <td>12671292</td>\n",
              "      <td>5879</td>\n",
              "      <td>CNTRL/STORE SUP</td>\n",
              "      <td>National</td>\n",
              "      <td>COUPON/MISC ITEMS</td>\n",
              "      <td>COFF SHOP: RETAIL PACK BEVERAG</td>\n",
              "      <td>1 LB</td>\n",
              "    </tr>\n",
              "    <tr>\n",
              "      <th>79932</th>\n",
              "      <td>13004709</td>\n",
              "      <td>6011</td>\n",
              "      <td>CNTRL/STORE SUP</td>\n",
              "      <td>National</td>\n",
              "      <td>COUPON/MISC ITEMS</td>\n",
              "      <td>CENTRAL SUPPLIES</td>\n",
              "      <td></td>\n",
              "    </tr>\n",
              "    <tr>\n",
              "      <th>91676</th>\n",
              "      <td>17330423</td>\n",
              "      <td>903</td>\n",
              "      <td>CNTRL/STORE SUP</td>\n",
              "      <td>Private</td>\n",
              "      <td>COUPON/MISC ITEMS</td>\n",
              "      <td>ELECTRONIC GIFT CARDS ACTIVATI</td>\n",
              "      <td></td>\n",
              "    </tr>\n",
              "  </tbody>\n",
              "</table>\n",
              "</div>"
            ],
            "text/plain": [
              "        item_id  ...  curr_size_of_product\n",
              "59612   7100347  ...                125 CT\n",
              "78400  12671292  ...                  1 LB\n",
              "79932  13004709  ...                      \n",
              "91676  17330423  ...                      \n",
              "\n",
              "[4 rows x 7 columns]"
            ]
          },
          "metadata": {},
          "execution_count": 44
        }
      ]
    },
    {
      "cell_type": "code",
      "metadata": {
        "colab": {
          "base_uri": "https://localhost:8080/",
          "height": 144
        },
        "id": "lX6mkE3-nHCE",
        "outputId": "dbae99c1-3794-4762-b1c3-86d27160c221"
      },
      "source": [
        "item_features[item_features['department'] == 'POSTAL CENTER']"
      ],
      "execution_count": null,
      "outputs": [
        {
          "output_type": "execute_result",
          "data": {
            "text/html": [
              "<div>\n",
              "<style scoped>\n",
              "    .dataframe tbody tr th:only-of-type {\n",
              "        vertical-align: middle;\n",
              "    }\n",
              "\n",
              "    .dataframe tbody tr th {\n",
              "        vertical-align: top;\n",
              "    }\n",
              "\n",
              "    .dataframe thead th {\n",
              "        text-align: right;\n",
              "    }\n",
              "</style>\n",
              "<table border=\"1\" class=\"dataframe\">\n",
              "  <thead>\n",
              "    <tr style=\"text-align: right;\">\n",
              "      <th></th>\n",
              "      <th>item_id</th>\n",
              "      <th>manufacturer</th>\n",
              "      <th>department</th>\n",
              "      <th>brand</th>\n",
              "      <th>commodity_desc</th>\n",
              "      <th>sub_commodity_desc</th>\n",
              "      <th>curr_size_of_product</th>\n",
              "    </tr>\n",
              "  </thead>\n",
              "  <tbody>\n",
              "    <tr>\n",
              "      <th>64268</th>\n",
              "      <td>8293561</td>\n",
              "      <td>693</td>\n",
              "      <td>POSTAL CENTER</td>\n",
              "      <td>National</td>\n",
              "      <td>CANDY - PACKAGED</td>\n",
              "      <td>CANDY BAGS-CHOCOCLATE</td>\n",
              "      <td>12 PK</td>\n",
              "    </tr>\n",
              "    <tr>\n",
              "      <th>91025</th>\n",
              "      <td>17179638</td>\n",
              "      <td>693</td>\n",
              "      <td>POSTAL CENTER</td>\n",
              "      <td>National</td>\n",
              "      <td>CANDY - PACKAGED</td>\n",
              "      <td>SEASONAL CANDY BOX-CHOCOLATE</td>\n",
              "      <td></td>\n",
              "    </tr>\n",
              "    <tr>\n",
              "      <th>92256</th>\n",
              "      <td>18143349</td>\n",
              "      <td>857</td>\n",
              "      <td>POSTAL CENTER</td>\n",
              "      <td>National</td>\n",
              "      <td>CANDY - CHECKLANE</td>\n",
              "      <td>CANDY BARS (SINGLES)(INCLUDING</td>\n",
              "      <td></td>\n",
              "    </tr>\n",
              "  </tbody>\n",
              "</table>\n",
              "</div>"
            ],
            "text/plain": [
              "        item_id  ...  curr_size_of_product\n",
              "64268   8293561  ...                 12 PK\n",
              "91025  17179638  ...                      \n",
              "92256  18143349  ...                      \n",
              "\n",
              "[3 rows x 7 columns]"
            ]
          },
          "metadata": {},
          "execution_count": 45
        }
      ]
    },
    {
      "cell_type": "code",
      "metadata": {
        "colab": {
          "base_uri": "https://localhost:8080/",
          "height": 112
        },
        "id": "Yg1sgWOJnJqk",
        "outputId": "e3c36860-1970-458b-8d6d-07d16cf72f61"
      },
      "source": [
        "item_features[item_features['department'] == 'PHOTO']"
      ],
      "execution_count": null,
      "outputs": [
        {
          "output_type": "execute_result",
          "data": {
            "text/html": [
              "<div>\n",
              "<style scoped>\n",
              "    .dataframe tbody tr th:only-of-type {\n",
              "        vertical-align: middle;\n",
              "    }\n",
              "\n",
              "    .dataframe tbody tr th {\n",
              "        vertical-align: top;\n",
              "    }\n",
              "\n",
              "    .dataframe thead th {\n",
              "        text-align: right;\n",
              "    }\n",
              "</style>\n",
              "<table border=\"1\" class=\"dataframe\">\n",
              "  <thead>\n",
              "    <tr style=\"text-align: right;\">\n",
              "      <th></th>\n",
              "      <th>item_id</th>\n",
              "      <th>manufacturer</th>\n",
              "      <th>department</th>\n",
              "      <th>brand</th>\n",
              "      <th>commodity_desc</th>\n",
              "      <th>sub_commodity_desc</th>\n",
              "      <th>curr_size_of_product</th>\n",
              "    </tr>\n",
              "  </thead>\n",
              "  <tbody>\n",
              "    <tr>\n",
              "      <th>79669</th>\n",
              "      <td>12949577</td>\n",
              "      <td>1225</td>\n",
              "      <td>PHOTO</td>\n",
              "      <td>National</td>\n",
              "      <td>REFRGRATD DOUGH PRODUCTS</td>\n",
              "      <td>REFRIGERATED COOKIES-SEASONAL</td>\n",
              "      <td>18 OZ</td>\n",
              "    </tr>\n",
              "    <tr>\n",
              "      <th>85781</th>\n",
              "      <td>14077294</td>\n",
              "      <td>236</td>\n",
              "      <td>PHOTO</td>\n",
              "      <td>National</td>\n",
              "      <td>REFRGRATD DOUGH PRODUCTS</td>\n",
              "      <td>MISC REFRIG DOUGH PRODUCTS</td>\n",
              "      <td>8 OZ</td>\n",
              "    </tr>\n",
              "  </tbody>\n",
              "</table>\n",
              "</div>"
            ],
            "text/plain": [
              "        item_id  ...  curr_size_of_product\n",
              "79669  12949577  ...                 18 OZ\n",
              "85781  14077294  ...                  8 OZ\n",
              "\n",
              "[2 rows x 7 columns]"
            ]
          },
          "metadata": {},
          "execution_count": 46
        }
      ]
    },
    {
      "cell_type": "code",
      "metadata": {
        "colab": {
          "base_uri": "https://localhost:8080/",
          "height": 112
        },
        "id": "noo_mV3unLcT",
        "outputId": "f63c4835-5700-4d35-e0f7-c4e99e18ea2d"
      },
      "source": [
        "item_features[item_features['department'] == 'VIDEO']"
      ],
      "execution_count": null,
      "outputs": [
        {
          "output_type": "execute_result",
          "data": {
            "text/html": [
              "<div>\n",
              "<style scoped>\n",
              "    .dataframe tbody tr th:only-of-type {\n",
              "        vertical-align: middle;\n",
              "    }\n",
              "\n",
              "    .dataframe tbody tr th {\n",
              "        vertical-align: top;\n",
              "    }\n",
              "\n",
              "    .dataframe thead th {\n",
              "        text-align: right;\n",
              "    }\n",
              "</style>\n",
              "<table border=\"1\" class=\"dataframe\">\n",
              "  <thead>\n",
              "    <tr style=\"text-align: right;\">\n",
              "      <th></th>\n",
              "      <th>item_id</th>\n",
              "      <th>manufacturer</th>\n",
              "      <th>department</th>\n",
              "      <th>brand</th>\n",
              "      <th>commodity_desc</th>\n",
              "      <th>sub_commodity_desc</th>\n",
              "      <th>curr_size_of_product</th>\n",
              "    </tr>\n",
              "  </thead>\n",
              "  <tbody>\n",
              "    <tr>\n",
              "      <th>85754</th>\n",
              "      <td>14073108</td>\n",
              "      <td>6375</td>\n",
              "      <td>VIDEO</td>\n",
              "      <td>National</td>\n",
              "      <td>BEERS/ALES</td>\n",
              "      <td>BEERALEMALT LIQUORS</td>\n",
              "      <td></td>\n",
              "    </tr>\n",
              "    <tr>\n",
              "      <th>87652</th>\n",
              "      <td>15681643</td>\n",
              "      <td>239</td>\n",
              "      <td>VIDEO</td>\n",
              "      <td>National</td>\n",
              "      <td>BEERS/ALES</td>\n",
              "      <td>BEERALEMALT LIQUORS</td>\n",
              "      <td></td>\n",
              "    </tr>\n",
              "  </tbody>\n",
              "</table>\n",
              "</div>"
            ],
            "text/plain": [
              "        item_id  manufacturer  ...   sub_commodity_desc curr_size_of_product\n",
              "85754  14073108          6375  ...  BEERALEMALT LIQUORS                     \n",
              "87652  15681643           239  ...  BEERALEMALT LIQUORS                     \n",
              "\n",
              "[2 rows x 7 columns]"
            ]
          },
          "metadata": {},
          "execution_count": 47
        }
      ]
    },
    {
      "cell_type": "code",
      "metadata": {
        "colab": {
          "base_uri": "https://localhost:8080/",
          "height": 81
        },
        "id": "RIJorp3znQWM",
        "outputId": "c4360761-027b-48c8-9c56-0fb29fcb2c82"
      },
      "source": [
        "item_features[item_features['department'] == 'PHARMACY SUPPLY']"
      ],
      "execution_count": null,
      "outputs": [
        {
          "output_type": "execute_result",
          "data": {
            "text/html": [
              "<div>\n",
              "<style scoped>\n",
              "    .dataframe tbody tr th:only-of-type {\n",
              "        vertical-align: middle;\n",
              "    }\n",
              "\n",
              "    .dataframe tbody tr th {\n",
              "        vertical-align: top;\n",
              "    }\n",
              "\n",
              "    .dataframe thead th {\n",
              "        text-align: right;\n",
              "    }\n",
              "</style>\n",
              "<table border=\"1\" class=\"dataframe\">\n",
              "  <thead>\n",
              "    <tr style=\"text-align: right;\">\n",
              "      <th></th>\n",
              "      <th>item_id</th>\n",
              "      <th>manufacturer</th>\n",
              "      <th>department</th>\n",
              "      <th>brand</th>\n",
              "      <th>commodity_desc</th>\n",
              "      <th>sub_commodity_desc</th>\n",
              "      <th>curr_size_of_product</th>\n",
              "    </tr>\n",
              "  </thead>\n",
              "  <tbody>\n",
              "    <tr>\n",
              "      <th>86113</th>\n",
              "      <td>15449615</td>\n",
              "      <td>6129</td>\n",
              "      <td>PHARMACY SUPPLY</td>\n",
              "      <td>National</td>\n",
              "      <td>COUPON/MISC ITEMS</td>\n",
              "      <td>JUICE</td>\n",
              "      <td>13.5 OZ</td>\n",
              "    </tr>\n",
              "  </tbody>\n",
              "</table>\n",
              "</div>"
            ],
            "text/plain": [
              "        item_id  manufacturer  ... sub_commodity_desc curr_size_of_product\n",
              "86113  15449615          6129  ...              JUICE              13.5 OZ\n",
              "\n",
              "[1 rows x 7 columns]"
            ]
          },
          "metadata": {},
          "execution_count": 48
        }
      ]
    },
    {
      "cell_type": "code",
      "metadata": {
        "id": "6G970GKNnZDl"
      },
      "source": [
        "dep_list = ['PROD-WHS SALES', 'RX', 'MEAT-WHSE', \n",
        "            'HBC', 'CNTRL/STORE SUP', 'POSTAL CENTER', \n",
        "            'PHOTO', 'VIDEO', 'PHARMACY SUPPLY']"
      ],
      "execution_count": null,
      "outputs": []
    },
    {
      "cell_type": "code",
      "metadata": {
        "colab": {
          "base_uri": "https://localhost:8080/"
        },
        "id": "i9wYF609nciN",
        "outputId": "c814c328-93be-4bb6-f0ee-7edbed88d8fc"
      },
      "source": [
        "for dep in dep_list:\n",
        "    print(item_features.loc[item_features['department'] == dep, \"item_id\"].values)"
      ],
      "execution_count": null,
      "outputs": [
        {
          "output_type": "stream",
          "name": "stdout",
          "text": [
            "[ 862237 1040186]\n",
            "[  862185   977999  1040789  1059903  1185885  1377652  5565609  9368445\n",
            " 12810538]\n",
            "[879637]\n",
            "[956174]\n",
            "[ 7100347 12671292 13004709 17330423]\n",
            "[ 8293561 17179638 18143349]\n",
            "[12949577 14077294]\n",
            "[14073108 15681643]\n",
            "[15449615]\n"
          ]
        }
      ]
    },
    {
      "cell_type": "code",
      "metadata": {
        "colab": {
          "base_uri": "https://localhost:8080/"
        },
        "id": "GObVVF2TniiF",
        "outputId": "e574811b-a710-4306-8b34-ee8b070c08cf"
      },
      "source": [
        "for dep in dep_list:\n",
        "    drop_items_list = item_features.loc[item_features['department'] == dep, \"item_id\"].values\n",
        "    sl = data.loc[data['item_id'].isin(drop_items_list), 'item_id'].count()\n",
        "    print(f\"dep: {dep} sale count: {sl}\")\n",
        "    data.loc[data['item_id'].isin(drop_items_list), 'item_id'] = 999999"
      ],
      "execution_count": null,
      "outputs": [
        {
          "output_type": "stream",
          "name": "stdout",
          "text": [
            "dep: PROD-WHS SALES sale count: 0\n",
            "dep: RX sale count: 0\n",
            "dep: MEAT-WHSE sale count: 0\n",
            "dep: HBC sale count: 0\n",
            "dep: CNTRL/STORE SUP sale count: 0\n",
            "dep: POSTAL CENTER sale count: 0\n",
            "dep: PHOTO sale count: 0\n",
            "dep: VIDEO sale count: 0\n",
            "dep: PHARMACY SUPPLY sale count: 0\n"
          ]
        }
      ]
    },
    {
      "cell_type": "markdown",
      "metadata": {
        "id": "AEDGr6S_nmUO"
      },
      "source": [
        "**Feature Engineering**\n",
        "\n",
        "Средний чек"
      ]
    },
    {
      "cell_type": "code",
      "metadata": {
        "colab": {
          "base_uri": "https://localhost:8080/"
        },
        "id": "-OwYbWb8novR",
        "outputId": "9ee955be-064e-44d3-a59d-9742e4f537d1"
      },
      "source": [
        "bills = data.groupby([\"basket_id\", 'user_id'])[\"sales_value\"].sum()\n",
        "bills"
      ],
      "execution_count": null,
      "outputs": [
        {
          "output_type": "execute_result",
          "data": {
            "text/plain": [
              "basket_id    user_id\n",
              "26984851472  2375        5.91\n",
              "26984851516  2375       12.43\n",
              "26984896261  1364       11.37\n",
              "26984905972  1130        2.55\n",
              "26984945254  1173        3.53\n",
              "                        ...  \n",
              "28110743546  1888       17.92\n",
              "28110743764  40         34.01\n",
              "28110744748  1845       51.53\n",
              "28110745181  908        14.86\n",
              "28110750453  1291        0.00\n",
              "Name: sales_value, Length: 15700, dtype: float64"
            ]
          },
          "metadata": {},
          "execution_count": 52
        }
      ]
    },
    {
      "cell_type": "code",
      "metadata": {
        "colab": {
          "base_uri": "https://localhost:8080/",
          "height": 206
        },
        "id": "MfTCDNfYns1l",
        "outputId": "c78db42c-d5ac-4c92-9470-f70e662c2308"
      },
      "source": [
        "bills = bills.reset_index(level=[0,1])\n",
        "bills.head()"
      ],
      "execution_count": null,
      "outputs": [
        {
          "output_type": "execute_result",
          "data": {
            "text/html": [
              "<div>\n",
              "<style scoped>\n",
              "    .dataframe tbody tr th:only-of-type {\n",
              "        vertical-align: middle;\n",
              "    }\n",
              "\n",
              "    .dataframe tbody tr th {\n",
              "        vertical-align: top;\n",
              "    }\n",
              "\n",
              "    .dataframe thead th {\n",
              "        text-align: right;\n",
              "    }\n",
              "</style>\n",
              "<table border=\"1\" class=\"dataframe\">\n",
              "  <thead>\n",
              "    <tr style=\"text-align: right;\">\n",
              "      <th></th>\n",
              "      <th>basket_id</th>\n",
              "      <th>user_id</th>\n",
              "      <th>sales_value</th>\n",
              "    </tr>\n",
              "  </thead>\n",
              "  <tbody>\n",
              "    <tr>\n",
              "      <th>0</th>\n",
              "      <td>26984851472</td>\n",
              "      <td>2375</td>\n",
              "      <td>5.91</td>\n",
              "    </tr>\n",
              "    <tr>\n",
              "      <th>1</th>\n",
              "      <td>26984851516</td>\n",
              "      <td>2375</td>\n",
              "      <td>12.43</td>\n",
              "    </tr>\n",
              "    <tr>\n",
              "      <th>2</th>\n",
              "      <td>26984896261</td>\n",
              "      <td>1364</td>\n",
              "      <td>11.37</td>\n",
              "    </tr>\n",
              "    <tr>\n",
              "      <th>3</th>\n",
              "      <td>26984905972</td>\n",
              "      <td>1130</td>\n",
              "      <td>2.55</td>\n",
              "    </tr>\n",
              "    <tr>\n",
              "      <th>4</th>\n",
              "      <td>26984945254</td>\n",
              "      <td>1173</td>\n",
              "      <td>3.53</td>\n",
              "    </tr>\n",
              "  </tbody>\n",
              "</table>\n",
              "</div>"
            ],
            "text/plain": [
              "     basket_id  user_id  sales_value\n",
              "0  26984851472     2375         5.91\n",
              "1  26984851516     2375        12.43\n",
              "2  26984896261     1364        11.37\n",
              "3  26984905972     1130         2.55\n",
              "4  26984945254     1173         3.53"
            ]
          },
          "metadata": {},
          "execution_count": 53
        }
      ]
    },
    {
      "cell_type": "code",
      "metadata": {
        "colab": {
          "base_uri": "https://localhost:8080/"
        },
        "id": "58hnrDPQnylS",
        "outputId": "e653a263-b8f4-4253-9ab3-99e0f441daf0"
      },
      "source": [
        "bills_avg = data.groupby(['user_id'])[\"basket_id\"].count()\n",
        "bills_avg"
      ],
      "execution_count": null,
      "outputs": [
        {
          "output_type": "execute_result",
          "data": {
            "text/plain": [
              "user_id\n",
              "1       77\n",
              "5        6\n",
              "7       73\n",
              "8       96\n",
              "12      15\n",
              "        ..\n",
              "2493    90\n",
              "2495     6\n",
              "2497    34\n",
              "2499    93\n",
              "2500    30\n",
              "Name: basket_id, Length: 1857, dtype: int64"
            ]
          },
          "metadata": {},
          "execution_count": 54
        }
      ]
    },
    {
      "cell_type": "code",
      "metadata": {
        "colab": {
          "base_uri": "https://localhost:8080/",
          "height": 424
        },
        "id": "qitA1vJBn1wr",
        "outputId": "96721bcc-76d5-4a8b-9110-744bb26080d6"
      },
      "source": [
        "bills_avg = bills_avg.reset_index()\n",
        "bills_avg.columns=['user_id', 'bills_cnt']\n",
        "bills_avg"
      ],
      "execution_count": null,
      "outputs": [
        {
          "output_type": "execute_result",
          "data": {
            "text/html": [
              "<div>\n",
              "<style scoped>\n",
              "    .dataframe tbody tr th:only-of-type {\n",
              "        vertical-align: middle;\n",
              "    }\n",
              "\n",
              "    .dataframe tbody tr th {\n",
              "        vertical-align: top;\n",
              "    }\n",
              "\n",
              "    .dataframe thead th {\n",
              "        text-align: right;\n",
              "    }\n",
              "</style>\n",
              "<table border=\"1\" class=\"dataframe\">\n",
              "  <thead>\n",
              "    <tr style=\"text-align: right;\">\n",
              "      <th></th>\n",
              "      <th>user_id</th>\n",
              "      <th>bills_cnt</th>\n",
              "    </tr>\n",
              "  </thead>\n",
              "  <tbody>\n",
              "    <tr>\n",
              "      <th>0</th>\n",
              "      <td>1</td>\n",
              "      <td>77</td>\n",
              "    </tr>\n",
              "    <tr>\n",
              "      <th>1</th>\n",
              "      <td>5</td>\n",
              "      <td>6</td>\n",
              "    </tr>\n",
              "    <tr>\n",
              "      <th>2</th>\n",
              "      <td>7</td>\n",
              "      <td>73</td>\n",
              "    </tr>\n",
              "    <tr>\n",
              "      <th>3</th>\n",
              "      <td>8</td>\n",
              "      <td>96</td>\n",
              "    </tr>\n",
              "    <tr>\n",
              "      <th>4</th>\n",
              "      <td>12</td>\n",
              "      <td>15</td>\n",
              "    </tr>\n",
              "    <tr>\n",
              "      <th>...</th>\n",
              "      <td>...</td>\n",
              "      <td>...</td>\n",
              "    </tr>\n",
              "    <tr>\n",
              "      <th>1852</th>\n",
              "      <td>2493</td>\n",
              "      <td>90</td>\n",
              "    </tr>\n",
              "    <tr>\n",
              "      <th>1853</th>\n",
              "      <td>2495</td>\n",
              "      <td>6</td>\n",
              "    </tr>\n",
              "    <tr>\n",
              "      <th>1854</th>\n",
              "      <td>2497</td>\n",
              "      <td>34</td>\n",
              "    </tr>\n",
              "    <tr>\n",
              "      <th>1855</th>\n",
              "      <td>2499</td>\n",
              "      <td>93</td>\n",
              "    </tr>\n",
              "    <tr>\n",
              "      <th>1856</th>\n",
              "      <td>2500</td>\n",
              "      <td>30</td>\n",
              "    </tr>\n",
              "  </tbody>\n",
              "</table>\n",
              "<p>1857 rows × 2 columns</p>\n",
              "</div>"
            ],
            "text/plain": [
              "      user_id  bills_cnt\n",
              "0           1         77\n",
              "1           5          6\n",
              "2           7         73\n",
              "3           8         96\n",
              "4          12         15\n",
              "...       ...        ...\n",
              "1852     2493         90\n",
              "1853     2495          6\n",
              "1854     2497         34\n",
              "1855     2499         93\n",
              "1856     2500         30\n",
              "\n",
              "[1857 rows x 2 columns]"
            ]
          },
          "metadata": {},
          "execution_count": 55
        }
      ]
    },
    {
      "cell_type": "code",
      "metadata": {
        "colab": {
          "base_uri": "https://localhost:8080/"
        },
        "id": "K6KJSJO2n5Z6",
        "outputId": "0ab32264-3433-4888-884d-c3c716c90735"
      },
      "source": [
        "bills_sum = bills.groupby(['user_id'])[\"sales_value\"].sum()\n",
        "bills_sum"
      ],
      "execution_count": null,
      "outputs": [
        {
          "output_type": "execute_result",
          "data": {
            "text/plain": [
              "user_id\n",
              "1       210.09\n",
              "5        23.70\n",
              "7       218.88\n",
              "8       315.70\n",
              "12       46.58\n",
              "         ...  \n",
              "2493    245.57\n",
              "2495     23.19\n",
              "2497    173.18\n",
              "2499    236.57\n",
              "2500    111.40\n",
              "Name: sales_value, Length: 1857, dtype: float64"
            ]
          },
          "metadata": {},
          "execution_count": 56
        }
      ]
    },
    {
      "cell_type": "code",
      "metadata": {
        "colab": {
          "base_uri": "https://localhost:8080/",
          "height": 206
        },
        "id": "jFjeG78Cn8Va",
        "outputId": "86566607-eccf-4bef-cda5-f1f8736743e3"
      },
      "source": [
        "bills_avg['bill_sum'] = bills_sum.values\n",
        "bills_avg.head()"
      ],
      "execution_count": null,
      "outputs": [
        {
          "output_type": "execute_result",
          "data": {
            "text/html": [
              "<div>\n",
              "<style scoped>\n",
              "    .dataframe tbody tr th:only-of-type {\n",
              "        vertical-align: middle;\n",
              "    }\n",
              "\n",
              "    .dataframe tbody tr th {\n",
              "        vertical-align: top;\n",
              "    }\n",
              "\n",
              "    .dataframe thead th {\n",
              "        text-align: right;\n",
              "    }\n",
              "</style>\n",
              "<table border=\"1\" class=\"dataframe\">\n",
              "  <thead>\n",
              "    <tr style=\"text-align: right;\">\n",
              "      <th></th>\n",
              "      <th>user_id</th>\n",
              "      <th>bills_cnt</th>\n",
              "      <th>bill_sum</th>\n",
              "    </tr>\n",
              "  </thead>\n",
              "  <tbody>\n",
              "    <tr>\n",
              "      <th>0</th>\n",
              "      <td>1</td>\n",
              "      <td>77</td>\n",
              "      <td>210.09</td>\n",
              "    </tr>\n",
              "    <tr>\n",
              "      <th>1</th>\n",
              "      <td>5</td>\n",
              "      <td>6</td>\n",
              "      <td>23.70</td>\n",
              "    </tr>\n",
              "    <tr>\n",
              "      <th>2</th>\n",
              "      <td>7</td>\n",
              "      <td>73</td>\n",
              "      <td>218.88</td>\n",
              "    </tr>\n",
              "    <tr>\n",
              "      <th>3</th>\n",
              "      <td>8</td>\n",
              "      <td>96</td>\n",
              "      <td>315.70</td>\n",
              "    </tr>\n",
              "    <tr>\n",
              "      <th>4</th>\n",
              "      <td>12</td>\n",
              "      <td>15</td>\n",
              "      <td>46.58</td>\n",
              "    </tr>\n",
              "  </tbody>\n",
              "</table>\n",
              "</div>"
            ],
            "text/plain": [
              "   user_id  bills_cnt  bill_sum\n",
              "0        1         77    210.09\n",
              "1        5          6     23.70\n",
              "2        7         73    218.88\n",
              "3        8         96    315.70\n",
              "4       12         15     46.58"
            ]
          },
          "metadata": {},
          "execution_count": 57
        }
      ]
    },
    {
      "cell_type": "code",
      "metadata": {
        "colab": {
          "base_uri": "https://localhost:8080/",
          "height": 206
        },
        "id": "inVxGF0KoAFD",
        "outputId": "cc895d33-7e50-4f9d-f4ad-4e16ff16b3f4"
      },
      "source": [
        "bills_avg['bill_avg'] = bills_avg['bill_sum'] / bills_avg['bills_cnt']\n",
        "bills_avg.head()"
      ],
      "execution_count": null,
      "outputs": [
        {
          "output_type": "execute_result",
          "data": {
            "text/html": [
              "<div>\n",
              "<style scoped>\n",
              "    .dataframe tbody tr th:only-of-type {\n",
              "        vertical-align: middle;\n",
              "    }\n",
              "\n",
              "    .dataframe tbody tr th {\n",
              "        vertical-align: top;\n",
              "    }\n",
              "\n",
              "    .dataframe thead th {\n",
              "        text-align: right;\n",
              "    }\n",
              "</style>\n",
              "<table border=\"1\" class=\"dataframe\">\n",
              "  <thead>\n",
              "    <tr style=\"text-align: right;\">\n",
              "      <th></th>\n",
              "      <th>user_id</th>\n",
              "      <th>bills_cnt</th>\n",
              "      <th>bill_sum</th>\n",
              "      <th>bill_avg</th>\n",
              "    </tr>\n",
              "  </thead>\n",
              "  <tbody>\n",
              "    <tr>\n",
              "      <th>0</th>\n",
              "      <td>1</td>\n",
              "      <td>77</td>\n",
              "      <td>210.09</td>\n",
              "      <td>2.728442</td>\n",
              "    </tr>\n",
              "    <tr>\n",
              "      <th>1</th>\n",
              "      <td>5</td>\n",
              "      <td>6</td>\n",
              "      <td>23.70</td>\n",
              "      <td>3.950000</td>\n",
              "    </tr>\n",
              "    <tr>\n",
              "      <th>2</th>\n",
              "      <td>7</td>\n",
              "      <td>73</td>\n",
              "      <td>218.88</td>\n",
              "      <td>2.998356</td>\n",
              "    </tr>\n",
              "    <tr>\n",
              "      <th>3</th>\n",
              "      <td>8</td>\n",
              "      <td>96</td>\n",
              "      <td>315.70</td>\n",
              "      <td>3.288542</td>\n",
              "    </tr>\n",
              "    <tr>\n",
              "      <th>4</th>\n",
              "      <td>12</td>\n",
              "      <td>15</td>\n",
              "      <td>46.58</td>\n",
              "      <td>3.105333</td>\n",
              "    </tr>\n",
              "  </tbody>\n",
              "</table>\n",
              "</div>"
            ],
            "text/plain": [
              "   user_id  bills_cnt  bill_sum  bill_avg\n",
              "0        1         77    210.09  2.728442\n",
              "1        5          6     23.70  3.950000\n",
              "2        7         73    218.88  2.998356\n",
              "3        8         96    315.70  3.288542\n",
              "4       12         15     46.58  3.105333"
            ]
          },
          "metadata": {},
          "execution_count": 58
        }
      ]
    },
    {
      "cell_type": "code",
      "metadata": {
        "colab": {
          "base_uri": "https://localhost:8080/",
          "height": 112
        },
        "id": "1iI7OJ3boDVb",
        "outputId": "e2792dbe-4feb-48a4-fe3f-df08a71abbb8"
      },
      "source": [
        "user_features = user_features.merge(bills_avg[[\"user_id\", \"bill_avg\"]], on='user_id', how='left')\n",
        "user_features.head(2)"
      ],
      "execution_count": null,
      "outputs": [
        {
          "output_type": "execute_result",
          "data": {
            "text/html": [
              "<div>\n",
              "<style scoped>\n",
              "    .dataframe tbody tr th:only-of-type {\n",
              "        vertical-align: middle;\n",
              "    }\n",
              "\n",
              "    .dataframe tbody tr th {\n",
              "        vertical-align: top;\n",
              "    }\n",
              "\n",
              "    .dataframe thead th {\n",
              "        text-align: right;\n",
              "    }\n",
              "</style>\n",
              "<table border=\"1\" class=\"dataframe\">\n",
              "  <thead>\n",
              "    <tr style=\"text-align: right;\">\n",
              "      <th></th>\n",
              "      <th>age_desc</th>\n",
              "      <th>marital_status_code</th>\n",
              "      <th>income_desc</th>\n",
              "      <th>homeowner_desc</th>\n",
              "      <th>hh_comp_desc</th>\n",
              "      <th>household_size_desc</th>\n",
              "      <th>kid_category_desc</th>\n",
              "      <th>user_id</th>\n",
              "      <th>bill_avg</th>\n",
              "    </tr>\n",
              "  </thead>\n",
              "  <tbody>\n",
              "    <tr>\n",
              "      <th>0</th>\n",
              "      <td>65+</td>\n",
              "      <td>A</td>\n",
              "      <td>35-49K</td>\n",
              "      <td>Homeowner</td>\n",
              "      <td>2 Adults No Kids</td>\n",
              "      <td>2</td>\n",
              "      <td>None/Unknown</td>\n",
              "      <td>1</td>\n",
              "      <td>2.728442</td>\n",
              "    </tr>\n",
              "    <tr>\n",
              "      <th>1</th>\n",
              "      <td>45-54</td>\n",
              "      <td>A</td>\n",
              "      <td>50-74K</td>\n",
              "      <td>Homeowner</td>\n",
              "      <td>2 Adults No Kids</td>\n",
              "      <td>2</td>\n",
              "      <td>None/Unknown</td>\n",
              "      <td>7</td>\n",
              "      <td>2.998356</td>\n",
              "    </tr>\n",
              "  </tbody>\n",
              "</table>\n",
              "</div>"
            ],
            "text/plain": [
              "  age_desc marital_status_code income_desc  ... kid_category_desc user_id  bill_avg\n",
              "0      65+                   A      35-49K  ...      None/Unknown       1  2.728442\n",
              "1    45-54                   A      50-74K  ...      None/Unknown       7  2.998356\n",
              "\n",
              "[2 rows x 9 columns]"
            ]
          },
          "metadata": {},
          "execution_count": 59
        }
      ]
    },
    {
      "cell_type": "markdown",
      "metadata": {
        "id": "6C1sJrCjoG0f"
      },
      "source": [
        "**Когда была крайняя покупка**"
      ]
    },
    {
      "cell_type": "code",
      "metadata": {
        "colab": {
          "base_uri": "https://localhost:8080/"
        },
        "id": "iEjFNiS_oJAh",
        "outputId": "016f3227-3d76-445f-8b87-5b6c60354c68"
      },
      "source": [
        "bills_per_week = data.groupby(['user_id'])[\"week_no\"].max()\n",
        "bills_per_week"
      ],
      "execution_count": null,
      "outputs": [
        {
          "output_type": "execute_result",
          "data": {
            "text/plain": [
              "user_id\n",
              "1       14.0\n",
              "5       13.0\n",
              "7       14.0\n",
              "8       13.0\n",
              "12      11.0\n",
              "        ... \n",
              "2493    14.0\n",
              "2495    14.0\n",
              "2497    14.0\n",
              "2499    14.0\n",
              "2500    14.0\n",
              "Name: week_no, Length: 1857, dtype: float64"
            ]
          },
          "metadata": {},
          "execution_count": 60
        }
      ]
    },
    {
      "cell_type": "code",
      "metadata": {
        "colab": {
          "base_uri": "https://localhost:8080/",
          "height": 424
        },
        "id": "g7pRf1CfoOFL",
        "outputId": "8abd7fbc-5c04-4c49-c956-fd2ecfd37304"
      },
      "source": [
        "bills_per_week = bills_per_week.reset_index()\n",
        "bills_per_week.columns = [\"user_id\", \"week_last_bill\"]\n",
        "bills_per_week"
      ],
      "execution_count": null,
      "outputs": [
        {
          "output_type": "execute_result",
          "data": {
            "text/html": [
              "<div>\n",
              "<style scoped>\n",
              "    .dataframe tbody tr th:only-of-type {\n",
              "        vertical-align: middle;\n",
              "    }\n",
              "\n",
              "    .dataframe tbody tr th {\n",
              "        vertical-align: top;\n",
              "    }\n",
              "\n",
              "    .dataframe thead th {\n",
              "        text-align: right;\n",
              "    }\n",
              "</style>\n",
              "<table border=\"1\" class=\"dataframe\">\n",
              "  <thead>\n",
              "    <tr style=\"text-align: right;\">\n",
              "      <th></th>\n",
              "      <th>user_id</th>\n",
              "      <th>week_last_bill</th>\n",
              "    </tr>\n",
              "  </thead>\n",
              "  <tbody>\n",
              "    <tr>\n",
              "      <th>0</th>\n",
              "      <td>1</td>\n",
              "      <td>14.0</td>\n",
              "    </tr>\n",
              "    <tr>\n",
              "      <th>1</th>\n",
              "      <td>5</td>\n",
              "      <td>13.0</td>\n",
              "    </tr>\n",
              "    <tr>\n",
              "      <th>2</th>\n",
              "      <td>7</td>\n",
              "      <td>14.0</td>\n",
              "    </tr>\n",
              "    <tr>\n",
              "      <th>3</th>\n",
              "      <td>8</td>\n",
              "      <td>13.0</td>\n",
              "    </tr>\n",
              "    <tr>\n",
              "      <th>4</th>\n",
              "      <td>12</td>\n",
              "      <td>11.0</td>\n",
              "    </tr>\n",
              "    <tr>\n",
              "      <th>...</th>\n",
              "      <td>...</td>\n",
              "      <td>...</td>\n",
              "    </tr>\n",
              "    <tr>\n",
              "      <th>1852</th>\n",
              "      <td>2493</td>\n",
              "      <td>14.0</td>\n",
              "    </tr>\n",
              "    <tr>\n",
              "      <th>1853</th>\n",
              "      <td>2495</td>\n",
              "      <td>14.0</td>\n",
              "    </tr>\n",
              "    <tr>\n",
              "      <th>1854</th>\n",
              "      <td>2497</td>\n",
              "      <td>14.0</td>\n",
              "    </tr>\n",
              "    <tr>\n",
              "      <th>1855</th>\n",
              "      <td>2499</td>\n",
              "      <td>14.0</td>\n",
              "    </tr>\n",
              "    <tr>\n",
              "      <th>1856</th>\n",
              "      <td>2500</td>\n",
              "      <td>14.0</td>\n",
              "    </tr>\n",
              "  </tbody>\n",
              "</table>\n",
              "<p>1857 rows × 2 columns</p>\n",
              "</div>"
            ],
            "text/plain": [
              "      user_id  week_last_bill\n",
              "0           1            14.0\n",
              "1           5            13.0\n",
              "2           7            14.0\n",
              "3           8            13.0\n",
              "4          12            11.0\n",
              "...       ...             ...\n",
              "1852     2493            14.0\n",
              "1853     2495            14.0\n",
              "1854     2497            14.0\n",
              "1855     2499            14.0\n",
              "1856     2500            14.0\n",
              "\n",
              "[1857 rows x 2 columns]"
            ]
          },
          "metadata": {},
          "execution_count": 61
        }
      ]
    },
    {
      "cell_type": "code",
      "metadata": {
        "colab": {
          "base_uri": "https://localhost:8080/",
          "height": 112
        },
        "id": "2VCTGd0KoQBu",
        "outputId": "30b58d66-a4e8-490c-a893-6bad5edf7b79"
      },
      "source": [
        "user_features = user_features.merge(bills_per_week, on='user_id', how='left')\n",
        "user_features.head(2)"
      ],
      "execution_count": null,
      "outputs": [
        {
          "output_type": "execute_result",
          "data": {
            "text/html": [
              "<div>\n",
              "<style scoped>\n",
              "    .dataframe tbody tr th:only-of-type {\n",
              "        vertical-align: middle;\n",
              "    }\n",
              "\n",
              "    .dataframe tbody tr th {\n",
              "        vertical-align: top;\n",
              "    }\n",
              "\n",
              "    .dataframe thead th {\n",
              "        text-align: right;\n",
              "    }\n",
              "</style>\n",
              "<table border=\"1\" class=\"dataframe\">\n",
              "  <thead>\n",
              "    <tr style=\"text-align: right;\">\n",
              "      <th></th>\n",
              "      <th>age_desc</th>\n",
              "      <th>marital_status_code</th>\n",
              "      <th>income_desc</th>\n",
              "      <th>homeowner_desc</th>\n",
              "      <th>hh_comp_desc</th>\n",
              "      <th>household_size_desc</th>\n",
              "      <th>kid_category_desc</th>\n",
              "      <th>user_id</th>\n",
              "      <th>bill_avg</th>\n",
              "      <th>week_last_bill</th>\n",
              "    </tr>\n",
              "  </thead>\n",
              "  <tbody>\n",
              "    <tr>\n",
              "      <th>0</th>\n",
              "      <td>65+</td>\n",
              "      <td>A</td>\n",
              "      <td>35-49K</td>\n",
              "      <td>Homeowner</td>\n",
              "      <td>2 Adults No Kids</td>\n",
              "      <td>2</td>\n",
              "      <td>None/Unknown</td>\n",
              "      <td>1</td>\n",
              "      <td>2.728442</td>\n",
              "      <td>14.0</td>\n",
              "    </tr>\n",
              "    <tr>\n",
              "      <th>1</th>\n",
              "      <td>45-54</td>\n",
              "      <td>A</td>\n",
              "      <td>50-74K</td>\n",
              "      <td>Homeowner</td>\n",
              "      <td>2 Adults No Kids</td>\n",
              "      <td>2</td>\n",
              "      <td>None/Unknown</td>\n",
              "      <td>7</td>\n",
              "      <td>2.998356</td>\n",
              "      <td>14.0</td>\n",
              "    </tr>\n",
              "  </tbody>\n",
              "</table>\n",
              "</div>"
            ],
            "text/plain": [
              "  age_desc marital_status_code income_desc  ... user_id  bill_avg week_last_bill\n",
              "0      65+                   A      35-49K  ...       1  2.728442           14.0\n",
              "1    45-54                   A      50-74K  ...       7  2.998356           14.0\n",
              "\n",
              "[2 rows x 10 columns]"
            ]
          },
          "metadata": {},
          "execution_count": 62
        }
      ]
    },
    {
      "cell_type": "markdown",
      "metadata": {
        "id": "UuX9WR-roVfv"
      },
      "source": [
        "**Количество покупок в неделю**"
      ]
    },
    {
      "cell_type": "code",
      "metadata": {
        "colab": {
          "base_uri": "https://localhost:8080/"
        },
        "id": "zpzkf1EqoWux",
        "outputId": "086ec1ff-cdc4-480d-d0f6-43ac86471dc2"
      },
      "source": [
        "bills_week = data.groupby(['user_id', 'week_no'])[\"item_id\"].count()\n",
        "bills_week"
      ],
      "execution_count": null,
      "outputs": [
        {
          "output_type": "execute_result",
          "data": {
            "text/plain": [
              "user_id  week_no\n",
              "1        8.0        30\n",
              "         10.0       12\n",
              "         13.0       12\n",
              "         14.0       23\n",
              "5        13.0        6\n",
              "                    ..\n",
              "2499     11.0       10\n",
              "         13.0       82\n",
              "         14.0        1\n",
              "2500     12.0       22\n",
              "         14.0        8\n",
              "Name: item_id, Length: 7554, dtype: int64"
            ]
          },
          "metadata": {},
          "execution_count": 63
        }
      ]
    },
    {
      "cell_type": "code",
      "metadata": {
        "colab": {
          "base_uri": "https://localhost:8080/",
          "height": 206
        },
        "id": "dMCbODA_obzw",
        "outputId": "72d2241b-cd44-4510-9e35-8d76345fcada"
      },
      "source": [
        "bills_week = bills_week.reset_index()\n",
        "bills_week.columns = [\"user_id\", \"week_no\", \"item_cnt\"]\n",
        "bills_week.head()"
      ],
      "execution_count": null,
      "outputs": [
        {
          "output_type": "execute_result",
          "data": {
            "text/html": [
              "<div>\n",
              "<style scoped>\n",
              "    .dataframe tbody tr th:only-of-type {\n",
              "        vertical-align: middle;\n",
              "    }\n",
              "\n",
              "    .dataframe tbody tr th {\n",
              "        vertical-align: top;\n",
              "    }\n",
              "\n",
              "    .dataframe thead th {\n",
              "        text-align: right;\n",
              "    }\n",
              "</style>\n",
              "<table border=\"1\" class=\"dataframe\">\n",
              "  <thead>\n",
              "    <tr style=\"text-align: right;\">\n",
              "      <th></th>\n",
              "      <th>user_id</th>\n",
              "      <th>week_no</th>\n",
              "      <th>item_cnt</th>\n",
              "    </tr>\n",
              "  </thead>\n",
              "  <tbody>\n",
              "    <tr>\n",
              "      <th>0</th>\n",
              "      <td>1</td>\n",
              "      <td>8.0</td>\n",
              "      <td>30</td>\n",
              "    </tr>\n",
              "    <tr>\n",
              "      <th>1</th>\n",
              "      <td>1</td>\n",
              "      <td>10.0</td>\n",
              "      <td>12</td>\n",
              "    </tr>\n",
              "    <tr>\n",
              "      <th>2</th>\n",
              "      <td>1</td>\n",
              "      <td>13.0</td>\n",
              "      <td>12</td>\n",
              "    </tr>\n",
              "    <tr>\n",
              "      <th>3</th>\n",
              "      <td>1</td>\n",
              "      <td>14.0</td>\n",
              "      <td>23</td>\n",
              "    </tr>\n",
              "    <tr>\n",
              "      <th>4</th>\n",
              "      <td>5</td>\n",
              "      <td>13.0</td>\n",
              "      <td>6</td>\n",
              "    </tr>\n",
              "  </tbody>\n",
              "</table>\n",
              "</div>"
            ],
            "text/plain": [
              "   user_id  week_no  item_cnt\n",
              "0        1      8.0        30\n",
              "1        1     10.0        12\n",
              "2        1     13.0        12\n",
              "3        1     14.0        23\n",
              "4        5     13.0         6"
            ]
          },
          "metadata": {},
          "execution_count": 64
        }
      ]
    },
    {
      "cell_type": "code",
      "metadata": {
        "colab": {
          "base_uri": "https://localhost:8080/"
        },
        "id": "hrybs8oaofBs",
        "outputId": "a1fb78e7-1e0a-4148-9c2b-8518bf880a46"
      },
      "source": [
        "bills_count = bills_week.groupby(\"user_id\")[\"item_cnt\"].sum()\n",
        "bills_count"
      ],
      "execution_count": null,
      "outputs": [
        {
          "output_type": "execute_result",
          "data": {
            "text/plain": [
              "user_id\n",
              "1       77\n",
              "5        6\n",
              "7       73\n",
              "8       96\n",
              "12      15\n",
              "        ..\n",
              "2493    90\n",
              "2495     6\n",
              "2497    34\n",
              "2499    93\n",
              "2500    30\n",
              "Name: item_cnt, Length: 1857, dtype: int64"
            ]
          },
          "metadata": {},
          "execution_count": 65
        }
      ]
    },
    {
      "cell_type": "code",
      "metadata": {
        "id": "F06CcOlpoijx"
      },
      "source": [
        "bills_per_week['item_cnt'] = bills_count.values"
      ],
      "execution_count": null,
      "outputs": []
    },
    {
      "cell_type": "code",
      "metadata": {
        "colab": {
          "base_uri": "https://localhost:8080/"
        },
        "id": "ayvN9Iwvok86",
        "outputId": "a42d5dea-3d0d-4ebf-f702-385f07ba6dcb"
      },
      "source": [
        "old_bill = data.groupby(['user_id'])[\"week_no\"].min()\n",
        "old_bill"
      ],
      "execution_count": null,
      "outputs": [
        {
          "output_type": "execute_result",
          "data": {
            "text/plain": [
              "user_id\n",
              "1        8.0\n",
              "5       13.0\n",
              "7        4.0\n",
              "8       10.0\n",
              "12      11.0\n",
              "        ... \n",
              "2493     3.0\n",
              "2495    11.0\n",
              "2497    12.0\n",
              "2499    11.0\n",
              "2500    12.0\n",
              "Name: week_no, Length: 1857, dtype: float64"
            ]
          },
          "metadata": {},
          "execution_count": 67
        }
      ]
    },
    {
      "cell_type": "code",
      "metadata": {
        "colab": {
          "base_uri": "https://localhost:8080/",
          "height": 206
        },
        "id": "V9Rq7w8eooG8",
        "outputId": "82f35a8e-1251-4fe9-8175-ed283ecc2a3a"
      },
      "source": [
        "bills_per_week[\"week_oldest_bill\"] = old_bill.values\n",
        "bills_per_week.head()"
      ],
      "execution_count": null,
      "outputs": [
        {
          "output_type": "execute_result",
          "data": {
            "text/html": [
              "<div>\n",
              "<style scoped>\n",
              "    .dataframe tbody tr th:only-of-type {\n",
              "        vertical-align: middle;\n",
              "    }\n",
              "\n",
              "    .dataframe tbody tr th {\n",
              "        vertical-align: top;\n",
              "    }\n",
              "\n",
              "    .dataframe thead th {\n",
              "        text-align: right;\n",
              "    }\n",
              "</style>\n",
              "<table border=\"1\" class=\"dataframe\">\n",
              "  <thead>\n",
              "    <tr style=\"text-align: right;\">\n",
              "      <th></th>\n",
              "      <th>user_id</th>\n",
              "      <th>week_last_bill</th>\n",
              "      <th>item_cnt</th>\n",
              "      <th>week_oldest_bill</th>\n",
              "    </tr>\n",
              "  </thead>\n",
              "  <tbody>\n",
              "    <tr>\n",
              "      <th>0</th>\n",
              "      <td>1</td>\n",
              "      <td>14.0</td>\n",
              "      <td>77</td>\n",
              "      <td>8.0</td>\n",
              "    </tr>\n",
              "    <tr>\n",
              "      <th>1</th>\n",
              "      <td>5</td>\n",
              "      <td>13.0</td>\n",
              "      <td>6</td>\n",
              "      <td>13.0</td>\n",
              "    </tr>\n",
              "    <tr>\n",
              "      <th>2</th>\n",
              "      <td>7</td>\n",
              "      <td>14.0</td>\n",
              "      <td>73</td>\n",
              "      <td>4.0</td>\n",
              "    </tr>\n",
              "    <tr>\n",
              "      <th>3</th>\n",
              "      <td>8</td>\n",
              "      <td>13.0</td>\n",
              "      <td>96</td>\n",
              "      <td>10.0</td>\n",
              "    </tr>\n",
              "    <tr>\n",
              "      <th>4</th>\n",
              "      <td>12</td>\n",
              "      <td>11.0</td>\n",
              "      <td>15</td>\n",
              "      <td>11.0</td>\n",
              "    </tr>\n",
              "  </tbody>\n",
              "</table>\n",
              "</div>"
            ],
            "text/plain": [
              "   user_id  week_last_bill  item_cnt  week_oldest_bill\n",
              "0        1            14.0        77               8.0\n",
              "1        5            13.0         6              13.0\n",
              "2        7            14.0        73               4.0\n",
              "3        8            13.0        96              10.0\n",
              "4       12            11.0        15              11.0"
            ]
          },
          "metadata": {},
          "execution_count": 68
        }
      ]
    },
    {
      "cell_type": "code",
      "metadata": {
        "colab": {
          "base_uri": "https://localhost:8080/",
          "height": 424
        },
        "id": "fjM7GDnXorc8",
        "outputId": "73a8511d-321d-4a76-8ba4-baad85fa01cd"
      },
      "source": [
        "bills_per_week[\"user_int\"] = 95 - bills_per_week[\"week_oldest_bill\"]\n",
        "bills_per_week"
      ],
      "execution_count": null,
      "outputs": [
        {
          "output_type": "execute_result",
          "data": {
            "text/html": [
              "<div>\n",
              "<style scoped>\n",
              "    .dataframe tbody tr th:only-of-type {\n",
              "        vertical-align: middle;\n",
              "    }\n",
              "\n",
              "    .dataframe tbody tr th {\n",
              "        vertical-align: top;\n",
              "    }\n",
              "\n",
              "    .dataframe thead th {\n",
              "        text-align: right;\n",
              "    }\n",
              "</style>\n",
              "<table border=\"1\" class=\"dataframe\">\n",
              "  <thead>\n",
              "    <tr style=\"text-align: right;\">\n",
              "      <th></th>\n",
              "      <th>user_id</th>\n",
              "      <th>week_last_bill</th>\n",
              "      <th>item_cnt</th>\n",
              "      <th>week_oldest_bill</th>\n",
              "      <th>user_int</th>\n",
              "    </tr>\n",
              "  </thead>\n",
              "  <tbody>\n",
              "    <tr>\n",
              "      <th>0</th>\n",
              "      <td>1</td>\n",
              "      <td>14.0</td>\n",
              "      <td>77</td>\n",
              "      <td>8.0</td>\n",
              "      <td>87.0</td>\n",
              "    </tr>\n",
              "    <tr>\n",
              "      <th>1</th>\n",
              "      <td>5</td>\n",
              "      <td>13.0</td>\n",
              "      <td>6</td>\n",
              "      <td>13.0</td>\n",
              "      <td>82.0</td>\n",
              "    </tr>\n",
              "    <tr>\n",
              "      <th>2</th>\n",
              "      <td>7</td>\n",
              "      <td>14.0</td>\n",
              "      <td>73</td>\n",
              "      <td>4.0</td>\n",
              "      <td>91.0</td>\n",
              "    </tr>\n",
              "    <tr>\n",
              "      <th>3</th>\n",
              "      <td>8</td>\n",
              "      <td>13.0</td>\n",
              "      <td>96</td>\n",
              "      <td>10.0</td>\n",
              "      <td>85.0</td>\n",
              "    </tr>\n",
              "    <tr>\n",
              "      <th>4</th>\n",
              "      <td>12</td>\n",
              "      <td>11.0</td>\n",
              "      <td>15</td>\n",
              "      <td>11.0</td>\n",
              "      <td>84.0</td>\n",
              "    </tr>\n",
              "    <tr>\n",
              "      <th>...</th>\n",
              "      <td>...</td>\n",
              "      <td>...</td>\n",
              "      <td>...</td>\n",
              "      <td>...</td>\n",
              "      <td>...</td>\n",
              "    </tr>\n",
              "    <tr>\n",
              "      <th>1852</th>\n",
              "      <td>2493</td>\n",
              "      <td>14.0</td>\n",
              "      <td>90</td>\n",
              "      <td>3.0</td>\n",
              "      <td>92.0</td>\n",
              "    </tr>\n",
              "    <tr>\n",
              "      <th>1853</th>\n",
              "      <td>2495</td>\n",
              "      <td>14.0</td>\n",
              "      <td>6</td>\n",
              "      <td>11.0</td>\n",
              "      <td>84.0</td>\n",
              "    </tr>\n",
              "    <tr>\n",
              "      <th>1854</th>\n",
              "      <td>2497</td>\n",
              "      <td>14.0</td>\n",
              "      <td>34</td>\n",
              "      <td>12.0</td>\n",
              "      <td>83.0</td>\n",
              "    </tr>\n",
              "    <tr>\n",
              "      <th>1855</th>\n",
              "      <td>2499</td>\n",
              "      <td>14.0</td>\n",
              "      <td>93</td>\n",
              "      <td>11.0</td>\n",
              "      <td>84.0</td>\n",
              "    </tr>\n",
              "    <tr>\n",
              "      <th>1856</th>\n",
              "      <td>2500</td>\n",
              "      <td>14.0</td>\n",
              "      <td>30</td>\n",
              "      <td>12.0</td>\n",
              "      <td>83.0</td>\n",
              "    </tr>\n",
              "  </tbody>\n",
              "</table>\n",
              "<p>1857 rows × 5 columns</p>\n",
              "</div>"
            ],
            "text/plain": [
              "      user_id  week_last_bill  item_cnt  week_oldest_bill  user_int\n",
              "0           1            14.0        77               8.0      87.0\n",
              "1           5            13.0         6              13.0      82.0\n",
              "2           7            14.0        73               4.0      91.0\n",
              "3           8            13.0        96              10.0      85.0\n",
              "4          12            11.0        15              11.0      84.0\n",
              "...       ...             ...       ...               ...       ...\n",
              "1852     2493            14.0        90               3.0      92.0\n",
              "1853     2495            14.0         6              11.0      84.0\n",
              "1854     2497            14.0        34              12.0      83.0\n",
              "1855     2499            14.0        93              11.0      84.0\n",
              "1856     2500            14.0        30              12.0      83.0\n",
              "\n",
              "[1857 rows x 5 columns]"
            ]
          },
          "metadata": {},
          "execution_count": 69
        }
      ]
    },
    {
      "cell_type": "code",
      "metadata": {
        "colab": {
          "base_uri": "https://localhost:8080/",
          "height": 206
        },
        "id": "hUi7DGl1ovVc",
        "outputId": "2e2571d9-2428-431b-8c13-1c1b735f6c66"
      },
      "source": [
        "bills_per_week[\"items_per_week\"] = bills_per_week[\"item_cnt\"] / bills_per_week[\"user_int\"]\n",
        "bills_per_week.head()"
      ],
      "execution_count": null,
      "outputs": [
        {
          "output_type": "execute_result",
          "data": {
            "text/html": [
              "<div>\n",
              "<style scoped>\n",
              "    .dataframe tbody tr th:only-of-type {\n",
              "        vertical-align: middle;\n",
              "    }\n",
              "\n",
              "    .dataframe tbody tr th {\n",
              "        vertical-align: top;\n",
              "    }\n",
              "\n",
              "    .dataframe thead th {\n",
              "        text-align: right;\n",
              "    }\n",
              "</style>\n",
              "<table border=\"1\" class=\"dataframe\">\n",
              "  <thead>\n",
              "    <tr style=\"text-align: right;\">\n",
              "      <th></th>\n",
              "      <th>user_id</th>\n",
              "      <th>week_last_bill</th>\n",
              "      <th>item_cnt</th>\n",
              "      <th>week_oldest_bill</th>\n",
              "      <th>user_int</th>\n",
              "      <th>items_per_week</th>\n",
              "    </tr>\n",
              "  </thead>\n",
              "  <tbody>\n",
              "    <tr>\n",
              "      <th>0</th>\n",
              "      <td>1</td>\n",
              "      <td>14.0</td>\n",
              "      <td>77</td>\n",
              "      <td>8.0</td>\n",
              "      <td>87.0</td>\n",
              "      <td>0.885057</td>\n",
              "    </tr>\n",
              "    <tr>\n",
              "      <th>1</th>\n",
              "      <td>5</td>\n",
              "      <td>13.0</td>\n",
              "      <td>6</td>\n",
              "      <td>13.0</td>\n",
              "      <td>82.0</td>\n",
              "      <td>0.073171</td>\n",
              "    </tr>\n",
              "    <tr>\n",
              "      <th>2</th>\n",
              "      <td>7</td>\n",
              "      <td>14.0</td>\n",
              "      <td>73</td>\n",
              "      <td>4.0</td>\n",
              "      <td>91.0</td>\n",
              "      <td>0.802198</td>\n",
              "    </tr>\n",
              "    <tr>\n",
              "      <th>3</th>\n",
              "      <td>8</td>\n",
              "      <td>13.0</td>\n",
              "      <td>96</td>\n",
              "      <td>10.0</td>\n",
              "      <td>85.0</td>\n",
              "      <td>1.129412</td>\n",
              "    </tr>\n",
              "    <tr>\n",
              "      <th>4</th>\n",
              "      <td>12</td>\n",
              "      <td>11.0</td>\n",
              "      <td>15</td>\n",
              "      <td>11.0</td>\n",
              "      <td>84.0</td>\n",
              "      <td>0.178571</td>\n",
              "    </tr>\n",
              "  </tbody>\n",
              "</table>\n",
              "</div>"
            ],
            "text/plain": [
              "   user_id  week_last_bill  ...  user_int  items_per_week\n",
              "0        1            14.0  ...      87.0        0.885057\n",
              "1        5            13.0  ...      82.0        0.073171\n",
              "2        7            14.0  ...      91.0        0.802198\n",
              "3        8            13.0  ...      85.0        1.129412\n",
              "4       12            11.0  ...      84.0        0.178571\n",
              "\n",
              "[5 rows x 6 columns]"
            ]
          },
          "metadata": {},
          "execution_count": 70
        }
      ]
    },
    {
      "cell_type": "code",
      "metadata": {
        "colab": {
          "base_uri": "https://localhost:8080/",
          "height": 112
        },
        "id": "BmteRPPSoyxN",
        "outputId": "0f3a6445-308e-4ea7-bc97-41f66ad7ea3a"
      },
      "source": [
        "user_features = user_features.merge(bills_per_week[[\"user_id\", \"items_per_week\"]], on='user_id', how='left')\n",
        "user_features.head(2)"
      ],
      "execution_count": null,
      "outputs": [
        {
          "output_type": "execute_result",
          "data": {
            "text/html": [
              "<div>\n",
              "<style scoped>\n",
              "    .dataframe tbody tr th:only-of-type {\n",
              "        vertical-align: middle;\n",
              "    }\n",
              "\n",
              "    .dataframe tbody tr th {\n",
              "        vertical-align: top;\n",
              "    }\n",
              "\n",
              "    .dataframe thead th {\n",
              "        text-align: right;\n",
              "    }\n",
              "</style>\n",
              "<table border=\"1\" class=\"dataframe\">\n",
              "  <thead>\n",
              "    <tr style=\"text-align: right;\">\n",
              "      <th></th>\n",
              "      <th>age_desc</th>\n",
              "      <th>marital_status_code</th>\n",
              "      <th>income_desc</th>\n",
              "      <th>homeowner_desc</th>\n",
              "      <th>hh_comp_desc</th>\n",
              "      <th>household_size_desc</th>\n",
              "      <th>kid_category_desc</th>\n",
              "      <th>user_id</th>\n",
              "      <th>bill_avg</th>\n",
              "      <th>week_last_bill</th>\n",
              "      <th>items_per_week</th>\n",
              "    </tr>\n",
              "  </thead>\n",
              "  <tbody>\n",
              "    <tr>\n",
              "      <th>0</th>\n",
              "      <td>65+</td>\n",
              "      <td>A</td>\n",
              "      <td>35-49K</td>\n",
              "      <td>Homeowner</td>\n",
              "      <td>2 Adults No Kids</td>\n",
              "      <td>2</td>\n",
              "      <td>None/Unknown</td>\n",
              "      <td>1</td>\n",
              "      <td>2.728442</td>\n",
              "      <td>14.0</td>\n",
              "      <td>0.885057</td>\n",
              "    </tr>\n",
              "    <tr>\n",
              "      <th>1</th>\n",
              "      <td>45-54</td>\n",
              "      <td>A</td>\n",
              "      <td>50-74K</td>\n",
              "      <td>Homeowner</td>\n",
              "      <td>2 Adults No Kids</td>\n",
              "      <td>2</td>\n",
              "      <td>None/Unknown</td>\n",
              "      <td>7</td>\n",
              "      <td>2.998356</td>\n",
              "      <td>14.0</td>\n",
              "      <td>0.802198</td>\n",
              "    </tr>\n",
              "  </tbody>\n",
              "</table>\n",
              "</div>"
            ],
            "text/plain": [
              "  age_desc marital_status_code  ... week_last_bill items_per_week\n",
              "0      65+                   A  ...           14.0       0.885057\n",
              "1    45-54                   A  ...           14.0       0.802198\n",
              "\n",
              "[2 rows x 11 columns]"
            ]
          },
          "metadata": {},
          "execution_count": 71
        }
      ]
    },
    {
      "cell_type": "markdown",
      "metadata": {
        "id": "SnZLWWeko7Ge"
      },
      "source": [
        "**Сохраняем предобработанные данные**"
      ]
    },
    {
      "cell_type": "code",
      "metadata": {
        "id": "4bSTYq4eo8hT"
      },
      "source": [
        "data.to_csv(\"data.csv\", index=False)\n",
        "user_features.to_csv(\"user_features.csv\", index=False)\n",
        "item_features.to_csv(\"item_features.csv\", index=False)"
      ],
      "execution_count": null,
      "outputs": []
    },
    {
      "cell_type": "code",
      "metadata": {
        "id": "CbCoX2FZtg30"
      },
      "source": [
        ""
      ],
      "execution_count": null,
      "outputs": []
    }
  ]
}