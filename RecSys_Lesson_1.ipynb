{
 "cells": [
  {
   "cell_type": "code",
   "execution_count": 21,
   "metadata": {},
   "outputs": [],
   "source": [
    "import numpy as np\n",
    "\n",
    "recommended_list = [143, 156, 1134, 991, 27, 1543, 3345, 533, 11, 43] #id товаров\n",
    "bought_list = [521, 32, 143, 991]\n",
    "\n",
    "prices_recommended = [100, 90, 10, 450, 50, 37, 99, 120, 34, 100]\n",
    "prices_bought = [110, 190, 100, 450]"
   ]
  },
  {
   "cell_type": "code",
   "execution_count": 22,
   "metadata": {},
   "outputs": [
    {
     "name": "stdout",
     "output_type": "stream",
     "text": [
      "1\n"
     ]
    }
   ],
   "source": [
    "#был ли хотя бы 1 релевантный товар среди топ-k рекомендованных\n",
    "def hit_rate_at_k(recommended_list, bought_list, k):\n",
    "    bought_list = np.array(bought_list)\n",
    "    recommended_list = np.array(recommended_list[:k])\n",
    "    \n",
    "    flags = np.isin(bought_list, recommended_list)\n",
    "    \n",
    "    hit_rate = (flags.sum() > 0) * 1\n",
    "    \n",
    "    return hit_rate\n",
    "\n",
    "#проверим\n",
    "print(hit_rate_at_k(recommended_list, bought_list, 5))"
   ]
  },
  {
   "cell_type": "code",
   "execution_count": 23,
   "metadata": {},
   "outputs": [
    {
     "name": "stdout",
     "output_type": "stream",
     "text": [
      "0.7857142857142857\n"
     ]
    }
   ],
   "source": [
    "#(revenue of recommended items @k that are relevant) / (revenue of recommended items @k)\n",
    "def money_precision_at_k(recommended_list, bought_list, prices_recommended, k):\n",
    "        \n",
    "    # your_code\n",
    "    # Лучше считать через скалярное произведение, а не цикл\n",
    "    \n",
    "    bought_list = bought_list  # Тут нет [:k] !!\n",
    "    recommended_list = np.array(recommended_list[:k])\n",
    "    prices_recommended = np.array(prices_recommended[:k])\n",
    "    \n",
    "    flags = np.isin(recommended_list, bought_list) #вернет размерность recommended_list, т.е. k\n",
    "    \n",
    "    precision = np.dot(flags, prices_recommended) / prices_recommended.sum()\n",
    "    \n",
    "    \n",
    "    return precision\n",
    "\n",
    "#проверим\n",
    "print(money_precision_at_k(recommended_list, bought_list, prices_recommended, 5))"
   ]
  },
  {
   "cell_type": "code",
   "execution_count": 24,
   "metadata": {},
   "outputs": [],
   "source": [
    "def recall(recommended_list, bought_list):\n",
    "    \n",
    "    bought_list = np.array(bought_list)\n",
    "    recommended_list = np.array(recommended_list)\n",
    "    \n",
    "    flags = np.isin(bought_list, recommended_list)\n",
    "    \n",
    "    recall = flags.sum() / len(bought_list)\n",
    "    \n",
    "    return recall"
   ]
  },
  {
   "cell_type": "code",
   "execution_count": 25,
   "metadata": {},
   "outputs": [
    {
     "name": "stdout",
     "output_type": "stream",
     "text": [
      "0.5\n"
     ]
    }
   ],
   "source": [
    "print(recall(recommended_list, bought_list))"
   ]
  },
  {
   "cell_type": "code",
   "execution_count": 26,
   "metadata": {},
   "outputs": [
    {
     "name": "stdout",
     "output_type": "stream",
     "text": [
      "0.25\n",
      "0.5\n"
     ]
    }
   ],
   "source": [
    "#Recall@k = (# of recommended items @k that are relevant) / (# of relevant items)\n",
    "\n",
    "def recall_at_k(recommended_list, bought_list, k):\n",
    "    bought_list = np.array(bought_list)\n",
    "    recommended_list = np.array(recommended_list[:k])\n",
    "    \n",
    "    flags = np.isin(bought_list, recommended_list)\n",
    "    \n",
    "    recall = flags.sum() / len(bought_list)\n",
    "  \n",
    "    return recall\n",
    "\n",
    "#проверим\n",
    "print(recall_at_k(recommended_list, bought_list,3))\n",
    "print(recall_at_k(recommended_list, bought_list,5))"
   ]
  },
  {
   "cell_type": "code",
   "execution_count": 27,
   "metadata": {},
   "outputs": [
    {
     "name": "stdout",
     "output_type": "stream",
     "text": [
      "0.11764705882352941\n",
      "0.11764705882352941\n",
      "0.6470588235294118\n",
      "0.6470588235294118\n"
     ]
    }
   ],
   "source": [
    "#Money Recall@k = (revenue of recommended items @k that are relevant) / (revenue of relevant items) \n",
    "\n",
    "def money_recall_at_k(recommended_list, bought_list, prices_recommended, prices_bought, k):\n",
    "    bought_list = np.array(bought_list)\n",
    "    prices_bought = np.array(prices_bought)\n",
    "    recommended_list = np.array(recommended_list[:k])\n",
    "    prices_recommended = np.array(prices_recommended[:k])\n",
    "    \n",
    "    flags = np.isin(recommended_list, bought_list)\n",
    "    \n",
    "    r1 = np.dot(flags,prices_recommended)\n",
    "    r2 = prices_bought.sum()\n",
    "    recall = r1 / r2\n",
    "  \n",
    "    return recall\n",
    "\n",
    "#проверим\n",
    "\n",
    "print(money_recall_at_k(recommended_list, bought_list, prices_recommended, prices_bought,1))\n",
    "print(money_recall_at_k(recommended_list, bought_list, prices_recommended, prices_bought,3))\n",
    "print(money_recall_at_k(recommended_list, bought_list, prices_recommended, prices_bought,4))\n",
    "print(money_recall_at_k(recommended_list, bought_list, prices_recommended, prices_bought,5))"
   ]
  },
  {
   "cell_type": "code",
   "execution_count": 28,
   "metadata": {},
   "outputs": [],
   "source": [
    "## MRR\n",
    "def reciprocal_rank(recommended_list, bought_list):\n",
    "    \n",
    "    flags = np.isin(recommended_list, bought_list)\n",
    "    \n",
    "    if sum(flags) == 0:\n",
    "        return 0\n",
    "    \n",
    "    sum_ = 0\n",
    "    count = 0\n",
    "    for i in range(1, len(flags)+1):\n",
    "        if flags[i-1]:\n",
    "            sum_ += 1/i\n",
    "            print(f'iteration:{i}',f'rank (1/i):{1/i}')\n",
    "            count += 1\n",
    "    result = sum_ / count\n",
    "    \n",
    "    return result"
   ]
  },
  {
   "cell_type": "code",
   "execution_count": 29,
   "metadata": {},
   "outputs": [
    {
     "name": "stdout",
     "output_type": "stream",
     "text": [
      "iteration:1 rank (1/i):1.0\n",
      "iteration:4 rank (1/i):0.25\n",
      "0.625\n"
     ]
    }
   ],
   "source": [
    "print(reciprocal_rank(recommended_list, bought_list))"
   ]
  },
  {
   "cell_type": "code",
   "execution_count": 42,
   "metadata": {},
   "outputs": [],
   "source": [
    "## MAP@k (Mean Average Precision@k) - среднее AP@k по всем юзерам.\n",
    "def precision(recommended_list, bought_list):\n",
    "    bought_list = np.array(bought_list)\n",
    "    recommended_list = np.array(recommended_list)\n",
    "    \n",
    "    flags = np.isin(bought_list, recommended_list)\n",
    "    return flags.sum() / len(recommended_list)\n",
    "\n",
    "def precision_at_k(recommended_list, bought_list, k=5):\n",
    "    return precision(recommended_list[:k], bought_list)\n"
   ]
  },
  {
   "cell_type": "code",
   "execution_count": 43,
   "metadata": {},
   "outputs": [],
   "source": [
    "def ap_k(recommended_list, bought_list, k=5):\n",
    "    bought_list = np.array(bought_list)\n",
    "    recommended_list = np.array(recommended_list)[:k]\n",
    "    \n",
    "    # np.nonzero() - get indexes of nonzero elements of array, returns a tuple with index array as 0th member\n",
    "    rec_and_relev_idx = np.nonzero(np.isin(recommended_list, bought_list))[0]\n",
    "    rec_and_relev_count = len(rec_and_relev_idx)\n",
    "    if rec_and_relev_count == 0:\n",
    "        return 0\n",
    "    \n",
    "    precision_sum = sum([precision_at_k(recommended_list, bought_list, k=idx+1) for idx in rec_and_relev_idx])\n",
    "    return precision_sum / rec_and_relev_count"
   ]
  },
  {
   "cell_type": "code",
   "execution_count": 44,
   "metadata": {},
   "outputs": [
    {
     "data": {
      "text/plain": [
       "0.75"
      ]
     },
     "execution_count": 44,
     "metadata": {},
     "output_type": "execute_result"
    }
   ],
   "source": [
    "ap_k(recommended_list, bought_list, k=4)"
   ]
  },
  {
   "cell_type": "code",
   "execution_count": 49,
   "metadata": {},
   "outputs": [],
   "source": [
    "def map_k(recommended_list, bought_list, k=5):\n",
    "    ap_k_sum = sum([ap_k(user_rec_list, user_bought_list, k=k)\n",
    "                    for user_rec_list, user_bought_list in zip(recommended_list, bought_list)])\n",
    "    return ap_k_sum / len(recommended_list)"
   ]
  },
  {
   "cell_type": "code",
   "execution_count": 50,
   "metadata": {},
   "outputs": [],
   "source": [
    "# 3 пользователя\n",
    "rec_list_3_users = [[143, 156, 1134, 991, 27, 1543, 3345, 533, 11, 43],   # user 1\n",
    "                    [1134, 533, 14, 4, 15, 1543, 1, 99, 27, 3345],        # user 2\n",
    "                    [991, 3345, 27, 533, 43, 143, 1543, 156, 1134, 11]]   # user 3\n",
    "\n",
    "bought_list_3_users = [[521, 32, 143],            # user 1\n",
    "                       [143, 156, 991, 43, 11],   # user 2\n",
    "                       [1, 2]]                    # user 3"
   ]
  },
  {
   "cell_type": "code",
   "execution_count": 51,
   "metadata": {},
   "outputs": [],
   "source": [
    "def ap_k(recommended_list, bought_list, k=5):\n",
    "    \n",
    "    bought_list = np.array(bought_list)\n",
    "    recommended_list = np.array(recommended_list)\n",
    "    \n",
    "    flags = np.isin(recommended_list, bought_list)\n",
    "    \n",
    "    if sum(flags) == 0:\n",
    "        return 0\n",
    "    \n",
    "    sum_ = 0\n",
    "    for i in range(1, k+1):\n",
    "        \n",
    "        if flags[i] == True:\n",
    "            p_k = precision_at_k(recommended_list, bought_list, k=i)\n",
    "            sum_ += p_k\n",
    "            \n",
    "    result = sum_ / sum(flags)\n",
    "    \n",
    "    return result"
   ]
  },
  {
   "cell_type": "code",
   "execution_count": 52,
   "metadata": {},
   "outputs": [
    {
     "data": {
      "text/plain": [
       "0.16666666666666666"
      ]
     },
     "execution_count": 52,
     "metadata": {},
     "output_type": "execute_result"
    }
   ],
   "source": [
    "ap_k(recommended_list, bought_list, k=5)"
   ]
  },
  {
   "cell_type": "code",
   "execution_count": 53,
   "metadata": {},
   "outputs": [],
   "source": [
    "def map_k(recommended_list, bought_list, k=5):\n",
    "    ap_k_sum = sum([ap_k(user_rec_list, user_bought_list, k=k)\n",
    "                    for user_rec_list, user_bought_list in zip(recommended_list, bought_list)])\n",
    "    return ap_k_sum / len(recommended_list)"
   ]
  },
  {
   "cell_type": "code",
   "execution_count": 54,
   "metadata": {},
   "outputs": [],
   "source": [
    "rec_list_3_users = [[143, 156, 1134, 991, 27, 1543, 3345, 533, 11, 43],   # user 1\n",
    "                    [1134, 533, 14, 4, 15, 1543, 1, 99, 27, 3345],        # user 2\n",
    "                    [991, 3345, 27, 533, 43, 143, 1543, 156, 1134, 11]]   # user 3\n",
    "\n",
    "bought_list_3_users = [[521, 32, 143],            # user 1\n",
    "                       [143, 156, 991, 43, 11],   # user 2\n",
    "                       [1, 2]]                    # user 3"
   ]
  },
  {
   "cell_type": "code",
   "execution_count": 60,
   "metadata": {},
   "outputs": [
    {
     "data": {
      "text/plain": [
       "0.0"
      ]
     },
     "execution_count": 60,
     "metadata": {},
     "output_type": "execute_result"
    }
   ],
   "source": [
    "map_k(rec_list_3_users, bought_list_3_users, k=4)"
   ]
  },
  {
   "cell_type": "code",
   "execution_count": null,
   "metadata": {},
   "outputs": [],
   "source": []
  }
 ],
 "metadata": {
  "kernelspec": {
   "display_name": "Python 3",
   "language": "python",
   "name": "python3"
  },
  "language_info": {
   "codemirror_mode": {
    "name": "ipython",
    "version": 3
   },
   "file_extension": ".py",
   "mimetype": "text/x-python",
   "name": "python",
   "nbconvert_exporter": "python",
   "pygments_lexer": "ipython3",
   "version": "3.8.5"
  }
 },
 "nbformat": 4,
 "nbformat_minor": 4
}
