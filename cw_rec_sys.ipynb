{
  "nbformat": 4,
  "nbformat_minor": 0,
  "metadata": {
    "colab": {
      "name": "cw_rec_sys.ipynb",
      "provenance": [],
      "collapsed_sections": [],
      "authorship_tag": "ABX9TyM0uh5Mqt2LRxbmxG1FPe7Z",
      "include_colab_link": true
    },
    "kernelspec": {
      "name": "python3",
      "display_name": "Python 3"
    },
    "language_info": {
      "name": "python"
    }
  },
  "cells": [
    {
      "cell_type": "markdown",
      "metadata": {
        "id": "view-in-github",
        "colab_type": "text"
      },
      "source": [
        "<a href=\"https://colab.research.google.com/github/TanyaGoremykina/Recsystems/blob/main/cw_rec_sys.ipynb\" target=\"_parent\"><img src=\"https://colab.research.google.com/assets/colab-badge.svg\" alt=\"Open In Colab\"/></a>"
      ]
    },
    {
      "cell_type": "code",
      "metadata": {
        "colab": {
          "base_uri": "https://localhost:8080/"
        },
        "id": "crobkH1kvpGr",
        "outputId": "e065edf8-16ad-4ef4-ca1a-e0b5c385d6fc"
      },
      "source": [
        "pip install implicit"
      ],
      "execution_count": 1,
      "outputs": [
        {
          "output_type": "stream",
          "name": "stdout",
          "text": [
            "Collecting implicit\n",
            "  Downloading implicit-0.4.8.tar.gz (1.1 MB)\n",
            "\u001b[?25l\r\u001b[K     |▎                               | 10 kB 18.8 MB/s eta 0:00:01\r\u001b[K     |▋                               | 20 kB 23.9 MB/s eta 0:00:01\r\u001b[K     |▉                               | 30 kB 28.9 MB/s eta 0:00:01\r\u001b[K     |█▏                              | 40 kB 26.6 MB/s eta 0:00:01\r\u001b[K     |█▍                              | 51 kB 9.2 MB/s eta 0:00:01\r\u001b[K     |█▊                              | 61 kB 10.5 MB/s eta 0:00:01\r\u001b[K     |██                              | 71 kB 8.6 MB/s eta 0:00:01\r\u001b[K     |██▎                             | 81 kB 9.4 MB/s eta 0:00:01\r\u001b[K     |██▋                             | 92 kB 10.4 MB/s eta 0:00:01\r\u001b[K     |██▉                             | 102 kB 8.3 MB/s eta 0:00:01\r\u001b[K     |███▏                            | 112 kB 8.3 MB/s eta 0:00:01\r\u001b[K     |███▍                            | 122 kB 8.3 MB/s eta 0:00:01\r\u001b[K     |███▊                            | 133 kB 8.3 MB/s eta 0:00:01\r\u001b[K     |████                            | 143 kB 8.3 MB/s eta 0:00:01\r\u001b[K     |████▎                           | 153 kB 8.3 MB/s eta 0:00:01\r\u001b[K     |████▋                           | 163 kB 8.3 MB/s eta 0:00:01\r\u001b[K     |████▉                           | 174 kB 8.3 MB/s eta 0:00:01\r\u001b[K     |█████▏                          | 184 kB 8.3 MB/s eta 0:00:01\r\u001b[K     |█████▍                          | 194 kB 8.3 MB/s eta 0:00:01\r\u001b[K     |█████▊                          | 204 kB 8.3 MB/s eta 0:00:01\r\u001b[K     |██████                          | 215 kB 8.3 MB/s eta 0:00:01\r\u001b[K     |██████▎                         | 225 kB 8.3 MB/s eta 0:00:01\r\u001b[K     |██████▋                         | 235 kB 8.3 MB/s eta 0:00:01\r\u001b[K     |██████▉                         | 245 kB 8.3 MB/s eta 0:00:01\r\u001b[K     |███████▏                        | 256 kB 8.3 MB/s eta 0:00:01\r\u001b[K     |███████▌                        | 266 kB 8.3 MB/s eta 0:00:01\r\u001b[K     |███████▊                        | 276 kB 8.3 MB/s eta 0:00:01\r\u001b[K     |████████                        | 286 kB 8.3 MB/s eta 0:00:01\r\u001b[K     |████████▎                       | 296 kB 8.3 MB/s eta 0:00:01\r\u001b[K     |████████▋                       | 307 kB 8.3 MB/s eta 0:00:01\r\u001b[K     |████████▉                       | 317 kB 8.3 MB/s eta 0:00:01\r\u001b[K     |█████████▏                      | 327 kB 8.3 MB/s eta 0:00:01\r\u001b[K     |█████████▌                      | 337 kB 8.3 MB/s eta 0:00:01\r\u001b[K     |█████████▊                      | 348 kB 8.3 MB/s eta 0:00:01\r\u001b[K     |██████████                      | 358 kB 8.3 MB/s eta 0:00:01\r\u001b[K     |██████████▎                     | 368 kB 8.3 MB/s eta 0:00:01\r\u001b[K     |██████████▋                     | 378 kB 8.3 MB/s eta 0:00:01\r\u001b[K     |██████████▉                     | 389 kB 8.3 MB/s eta 0:00:01\r\u001b[K     |███████████▏                    | 399 kB 8.3 MB/s eta 0:00:01\r\u001b[K     |███████████▌                    | 409 kB 8.3 MB/s eta 0:00:01\r\u001b[K     |███████████▊                    | 419 kB 8.3 MB/s eta 0:00:01\r\u001b[K     |████████████                    | 430 kB 8.3 MB/s eta 0:00:01\r\u001b[K     |████████████▎                   | 440 kB 8.3 MB/s eta 0:00:01\r\u001b[K     |████████████▋                   | 450 kB 8.3 MB/s eta 0:00:01\r\u001b[K     |█████████████                   | 460 kB 8.3 MB/s eta 0:00:01\r\u001b[K     |█████████████▏                  | 471 kB 8.3 MB/s eta 0:00:01\r\u001b[K     |█████████████▌                  | 481 kB 8.3 MB/s eta 0:00:01\r\u001b[K     |█████████████▊                  | 491 kB 8.3 MB/s eta 0:00:01\r\u001b[K     |██████████████                  | 501 kB 8.3 MB/s eta 0:00:01\r\u001b[K     |██████████████▎                 | 512 kB 8.3 MB/s eta 0:00:01\r\u001b[K     |██████████████▋                 | 522 kB 8.3 MB/s eta 0:00:01\r\u001b[K     |███████████████                 | 532 kB 8.3 MB/s eta 0:00:01\r\u001b[K     |███████████████▏                | 542 kB 8.3 MB/s eta 0:00:01\r\u001b[K     |███████████████▌                | 552 kB 8.3 MB/s eta 0:00:01\r\u001b[K     |███████████████▊                | 563 kB 8.3 MB/s eta 0:00:01\r\u001b[K     |████████████████                | 573 kB 8.3 MB/s eta 0:00:01\r\u001b[K     |████████████████▎               | 583 kB 8.3 MB/s eta 0:00:01\r\u001b[K     |████████████████▋               | 593 kB 8.3 MB/s eta 0:00:01\r\u001b[K     |█████████████████               | 604 kB 8.3 MB/s eta 0:00:01\r\u001b[K     |█████████████████▏              | 614 kB 8.3 MB/s eta 0:00:01\r\u001b[K     |█████████████████▌              | 624 kB 8.3 MB/s eta 0:00:01\r\u001b[K     |█████████████████▊              | 634 kB 8.3 MB/s eta 0:00:01\r\u001b[K     |██████████████████              | 645 kB 8.3 MB/s eta 0:00:01\r\u001b[K     |██████████████████▍             | 655 kB 8.3 MB/s eta 0:00:01\r\u001b[K     |██████████████████▋             | 665 kB 8.3 MB/s eta 0:00:01\r\u001b[K     |███████████████████             | 675 kB 8.3 MB/s eta 0:00:01\r\u001b[K     |███████████████████▏            | 686 kB 8.3 MB/s eta 0:00:01\r\u001b[K     |███████████████████▌            | 696 kB 8.3 MB/s eta 0:00:01\r\u001b[K     |███████████████████▊            | 706 kB 8.3 MB/s eta 0:00:01\r\u001b[K     |████████████████████            | 716 kB 8.3 MB/s eta 0:00:01\r\u001b[K     |████████████████████▍           | 727 kB 8.3 MB/s eta 0:00:01\r\u001b[K     |████████████████████▋           | 737 kB 8.3 MB/s eta 0:00:01\r\u001b[K     |█████████████████████           | 747 kB 8.3 MB/s eta 0:00:01\r\u001b[K     |█████████████████████▏          | 757 kB 8.3 MB/s eta 0:00:01\r\u001b[K     |█████████████████████▌          | 768 kB 8.3 MB/s eta 0:00:01\r\u001b[K     |█████████████████████▊          | 778 kB 8.3 MB/s eta 0:00:01\r\u001b[K     |██████████████████████          | 788 kB 8.3 MB/s eta 0:00:01\r\u001b[K     |██████████████████████▍         | 798 kB 8.3 MB/s eta 0:00:01\r\u001b[K     |██████████████████████▋         | 808 kB 8.3 MB/s eta 0:00:01\r\u001b[K     |███████████████████████         | 819 kB 8.3 MB/s eta 0:00:01\r\u001b[K     |███████████████████████▏        | 829 kB 8.3 MB/s eta 0:00:01\r\u001b[K     |███████████████████████▌        | 839 kB 8.3 MB/s eta 0:00:01\r\u001b[K     |███████████████████████▉        | 849 kB 8.3 MB/s eta 0:00:01\r\u001b[K     |████████████████████████        | 860 kB 8.3 MB/s eta 0:00:01\r\u001b[K     |████████████████████████▍       | 870 kB 8.3 MB/s eta 0:00:01\r\u001b[K     |████████████████████████▋       | 880 kB 8.3 MB/s eta 0:00:01\r\u001b[K     |█████████████████████████       | 890 kB 8.3 MB/s eta 0:00:01\r\u001b[K     |█████████████████████████▏      | 901 kB 8.3 MB/s eta 0:00:01\r\u001b[K     |█████████████████████████▌      | 911 kB 8.3 MB/s eta 0:00:01\r\u001b[K     |█████████████████████████▉      | 921 kB 8.3 MB/s eta 0:00:01\r\u001b[K     |██████████████████████████      | 931 kB 8.3 MB/s eta 0:00:01\r\u001b[K     |██████████████████████████▍     | 942 kB 8.3 MB/s eta 0:00:01\r\u001b[K     |██████████████████████████▋     | 952 kB 8.3 MB/s eta 0:00:01\r\u001b[K     |███████████████████████████     | 962 kB 8.3 MB/s eta 0:00:01\r\u001b[K     |███████████████████████████▏    | 972 kB 8.3 MB/s eta 0:00:01\r\u001b[K     |███████████████████████████▌    | 983 kB 8.3 MB/s eta 0:00:01\r\u001b[K     |███████████████████████████▉    | 993 kB 8.3 MB/s eta 0:00:01\r\u001b[K     |████████████████████████████    | 1.0 MB 8.3 MB/s eta 0:00:01\r\u001b[K     |████████████████████████████▍   | 1.0 MB 8.3 MB/s eta 0:00:01\r\u001b[K     |████████████████████████████▋   | 1.0 MB 8.3 MB/s eta 0:00:01\r\u001b[K     |█████████████████████████████   | 1.0 MB 8.3 MB/s eta 0:00:01\r\u001b[K     |█████████████████████████████▎  | 1.0 MB 8.3 MB/s eta 0:00:01\r\u001b[K     |█████████████████████████████▌  | 1.1 MB 8.3 MB/s eta 0:00:01\r\u001b[K     |█████████████████████████████▉  | 1.1 MB 8.3 MB/s eta 0:00:01\r\u001b[K     |██████████████████████████████  | 1.1 MB 8.3 MB/s eta 0:00:01\r\u001b[K     |██████████████████████████████▍ | 1.1 MB 8.3 MB/s eta 0:00:01\r\u001b[K     |██████████████████████████████▋ | 1.1 MB 8.3 MB/s eta 0:00:01\r\u001b[K     |███████████████████████████████ | 1.1 MB 8.3 MB/s eta 0:00:01\r\u001b[K     |███████████████████████████████▎| 1.1 MB 8.3 MB/s eta 0:00:01\r\u001b[K     |███████████████████████████████▌| 1.1 MB 8.3 MB/s eta 0:00:01\r\u001b[K     |███████████████████████████████▉| 1.1 MB 8.3 MB/s eta 0:00:01\r\u001b[K     |████████████████████████████████| 1.1 MB 8.3 MB/s \n",
            "\u001b[?25h  Installing build dependencies ... \u001b[?25l\u001b[?25hdone\n",
            "  Getting requirements to build wheel ... \u001b[?25l\u001b[?25hdone\n",
            "  Installing backend dependencies ... \u001b[?25l\u001b[?25hdone\n",
            "    Preparing wheel metadata ... \u001b[?25l\u001b[?25hdone\n",
            "Requirement already satisfied: tqdm>=4.27 in /usr/local/lib/python3.7/dist-packages (from implicit) (4.62.3)\n",
            "Requirement already satisfied: scipy>=0.16 in /usr/local/lib/python3.7/dist-packages (from implicit) (1.4.1)\n",
            "Requirement already satisfied: numpy in /usr/local/lib/python3.7/dist-packages (from implicit) (1.19.5)\n",
            "Building wheels for collected packages: implicit\n",
            "  Building wheel for implicit (PEP 517) ... \u001b[?25l\u001b[?25hdone\n",
            "  Created wheel for implicit: filename=implicit-0.4.8-cp37-cp37m-linux_x86_64.whl size=4606568 sha256=1ab2eb58e50890c0034fd1243485c35dd089fc085f88e7ae37e7486cf7069dae\n",
            "  Stored in directory: /root/.cache/pip/wheels/88/e6/34/25e73cccbaf1a961154bb562a5f86123b68fdbf40e306073d6\n",
            "Successfully built implicit\n",
            "Installing collected packages: implicit\n",
            "Successfully installed implicit-0.4.8\n"
          ]
        }
      ]
    },
    {
      "cell_type": "code",
      "metadata": {
        "colab": {
          "base_uri": "https://localhost:8080/"
        },
        "id": "YnK_5KLMxbNK",
        "outputId": "18ead408-6f0d-466e-b5bd-f5de750ce3f5"
      },
      "source": [
        "pip install lightfm"
      ],
      "execution_count": 2,
      "outputs": [
        {
          "output_type": "stream",
          "name": "stdout",
          "text": [
            "Collecting lightfm\n",
            "  Downloading lightfm-1.16.tar.gz (310 kB)\n",
            "\u001b[?25l\r\u001b[K     |█                               | 10 kB 19.8 MB/s eta 0:00:01\r\u001b[K     |██▏                             | 20 kB 26.7 MB/s eta 0:00:01\r\u001b[K     |███▏                            | 30 kB 22.8 MB/s eta 0:00:01\r\u001b[K     |████▎                           | 40 kB 20.6 MB/s eta 0:00:01\r\u001b[K     |█████▎                          | 51 kB 9.6 MB/s eta 0:00:01\r\u001b[K     |██████▍                         | 61 kB 8.2 MB/s eta 0:00:01\r\u001b[K     |███████▍                        | 71 kB 9.1 MB/s eta 0:00:01\r\u001b[K     |████████▌                       | 81 kB 10.2 MB/s eta 0:00:01\r\u001b[K     |█████████▌                      | 92 kB 10.4 MB/s eta 0:00:01\r\u001b[K     |██████████▋                     | 102 kB 8.8 MB/s eta 0:00:01\r\u001b[K     |███████████▋                    | 112 kB 8.8 MB/s eta 0:00:01\r\u001b[K     |████████████▊                   | 122 kB 8.8 MB/s eta 0:00:01\r\u001b[K     |█████████████▊                  | 133 kB 8.8 MB/s eta 0:00:01\r\u001b[K     |██████████████▉                 | 143 kB 8.8 MB/s eta 0:00:01\r\u001b[K     |███████████████▉                | 153 kB 8.8 MB/s eta 0:00:01\r\u001b[K     |█████████████████               | 163 kB 8.8 MB/s eta 0:00:01\r\u001b[K     |██████████████████              | 174 kB 8.8 MB/s eta 0:00:01\r\u001b[K     |███████████████████             | 184 kB 8.8 MB/s eta 0:00:01\r\u001b[K     |████████████████████            | 194 kB 8.8 MB/s eta 0:00:01\r\u001b[K     |█████████████████████▏          | 204 kB 8.8 MB/s eta 0:00:01\r\u001b[K     |██████████████████████▏         | 215 kB 8.8 MB/s eta 0:00:01\r\u001b[K     |███████████████████████▎        | 225 kB 8.8 MB/s eta 0:00:01\r\u001b[K     |████████████████████████▎       | 235 kB 8.8 MB/s eta 0:00:01\r\u001b[K     |█████████████████████████▍      | 245 kB 8.8 MB/s eta 0:00:01\r\u001b[K     |██████████████████████████▍     | 256 kB 8.8 MB/s eta 0:00:01\r\u001b[K     |███████████████████████████▌    | 266 kB 8.8 MB/s eta 0:00:01\r\u001b[K     |████████████████████████████▌   | 276 kB 8.8 MB/s eta 0:00:01\r\u001b[K     |█████████████████████████████▋  | 286 kB 8.8 MB/s eta 0:00:01\r\u001b[K     |██████████████████████████████▋ | 296 kB 8.8 MB/s eta 0:00:01\r\u001b[K     |███████████████████████████████▊| 307 kB 8.8 MB/s eta 0:00:01\r\u001b[K     |████████████████████████████████| 310 kB 8.8 MB/s \n",
            "\u001b[?25hRequirement already satisfied: numpy in /usr/local/lib/python3.7/dist-packages (from lightfm) (1.19.5)\n",
            "Requirement already satisfied: scipy>=0.17.0 in /usr/local/lib/python3.7/dist-packages (from lightfm) (1.4.1)\n",
            "Requirement already satisfied: requests in /usr/local/lib/python3.7/dist-packages (from lightfm) (2.23.0)\n",
            "Requirement already satisfied: scikit-learn in /usr/local/lib/python3.7/dist-packages (from lightfm) (0.22.2.post1)\n",
            "Requirement already satisfied: idna<3,>=2.5 in /usr/local/lib/python3.7/dist-packages (from requests->lightfm) (2.10)\n",
            "Requirement already satisfied: urllib3!=1.25.0,!=1.25.1,<1.26,>=1.21.1 in /usr/local/lib/python3.7/dist-packages (from requests->lightfm) (1.24.3)\n",
            "Requirement already satisfied: chardet<4,>=3.0.2 in /usr/local/lib/python3.7/dist-packages (from requests->lightfm) (3.0.4)\n",
            "Requirement already satisfied: certifi>=2017.4.17 in /usr/local/lib/python3.7/dist-packages (from requests->lightfm) (2021.5.30)\n",
            "Requirement already satisfied: joblib>=0.11 in /usr/local/lib/python3.7/dist-packages (from scikit-learn->lightfm) (1.0.1)\n",
            "Building wheels for collected packages: lightfm\n",
            "  Building wheel for lightfm (setup.py) ... \u001b[?25l\u001b[?25hdone\n",
            "  Created wheel for lightfm: filename=lightfm-1.16-cp37-cp37m-linux_x86_64.whl size=705349 sha256=c8dbe0a6dd7d5e9b4f02991219885e3870de0366dfc039597a493c7fa50a4010\n",
            "  Stored in directory: /root/.cache/pip/wheels/f8/56/28/5772a3bd3413d65f03aa452190b00898b680b10028a1021914\n",
            "Successfully built lightfm\n",
            "Installing collected packages: lightfm\n",
            "Successfully installed lightfm-1.16\n"
          ]
        }
      ]
    },
    {
      "cell_type": "code",
      "metadata": {
        "id": "Hk6BMh_gxngv"
      },
      "source": [
        "import pandas as pd\n",
        "import numpy as np\n",
        "import matplotlib.pyplot as plt\n",
        "%matplotlib inline\n",
        "import random\n",
        "\n",
        "# Для работы с матрицами\n",
        "from scipy.sparse import csr_matrix\n",
        "\n",
        "# Матричная факторизация\n",
        "from implicit import als\n",
        "\n",
        "# Модель второго уровня\n",
        "from lightgbm import LGBMClassifier\n",
        "\n",
        "import os, sys"
      ],
      "execution_count": 3,
      "outputs": []
    },
    {
      "cell_type": "code",
      "metadata": {
        "id": "DBV6bU64yyWw"
      },
      "source": [
        "module_path = os.path.abspath(os.path.join(os.pardir))\n",
        "src_path = os.path.join(module_path, \"src\")\n",
        "if module_path not in sys.path:\n",
        "    sys.path.append(module_path)\n",
        "    sys.path.append(src_path)\n",
        "    \n",
        "from src.metrics import precision_at_k, recall_at_k\n",
        "from src.utils import prefilter_items\n",
        "from src.recommenders import MainRecommender"
      ],
      "execution_count": 4,
      "outputs": []
    },
    {
      "cell_type": "code",
      "metadata": {
        "id": "4puP_7HIzLTt"
      },
      "source": [
        "data = pd.read_csv('data.csv')\n",
        "user_features = pd.read_csv('user_features.csv')\n",
        "item_features = pd.read_csv('item_features.csv')"
      ],
      "execution_count": 6,
      "outputs": []
    },
    {
      "cell_type": "code",
      "metadata": {
        "colab": {
          "base_uri": "https://localhost:8080/",
          "height": 112
        },
        "id": "szwg3Aspz8al",
        "outputId": "536115c1-c312-4f12-840e-9d549c517535"
      },
      "source": [
        "# схема обучения и валидации\n",
        "# -- давние покупки -- | -- 6 недель -- | -- 3 недель -- \n",
        "# подобрать размер 2-ого датасета (6 недель) --> learning curve (зависимость метрики recall@k от размера датасета)\n",
        "val_lvl_1_size_weeks = 6\n",
        "val_lvl_2_size_weeks = 3\n",
        "\n",
        "data_train_lvl_1 = data[data['week_no'] < data['week_no'].max() - (val_lvl_1_size_weeks + val_lvl_2_size_weeks)]\n",
        "data_val_lvl_1 = data[(data['week_no'] >= data['week_no'].max() - (val_lvl_1_size_weeks + val_lvl_2_size_weeks)) &\n",
        "                      (data['week_no'] < data['week_no'].max() - (val_lvl_2_size_weeks))]\n",
        "\n",
        "data_train_lvl_2 = data_val_lvl_1.copy()  # Для наглядности. Далее мы добавим изменения, и они будут отличаться\n",
        "data_val_lvl_2 = data[data['week_no'] >= data['week_no'].max() - val_lvl_2_size_weeks]\n",
        "\n",
        "data_train_lvl_1.head(2)"
      ],
      "execution_count": 7,
      "outputs": [
        {
          "output_type": "execute_result",
          "data": {
            "text/html": [
              "<div>\n",
              "<style scoped>\n",
              "    .dataframe tbody tr th:only-of-type {\n",
              "        vertical-align: middle;\n",
              "    }\n",
              "\n",
              "    .dataframe tbody tr th {\n",
              "        vertical-align: top;\n",
              "    }\n",
              "\n",
              "    .dataframe thead th {\n",
              "        text-align: right;\n",
              "    }\n",
              "</style>\n",
              "<table border=\"1\" class=\"dataframe\">\n",
              "  <thead>\n",
              "    <tr style=\"text-align: right;\">\n",
              "      <th></th>\n",
              "      <th>user_id</th>\n",
              "      <th>basket_id</th>\n",
              "      <th>day</th>\n",
              "      <th>item_id</th>\n",
              "      <th>quantity</th>\n",
              "      <th>sales_value</th>\n",
              "      <th>store_id</th>\n",
              "      <th>retail_disc</th>\n",
              "      <th>trans_time</th>\n",
              "      <th>week_no</th>\n",
              "      <th>coupon_disc</th>\n",
              "      <th>coupon_match_disc</th>\n",
              "    </tr>\n",
              "  </thead>\n",
              "  <tbody>\n",
              "    <tr>\n",
              "      <th>0</th>\n",
              "      <td>2375</td>\n",
              "      <td>26984851472</td>\n",
              "      <td>1.0</td>\n",
              "      <td>1004906.0</td>\n",
              "      <td>1.0</td>\n",
              "      <td>1.39</td>\n",
              "      <td>364.0</td>\n",
              "      <td>-0.6</td>\n",
              "      <td>1631.0</td>\n",
              "      <td>1.0</td>\n",
              "      <td>0.0</td>\n",
              "      <td>0.0</td>\n",
              "    </tr>\n",
              "    <tr>\n",
              "      <th>1</th>\n",
              "      <td>2375</td>\n",
              "      <td>26984851472</td>\n",
              "      <td>1.0</td>\n",
              "      <td>1033142.0</td>\n",
              "      <td>1.0</td>\n",
              "      <td>0.82</td>\n",
              "      <td>364.0</td>\n",
              "      <td>0.0</td>\n",
              "      <td>1631.0</td>\n",
              "      <td>1.0</td>\n",
              "      <td>0.0</td>\n",
              "      <td>0.0</td>\n",
              "    </tr>\n",
              "  </tbody>\n",
              "</table>\n",
              "</div>"
            ],
            "text/plain": [
              "   user_id    basket_id  day  ...  week_no  coupon_disc  coupon_match_disc\n",
              "0     2375  26984851472  1.0  ...      1.0          0.0                0.0\n",
              "1     2375  26984851472  1.0  ...      1.0          0.0                0.0\n",
              "\n",
              "[2 rows x 12 columns]"
            ]
          },
          "metadata": {},
          "execution_count": 7
        }
      ]
    },
    {
      "cell_type": "code",
      "metadata": {
        "id": "fVHW9E4h0CFv"
      },
      "source": [
        "recommender = MainRecommender(data_train_lvl_1, item_features, user_features)"
      ],
      "execution_count": null,
      "outputs": []
    },
    {
      "cell_type": "code",
      "metadata": {
        "id": "h3W8XmEd0exk"
      },
      "source": [
        "users_lvl_2_pred_als = pd.DataFrame(data_val_lvl_2['user_id'].unique())\n",
        "users_lvl_2_pred_als.columns = ['user_id']"
      ],
      "execution_count": 9,
      "outputs": []
    },
    {
      "cell_type": "code",
      "metadata": {
        "id": "yEDhgwUO0hgU"
      },
      "source": [
        "result_lvl_2 = data_val_lvl_2.groupby('user_id')['item_id'].unique().reset_index()\n",
        "result_lvl_2.columns=['user_id', 'actual']"
      ],
      "execution_count": 10,
      "outputs": []
    },
    {
      "cell_type": "code",
      "metadata": {
        "id": "SFrFKzrK0kIM"
      },
      "source": [
        "k_n = 5\n",
        "num = 40"
      ],
      "execution_count": 11,
      "outputs": []
    },
    {
      "cell_type": "code",
      "metadata": {
        "colab": {
          "base_uri": "https://localhost:8080/"
        },
        "id": "mGrHyOJB0nq8",
        "outputId": "4c3066d5-1118-4465-aec4-2f80149078e2"
      },
      "source": [
        "popularity = data.groupby('item_id')['quantity'].sum().reset_index()\n",
        "popularity.rename(columns={'quantity': 'n_sold'}, inplace=True)\n",
        "item_list = popularity.sort_values('n_sold', ascending=False).head(num+1).item_id.tolist()\n",
        "item_list = item_list[1:num+1]\n",
        "len(item_list)"
      ],
      "execution_count": 12,
      "outputs": [
        {
          "output_type": "execute_result",
          "data": {
            "text/plain": [
              "40"
            ]
          },
          "metadata": {},
          "execution_count": 12
        }
      ]
    },
    {
      "cell_type": "code",
      "metadata": {
        "id": "2IimppiX0pWZ"
      },
      "source": [
        "user_train_list = data_train_lvl_1[\"user_id\"].unique().tolist()"
      ],
      "execution_count": 13,
      "outputs": []
    },
    {
      "cell_type": "code",
      "metadata": {
        "id": "2lOREQkr0r18"
      },
      "source": [
        "def get_pred_als(recommender, user_train_list, item_list, x, num=5):\n",
        "    res = []\n",
        "    if x in user_train_list:\n",
        "        res.extend(recommender.get_als_recommendations(x, rec_num=num))\n",
        "    else:\n",
        "        res.extend(item_list)    # res.extend(random.choices(item_list, k=num))\n",
        "    return res"
      ],
      "execution_count": 14,
      "outputs": []
    },
    {
      "cell_type": "code",
      "metadata": {
        "id": "w2mFsKwS0u6Z"
      },
      "source": [
        "def get_pred_als_tfidf(recommender, user_train_list, item_list, x, num=5):\n",
        "    res = []\n",
        "    if x in user_train_list:\n",
        "        res.extend(recommender.get_als_tfidf_recommendations(x, rec_num=num))\n",
        "    else:\n",
        "        res.extend(item_list)    # res.extend(random.choices(item_list, k=num))\n",
        "    return res"
      ],
      "execution_count": 15,
      "outputs": []
    },
    {
      "cell_type": "code",
      "metadata": {
        "id": "B3dcaAkg0y1F"
      },
      "source": [
        "def get_pred_als_bm25(recommender, user_train_list, item_list, x, num=5):\n",
        "    res = []\n",
        "    if x in user_train_list:\n",
        "        res.extend(recommender.get_als_bm25_recommendations(x, rec_num=num))\n",
        "    else:\n",
        "        res.extend(item_list)    # res.extend(random.choices(item_list, k=num))\n",
        "    return res"
      ],
      "execution_count": 16,
      "outputs": []
    },
    {
      "cell_type": "code",
      "metadata": {
        "id": "m4JZq2pz058i"
      },
      "source": [
        "def get_pred_own(recommender, user_train_list, item_list, x, num=5):\n",
        "    res = []\n",
        "    if x in user_train_list:\n",
        "        res.extend(recommender.get_own_recommendations(x, rec_num=num))\n",
        "    else:\n",
        "        res.extend(item_list)    # res.extend(random.choices(item_list, k=num))\n",
        "    return res"
      ],
      "execution_count": 17,
      "outputs": []
    },
    {
      "cell_type": "code",
      "metadata": {
        "id": "pOBdacRY0-15"
      },
      "source": [
        "def get_pred_similar_items(recommender, user_train_list, item_list, x, num=5):\n",
        "    res = []\n",
        "    if x in user_train_list:\n",
        "        res.extend(recommender.get_similar_items_recommendation(x, rec_num=num))\n",
        "    else:\n",
        "        res.extend(item_list)    # res.extend(random.choices(item_list, k=num))\n",
        "    return res"
      ],
      "execution_count": 18,
      "outputs": []
    },
    {
      "cell_type": "code",
      "metadata": {
        "id": "3snwT6LD1A4a"
      },
      "source": [
        "users_lvl_2_pred_als['predictions'] = users_lvl_2_pred_als['user_id'].apply(\\\n",
        "                            lambda x: get_pred_als(recommender, user_train_list, item_list, x, num=num))\n",
        "    \n",
        "users_lvl_2_pred_als[\"prec\"] = users_lvl_2_pred_als['user_id'].apply(\\\n",
        "        lambda x: precision_at_k(users_lvl_2_pred_als.loc[users_lvl_2_pred_als[\"user_id\"] == x, \"predictions\"].values[0], \n",
        "                                 list(result_lvl_2.loc[result_lvl_2[\"user_id\"] == x, \"actual\"].values[0]), \n",
        "                                 k=k_n))\n",
        "\n",
        "users_lvl_2_pred_als[\"prec\"].mean()"
      ],
      "execution_count": null,
      "outputs": []
    },
    {
      "cell_type": "code",
      "metadata": {
        "id": "Amagk0Zw1I6q"
      },
      "source": [
        "users_lvl_2_pred_als[\"rec\"] = users_lvl_2_pred_als['user_id'].apply(\\\n",
        "        lambda x: recall_at_k(users_lvl_2_pred_als.loc[users_lvl_2_pred_als[\"user_id\"] == x, \"predictions\"].values[0], \n",
        "                              list(result_lvl_2.loc[result_lvl_2[\"user_id\"] == x, \"actual\"].values[0]), \n",
        "                              k=k_n))\n",
        "\n",
        "users_lvl_2_pred_als[\"rec\"].mean()"
      ],
      "execution_count": null,
      "outputs": []
    },
    {
      "cell_type": "code",
      "metadata": {
        "id": "C7Bq0kva1b_g"
      },
      "source": [
        "users_lvl_2_pred_als['predictions_tfidf'] = users_lvl_2_pred_als['user_id'].apply(\\\n",
        "                            lambda x: get_pred_als_tfidf(recommender, user_train_list, item_list, x, num=num))\n",
        "    \n",
        "users_lvl_2_pred_als[\"prec_tfidf\"] = users_lvl_2_pred_als['user_id'].apply(\\\n",
        "        lambda x: precision_at_k(users_lvl_2_pred_als.loc[users_lvl_2_pred_als[\"user_id\"] == x, \"predictions_tfidf\"].values[0], \n",
        "                                 list(result_lvl_2.loc[result_lvl_2[\"user_id\"] == x, \"actual\"].values[0]), \n",
        "                                 k=k_n))\n",
        "\n",
        "users_lvl_2_pred_als[\"prec_tfidf\"].mean()"
      ],
      "execution_count": null,
      "outputs": []
    },
    {
      "cell_type": "code",
      "metadata": {
        "id": "qAv0pTZe1iGA"
      },
      "source": [
        "users_lvl_2_pred_als[\"rec_tfidf\"] = users_lvl_2_pred_als['user_id'].apply(\\\n",
        "        lambda x: recall_at_k(users_lvl_2_pred_als.loc[users_lvl_2_pred_als[\"user_id\"] == x, \"predictions_tfidf\"].values[0], \n",
        "                              list(result_lvl_2.loc[result_lvl_2[\"user_id\"] == x, \"actual\"].values[0]), \n",
        "                              k=k_n))\n",
        "\n",
        "users_lvl_2_pred_als[\"rec_tfidf\"].mean()"
      ],
      "execution_count": null,
      "outputs": []
    },
    {
      "cell_type": "code",
      "metadata": {
        "id": "P-yvXzS71mCB"
      },
      "source": [
        "users_lvl_2_pred_als['predictions_bm25'] = users_lvl_2_pred_als['user_id'].apply(\\\n",
        "                            lambda x: get_pred_als_bm25(recommender, user_train_list, item_list, x, num=num))\n",
        "    \n",
        "users_lvl_2_pred_als[\"prec_bm25\"] = users_lvl_2_pred_als['user_id'].apply(\\\n",
        "        lambda x: precision_at_k(users_lvl_2_pred_als.loc[users_lvl_2_pred_als[\"user_id\"] == x, \"predictions_bm25\"].values[0], \n",
        "                                 list(result_lvl_2.loc[result_lvl_2[\"user_id\"] == x, \"actual\"].values[0]), \n",
        "                                 k=k_n))\n",
        "\n",
        "users_lvl_2_pred_als[\"prec_bm25\"].mean()"
      ],
      "execution_count": null,
      "outputs": []
    },
    {
      "cell_type": "code",
      "metadata": {
        "id": "rCZPJjzw1pvN"
      },
      "source": [
        "users_lvl_2_pred_als[\"rec_bm25\"] = users_lvl_2_pred_als['user_id'].apply(\\\n",
        "        lambda x: recall_at_k(users_lvl_2_pred_als.loc[users_lvl_2_pred_als[\"user_id\"] == x, \"predictions_bm25\"].values[0], \n",
        "                              list(result_lvl_2.loc[result_lvl_2[\"user_id\"] == x, \"actual\"].values[0]), \n",
        "                              k=k_n))\n",
        "\n",
        "users_lvl_2_pred_als[\"rec_bm25\"].mean()"
      ],
      "execution_count": null,
      "outputs": []
    },
    {
      "cell_type": "code",
      "metadata": {
        "colab": {
          "base_uri": "https://localhost:8080/",
          "height": 206
        },
        "id": "PTGVpAhY1vw1",
        "outputId": "fe86d729-10ef-4942-e5ea-bd5150ceb7c1"
      },
      "source": [
        "users_lvl_2_pred_als.head()"
      ],
      "execution_count": 25,
      "outputs": [
        {
          "output_type": "execute_result",
          "data": {
            "text/html": [
              "<div>\n",
              "<style scoped>\n",
              "    .dataframe tbody tr th:only-of-type {\n",
              "        vertical-align: middle;\n",
              "    }\n",
              "\n",
              "    .dataframe tbody tr th {\n",
              "        vertical-align: top;\n",
              "    }\n",
              "\n",
              "    .dataframe thead th {\n",
              "        text-align: right;\n",
              "    }\n",
              "</style>\n",
              "<table border=\"1\" class=\"dataframe\">\n",
              "  <thead>\n",
              "    <tr style=\"text-align: right;\">\n",
              "      <th></th>\n",
              "      <th>user_id</th>\n",
              "    </tr>\n",
              "  </thead>\n",
              "  <tbody>\n",
              "    <tr>\n",
              "      <th>0</th>\n",
              "      <td>1385</td>\n",
              "    </tr>\n",
              "    <tr>\n",
              "      <th>1</th>\n",
              "      <td>140</td>\n",
              "    </tr>\n",
              "    <tr>\n",
              "      <th>2</th>\n",
              "      <td>287</td>\n",
              "    </tr>\n",
              "    <tr>\n",
              "      <th>3</th>\n",
              "      <td>909</td>\n",
              "    </tr>\n",
              "    <tr>\n",
              "      <th>4</th>\n",
              "      <td>1193</td>\n",
              "    </tr>\n",
              "  </tbody>\n",
              "</table>\n",
              "</div>"
            ],
            "text/plain": [
              "   user_id\n",
              "0     1385\n",
              "1      140\n",
              "2      287\n",
              "3      909\n",
              "4     1193"
            ]
          },
          "metadata": {},
          "execution_count": 25
        }
      ]
    },
    {
      "cell_type": "markdown",
      "metadata": {
        "id": "GCnAVZNK11ng"
      },
      "source": [
        "**Строим классификатор**"
      ]
    },
    {
      "cell_type": "code",
      "metadata": {
        "id": "PvwcZ8yx13MF"
      },
      "source": [
        "users_lvl_2 = pd.DataFrame(data_train_lvl_2['user_id'].unique())\n",
        "users_lvl_2.columns = ['user_id']\n",
        "\n",
        "users_lvl_2['candidates'] = users_lvl_2['user_id'].apply(lambda x: get_pred_als(recommender, user_train_list, item_list, x, num=num))"
      ],
      "execution_count": null,
      "outputs": []
    },
    {
      "cell_type": "code",
      "metadata": {
        "colab": {
          "base_uri": "https://localhost:8080/",
          "height": 206
        },
        "id": "--iDyLJW191-",
        "outputId": "92926c67-68bf-41c3-cc6b-d50819fc782a"
      },
      "source": [
        "users_lvl_2.head()"
      ],
      "execution_count": 27,
      "outputs": [
        {
          "output_type": "execute_result",
          "data": {
            "text/html": [
              "<div>\n",
              "<style scoped>\n",
              "    .dataframe tbody tr th:only-of-type {\n",
              "        vertical-align: middle;\n",
              "    }\n",
              "\n",
              "    .dataframe tbody tr th {\n",
              "        vertical-align: top;\n",
              "    }\n",
              "\n",
              "    .dataframe thead th {\n",
              "        text-align: right;\n",
              "    }\n",
              "</style>\n",
              "<table border=\"1\" class=\"dataframe\">\n",
              "  <thead>\n",
              "    <tr style=\"text-align: right;\">\n",
              "      <th></th>\n",
              "      <th>user_id</th>\n",
              "    </tr>\n",
              "  </thead>\n",
              "  <tbody>\n",
              "    <tr>\n",
              "      <th>0</th>\n",
              "      <td>1229</td>\n",
              "    </tr>\n",
              "    <tr>\n",
              "      <th>1</th>\n",
              "      <td>314</td>\n",
              "    </tr>\n",
              "    <tr>\n",
              "      <th>2</th>\n",
              "      <td>1951</td>\n",
              "    </tr>\n",
              "    <tr>\n",
              "      <th>3</th>\n",
              "      <td>253</td>\n",
              "    </tr>\n",
              "    <tr>\n",
              "      <th>4</th>\n",
              "      <td>884</td>\n",
              "    </tr>\n",
              "  </tbody>\n",
              "</table>\n",
              "</div>"
            ],
            "text/plain": [
              "   user_id\n",
              "0     1229\n",
              "1      314\n",
              "2     1951\n",
              "3      253\n",
              "4      884"
            ]
          },
          "metadata": {},
          "execution_count": 27
        }
      ]
    },
    {
      "cell_type": "code",
      "metadata": {
        "colab": {
          "base_uri": "https://localhost:8080/"
        },
        "id": "cfaPSK502DIW",
        "outputId": "9bcd22b0-d236-41a7-8e73-131a676f1bf3"
      },
      "source": [
        "users_lvl_2.info()"
      ],
      "execution_count": 28,
      "outputs": [
        {
          "output_type": "stream",
          "name": "stdout",
          "text": [
            "<class 'pandas.core.frame.DataFrame'>\n",
            "RangeIndex: 1170 entries, 0 to 1169\n",
            "Data columns (total 1 columns):\n",
            " #   Column   Non-Null Count  Dtype\n",
            "---  ------   --------------  -----\n",
            " 0   user_id  1170 non-null   int64\n",
            "dtypes: int64(1)\n",
            "memory usage: 9.3 KB\n"
          ]
        }
      ]
    },
    {
      "cell_type": "code",
      "metadata": {
        "id": "OzWGZtTv2FKc"
      },
      "source": [
        "df=pd.DataFrame({'user_id':users_lvl_2.user_id.values.repeat(len(users_lvl_2.candidates[0])),\n",
        "                 'item_id':np.concatenate(users_lvl_2.candidates.values)})"
      ],
      "execution_count": null,
      "outputs": []
    },
    {
      "cell_type": "code",
      "metadata": {
        "id": "hYwDpAqM2KiO"
      },
      "source": [
        "targets_lvl_2 = data_train_lvl_2[['user_id', 'item_id']].copy()\n",
        "targets_lvl_2['target'] = 1  # тут только покупки \n",
        "\n",
        "targets_lvl_2 = df.merge(targets_lvl_2, on=['user_id', 'item_id'], how='left')\n",
        "\n",
        "targets_lvl_2['target'].fillna(0, inplace= True)"
      ],
      "execution_count": null,
      "outputs": []
    },
    {
      "cell_type": "code",
      "metadata": {
        "colab": {
          "base_uri": "https://localhost:8080/"
        },
        "id": "HnsJunqT2Pd5",
        "outputId": "6d499055-804f-4f15-cd95-a386f709fc66"
      },
      "source": [
        "targets_lvl_2.shape"
      ],
      "execution_count": 31,
      "outputs": [
        {
          "output_type": "execute_result",
          "data": {
            "text/plain": [
              "(59600, 3)"
            ]
          },
          "metadata": {},
          "execution_count": 31
        }
      ]
    },
    {
      "cell_type": "code",
      "metadata": {
        "colab": {
          "base_uri": "https://localhost:8080/",
          "height": 166
        },
        "id": "Vzu7zhcV2SIi",
        "outputId": "05040d23-3340-4e57-c287-9e8fa01d58b4"
      },
      "source": [
        "targets_lvl_2 = targets_lvl_2.merge(item_features, on='item_id', how='left') #\n",
        "targets_lvl_2 = targets_lvl_2.merge(user_features, on='user_id', how='left') #\n",
        "\n",
        "targets_lvl_2.head(2)"
      ],
      "execution_count": 32,
      "outputs": [
        {
          "output_type": "execute_result",
          "data": {
            "text/html": [
              "<div>\n",
              "<style scoped>\n",
              "    .dataframe tbody tr th:only-of-type {\n",
              "        vertical-align: middle;\n",
              "    }\n",
              "\n",
              "    .dataframe tbody tr th {\n",
              "        vertical-align: top;\n",
              "    }\n",
              "\n",
              "    .dataframe thead th {\n",
              "        text-align: right;\n",
              "    }\n",
              "</style>\n",
              "<table border=\"1\" class=\"dataframe\">\n",
              "  <thead>\n",
              "    <tr style=\"text-align: right;\">\n",
              "      <th></th>\n",
              "      <th>user_id</th>\n",
              "      <th>item_id</th>\n",
              "      <th>target</th>\n",
              "      <th>manufacturer</th>\n",
              "      <th>department</th>\n",
              "      <th>brand</th>\n",
              "      <th>commodity_desc</th>\n",
              "      <th>sub_commodity_desc</th>\n",
              "      <th>curr_size_of_product</th>\n",
              "      <th>age_desc</th>\n",
              "      <th>marital_status_code</th>\n",
              "      <th>income_desc</th>\n",
              "      <th>homeowner_desc</th>\n",
              "      <th>hh_comp_desc</th>\n",
              "      <th>household_size_desc</th>\n",
              "      <th>kid_category_desc</th>\n",
              "      <th>bill_avg</th>\n",
              "      <th>week_last_bill</th>\n",
              "      <th>items_per_week</th>\n",
              "    </tr>\n",
              "  </thead>\n",
              "  <tbody>\n",
              "    <tr>\n",
              "      <th>0</th>\n",
              "      <td>1229</td>\n",
              "      <td>999999.0</td>\n",
              "      <td>1</td>\n",
              "      <td>NaN</td>\n",
              "      <td>NaN</td>\n",
              "      <td>NaN</td>\n",
              "      <td>NaN</td>\n",
              "      <td>NaN</td>\n",
              "      <td>NaN</td>\n",
              "      <td>55-64</td>\n",
              "      <td>A</td>\n",
              "      <td>150-174K</td>\n",
              "      <td>Homeowner</td>\n",
              "      <td>2 Adults No Kids</td>\n",
              "      <td>2</td>\n",
              "      <td>None/Unknown</td>\n",
              "      <td>3.70137</td>\n",
              "      <td>14.0</td>\n",
              "      <td>3.811111</td>\n",
              "    </tr>\n",
              "    <tr>\n",
              "      <th>1</th>\n",
              "      <td>1229</td>\n",
              "      <td>859427.0</td>\n",
              "      <td>1</td>\n",
              "      <td>1646.0</td>\n",
              "      <td>PRODUCE</td>\n",
              "      <td>National</td>\n",
              "      <td>SALAD MIX</td>\n",
              "      <td>BLENDS</td>\n",
              "      <td>10 OZ</td>\n",
              "      <td>55-64</td>\n",
              "      <td>A</td>\n",
              "      <td>150-174K</td>\n",
              "      <td>Homeowner</td>\n",
              "      <td>2 Adults No Kids</td>\n",
              "      <td>2</td>\n",
              "      <td>None/Unknown</td>\n",
              "      <td>3.70137</td>\n",
              "      <td>14.0</td>\n",
              "      <td>3.811111</td>\n",
              "    </tr>\n",
              "  </tbody>\n",
              "</table>\n",
              "</div>"
            ],
            "text/plain": [
              "   user_id   item_id  target  ...  bill_avg week_last_bill items_per_week\n",
              "0     1229  999999.0       1  ...   3.70137           14.0       3.811111\n",
              "1     1229  859427.0       1  ...   3.70137           14.0       3.811111\n",
              "\n",
              "[2 rows x 19 columns]"
            ]
          },
          "metadata": {},
          "execution_count": 32
        }
      ]
    },
    {
      "cell_type": "code",
      "metadata": {
        "colab": {
          "base_uri": "https://localhost:8080/"
        },
        "id": "-y1noFOP2YHL",
        "outputId": "ca02e188-7b66-4baa-e53a-9cbfa00e5155"
      },
      "source": [
        "targets_lvl_2.shape"
      ],
      "execution_count": 33,
      "outputs": [
        {
          "output_type": "execute_result",
          "data": {
            "text/plain": [
              "(59600, 19)"
            ]
          },
          "metadata": {},
          "execution_count": 33
        }
      ]
    },
    {
      "cell_type": "code",
      "metadata": {
        "id": "NogJGhYU2ZSD"
      },
      "source": [
        "targets_lvl_2.fillna(0, inplace=True)"
      ],
      "execution_count": 34,
      "outputs": []
    },
    {
      "cell_type": "code",
      "metadata": {
        "id": "NqoX_EwC2cHD"
      },
      "source": [
        "X_train = targets_lvl_2.drop('target', axis=1)\n",
        "y_train = targets_lvl_2[['target']]"
      ],
      "execution_count": 35,
      "outputs": []
    },
    {
      "cell_type": "code",
      "metadata": {
        "colab": {
          "base_uri": "https://localhost:8080/"
        },
        "id": "SfcGkjJX2hqI",
        "outputId": "29f00709-6e63-4d73-fa0a-f06cd5fa7904"
      },
      "source": [
        "cat_feats = X_train.columns[2:].tolist()\n",
        "X_train[cat_feats] = X_train[cat_feats].astype('category')\n",
        "\n",
        "cat_feats"
      ],
      "execution_count": 36,
      "outputs": [
        {
          "output_type": "execute_result",
          "data": {
            "text/plain": [
              "['manufacturer',\n",
              " 'department',\n",
              " 'brand',\n",
              " 'commodity_desc',\n",
              " 'sub_commodity_desc',\n",
              " 'curr_size_of_product',\n",
              " 'age_desc',\n",
              " 'marital_status_code',\n",
              " 'income_desc',\n",
              " 'homeowner_desc',\n",
              " 'hh_comp_desc',\n",
              " 'household_size_desc',\n",
              " 'kid_category_desc',\n",
              " 'bill_avg',\n",
              " 'week_last_bill',\n",
              " 'items_per_week']"
            ]
          },
          "metadata": {},
          "execution_count": 36
        }
      ]
    },
    {
      "cell_type": "code",
      "metadata": {
        "id": "x1SpvUe62jQw"
      },
      "source": [
        "lgb = LGBMClassifier(objective='binary', \n",
        "                     n_estimators=1500,\n",
        "                     learning_rate=0.008,\n",
        "                     max_depth=7, \n",
        "                     verbose=1,\n",
        "                     categorical_column=cat_feats)\n",
        "\n",
        "hist = lgb.fit(X_train, y_train, \n",
        "               eval_set=[(X_train, y_train)],\n",
        "               eval_metric=['logloss'],\n",
        "               early_stopping_rounds=50,\n",
        "               verbose=0)\n",
        "\n",
        "train_preds = lgb.predict_proba(X_train)"
      ],
      "execution_count": 37,
      "outputs": []
    },
    {
      "cell_type": "code",
      "metadata": {
        "colab": {
          "base_uri": "https://localhost:8080/"
        },
        "id": "k95loyj62ptQ",
        "outputId": "9a0a115c-fd2a-4e18-bcb7-52cf755cc03b"
      },
      "source": [
        "hist.evals_result_['training']['binary_logloss'][-10:]"
      ],
      "execution_count": 38,
      "outputs": [
        {
          "output_type": "execute_result",
          "data": {
            "text/plain": [
              "[0.0, 0.0, 0.0, 0.0, 0.0, 0.0, 0.0, 0.0, 0.0, 0.0]"
            ]
          },
          "metadata": {},
          "execution_count": 38
        }
      ]
    },
    {
      "cell_type": "code",
      "metadata": {
        "colab": {
          "base_uri": "https://localhost:8080/",
          "height": 206
        },
        "id": "nCMoMdMy2rWA",
        "outputId": "aafef9d5-cd41-4096-8783-a75cc49b8156"
      },
      "source": [
        "classifer_prediction = X_train[['user_id', 'item_id']]\n",
        "classifer_prediction[\"pred\"] = train_preds[:, 1]\n",
        "classifer_prediction.tail()"
      ],
      "execution_count": 39,
      "outputs": [
        {
          "output_type": "execute_result",
          "data": {
            "text/html": [
              "<div>\n",
              "<style scoped>\n",
              "    .dataframe tbody tr th:only-of-type {\n",
              "        vertical-align: middle;\n",
              "    }\n",
              "\n",
              "    .dataframe tbody tr th {\n",
              "        vertical-align: top;\n",
              "    }\n",
              "\n",
              "    .dataframe thead th {\n",
              "        text-align: right;\n",
              "    }\n",
              "</style>\n",
              "<table border=\"1\" class=\"dataframe\">\n",
              "  <thead>\n",
              "    <tr style=\"text-align: right;\">\n",
              "      <th></th>\n",
              "      <th>user_id</th>\n",
              "      <th>item_id</th>\n",
              "      <th>pred</th>\n",
              "    </tr>\n",
              "  </thead>\n",
              "  <tbody>\n",
              "    <tr>\n",
              "      <th>59595</th>\n",
              "      <td>999</td>\n",
              "      <td>999999.0</td>\n",
              "      <td>1.000000e-15</td>\n",
              "    </tr>\n",
              "    <tr>\n",
              "      <th>59596</th>\n",
              "      <td>999</td>\n",
              "      <td>999999.0</td>\n",
              "      <td>1.000000e-15</td>\n",
              "    </tr>\n",
              "    <tr>\n",
              "      <th>59597</th>\n",
              "      <td>999</td>\n",
              "      <td>999999.0</td>\n",
              "      <td>1.000000e-15</td>\n",
              "    </tr>\n",
              "    <tr>\n",
              "      <th>59598</th>\n",
              "      <td>999</td>\n",
              "      <td>999999.0</td>\n",
              "      <td>1.000000e-15</td>\n",
              "    </tr>\n",
              "    <tr>\n",
              "      <th>59599</th>\n",
              "      <td>999</td>\n",
              "      <td>999999.0</td>\n",
              "      <td>1.000000e-15</td>\n",
              "    </tr>\n",
              "  </tbody>\n",
              "</table>\n",
              "</div>"
            ],
            "text/plain": [
              "       user_id   item_id          pred\n",
              "59595      999  999999.0  1.000000e-15\n",
              "59596      999  999999.0  1.000000e-15\n",
              "59597      999  999999.0  1.000000e-15\n",
              "59598      999  999999.0  1.000000e-15\n",
              "59599      999  999999.0  1.000000e-15"
            ]
          },
          "metadata": {},
          "execution_count": 39
        }
      ]
    },
    {
      "cell_type": "code",
      "metadata": {
        "colab": {
          "base_uri": "https://localhost:8080/"
        },
        "id": "VZuJ_NYM2ulp",
        "outputId": "0c069784-2f83-4f42-d469-e7fb410d9cb0"
      },
      "source": [
        "res_val = classifer_prediction.loc[classifer_prediction[\"pred\"]>0.5, [\"user_id\", \"item_id\"]]\n",
        "res_val.shape"
      ],
      "execution_count": 40,
      "outputs": [
        {
          "output_type": "execute_result",
          "data": {
            "text/plain": [
              "(0, 2)"
            ]
          },
          "metadata": {},
          "execution_count": 40
        }
      ]
    },
    {
      "cell_type": "code",
      "metadata": {
        "colab": {
          "base_uri": "https://localhost:8080/",
          "height": 49
        },
        "id": "h_9VstiF3BP-",
        "outputId": "a6a74b42-f340-410d-af86-eb5e6fe55ea5"
      },
      "source": [
        "pred_lvl_2 = res_val.groupby('user_id')['item_id'].unique().reset_index()\n",
        "pred_lvl_2.columns=['user_id', 'pred']\n",
        "pred_lvl_2.head()"
      ],
      "execution_count": 41,
      "outputs": [
        {
          "output_type": "execute_result",
          "data": {
            "text/html": [
              "<div>\n",
              "<style scoped>\n",
              "    .dataframe tbody tr th:only-of-type {\n",
              "        vertical-align: middle;\n",
              "    }\n",
              "\n",
              "    .dataframe tbody tr th {\n",
              "        vertical-align: top;\n",
              "    }\n",
              "\n",
              "    .dataframe thead th {\n",
              "        text-align: right;\n",
              "    }\n",
              "</style>\n",
              "<table border=\"1\" class=\"dataframe\">\n",
              "  <thead>\n",
              "    <tr style=\"text-align: right;\">\n",
              "      <th></th>\n",
              "      <th>user_id</th>\n",
              "      <th>pred</th>\n",
              "    </tr>\n",
              "  </thead>\n",
              "  <tbody>\n",
              "  </tbody>\n",
              "</table>\n",
              "</div>"
            ],
            "text/plain": [
              "Empty DataFrame\n",
              "Columns: [user_id, pred]\n",
              "Index: []"
            ]
          },
          "metadata": {},
          "execution_count": 41
        }
      ]
    },
    {
      "cell_type": "code",
      "metadata": {
        "colab": {
          "base_uri": "https://localhost:8080/",
          "height": 206
        },
        "id": "S2eIT8J_3IP2",
        "outputId": "4dfdbeb9-fc9a-4d61-d0b5-eddb3a2077d8"
      },
      "source": [
        "result_lvl_2 = result_lvl_2.merge(pred_lvl_2, on='user_id', how='left')\n",
        "result_lvl_2.head()"
      ],
      "execution_count": 42,
      "outputs": [
        {
          "output_type": "execute_result",
          "data": {
            "text/html": [
              "<div>\n",
              "<style scoped>\n",
              "    .dataframe tbody tr th:only-of-type {\n",
              "        vertical-align: middle;\n",
              "    }\n",
              "\n",
              "    .dataframe tbody tr th {\n",
              "        vertical-align: top;\n",
              "    }\n",
              "\n",
              "    .dataframe thead th {\n",
              "        text-align: right;\n",
              "    }\n",
              "</style>\n",
              "<table border=\"1\" class=\"dataframe\">\n",
              "  <thead>\n",
              "    <tr style=\"text-align: right;\">\n",
              "      <th></th>\n",
              "      <th>user_id</th>\n",
              "      <th>actual</th>\n",
              "      <th>pred</th>\n",
              "    </tr>\n",
              "  </thead>\n",
              "  <tbody>\n",
              "    <tr>\n",
              "      <th>0</th>\n",
              "      <td>1</td>\n",
              "      <td>[999999.0, 865178.0, 953561.0, 995242.0, 10331...</td>\n",
              "      <td>NaN</td>\n",
              "    </tr>\n",
              "    <tr>\n",
              "      <th>1</th>\n",
              "      <td>5</td>\n",
              "      <td>[938983.0, 5980822.0, 999999.0, 825538.0]</td>\n",
              "      <td>NaN</td>\n",
              "    </tr>\n",
              "    <tr>\n",
              "      <th>2</th>\n",
              "      <td>7</td>\n",
              "      <td>[999999.0]</td>\n",
              "      <td>NaN</td>\n",
              "    </tr>\n",
              "    <tr>\n",
              "      <th>3</th>\n",
              "      <td>8</td>\n",
              "      <td>[999999.0]</td>\n",
              "      <td>NaN</td>\n",
              "    </tr>\n",
              "    <tr>\n",
              "      <th>4</th>\n",
              "      <td>12</td>\n",
              "      <td>[999999.0, 981760.0, 993638.0, 995965.0, 10408...</td>\n",
              "      <td>NaN</td>\n",
              "    </tr>\n",
              "  </tbody>\n",
              "</table>\n",
              "</div>"
            ],
            "text/plain": [
              "   user_id                                             actual  pred\n",
              "0        1  [999999.0, 865178.0, 953561.0, 995242.0, 10331...   NaN\n",
              "1        5          [938983.0, 5980822.0, 999999.0, 825538.0]   NaN\n",
              "2        7                                         [999999.0]   NaN\n",
              "3        8                                         [999999.0]   NaN\n",
              "4       12  [999999.0, 981760.0, 993638.0, 995965.0, 10408...   NaN"
            ]
          },
          "metadata": {},
          "execution_count": 42
        }
      ]
    },
    {
      "cell_type": "code",
      "metadata": {
        "colab": {
          "base_uri": "https://localhost:8080/"
        },
        "id": "r6l718hx3MlX",
        "outputId": "e152da92-9525-4502-ec49-1f9710e98948"
      },
      "source": [
        "user_pred_nan = result_lvl_2.loc[result_lvl_2[\"pred\"] != result_lvl_2[\"pred\"], 'user_id'].values\n",
        "len(user_pred_nan)"
      ],
      "execution_count": 43,
      "outputs": [
        {
          "output_type": "execute_result",
          "data": {
            "text/plain": [
              "1612"
            ]
          },
          "metadata": {},
          "execution_count": 43
        }
      ]
    },
    {
      "cell_type": "code",
      "metadata": {
        "colab": {
          "base_uri": "https://localhost:8080/"
        },
        "id": "GPcBEyQO3O1f",
        "outputId": "3522db65-ea30-4d51-a9e2-44b4ccb88723"
      },
      "source": [
        "set_tr_1 = set(data_train_lvl_1.user_id.unique())\n",
        "len(set_tr_1)"
      ],
      "execution_count": 44,
      "outputs": [
        {
          "output_type": "execute_result",
          "data": {
            "text/plain": [
              "448"
            ]
          },
          "metadata": {},
          "execution_count": 44
        }
      ]
    },
    {
      "cell_type": "code",
      "metadata": {
        "colab": {
          "base_uri": "https://localhost:8080/"
        },
        "id": "GZC99WKP3R7b",
        "outputId": "c961968e-3acc-4172-f592-223f7c089460"
      },
      "source": [
        "user_list = set(user_pred_nan).intersection(set_tr_1)\n",
        "len(user_list)"
      ],
      "execution_count": 45,
      "outputs": [
        {
          "output_type": "execute_result",
          "data": {
            "text/plain": [
              "352"
            ]
          },
          "metadata": {},
          "execution_count": 45
        }
      ]
    },
    {
      "cell_type": "code",
      "metadata": {
        "id": "boqpt-NS3WCD"
      },
      "source": [
        "result_lvl_2.loc[result_lvl_2[\"user_id\"].isin(user_list), \"pred\"] =\\\n",
        "result_lvl_2.loc[result_lvl_2[\"user_id\"].isin(user_list), \"user_id\"].apply(lambda x: recommender.get_als_recommendations(x, rec_num=k_n))\n",
        "result_lvl_2.head()"
      ],
      "execution_count": null,
      "outputs": []
    },
    {
      "cell_type": "code",
      "metadata": {
        "colab": {
          "base_uri": "https://localhost:8080/",
          "height": 49
        },
        "id": "JjOotyGG3avb",
        "outputId": "44fc82d8-f568-41f5-da6a-15054e232dc9"
      },
      "source": [
        "result_lvl_2.loc[result_lvl_2[\"user_id\"] == 1984]"
      ],
      "execution_count": 47,
      "outputs": [
        {
          "output_type": "execute_result",
          "data": {
            "text/html": [
              "<div>\n",
              "<style scoped>\n",
              "    .dataframe tbody tr th:only-of-type {\n",
              "        vertical-align: middle;\n",
              "    }\n",
              "\n",
              "    .dataframe tbody tr th {\n",
              "        vertical-align: top;\n",
              "    }\n",
              "\n",
              "    .dataframe thead th {\n",
              "        text-align: right;\n",
              "    }\n",
              "</style>\n",
              "<table border=\"1\" class=\"dataframe\">\n",
              "  <thead>\n",
              "    <tr style=\"text-align: right;\">\n",
              "      <th></th>\n",
              "      <th>user_id</th>\n",
              "      <th>actual</th>\n",
              "      <th>pred</th>\n",
              "    </tr>\n",
              "  </thead>\n",
              "  <tbody>\n",
              "  </tbody>\n",
              "</table>\n",
              "</div>"
            ],
            "text/plain": [
              "Empty DataFrame\n",
              "Columns: [user_id, actual, pred]\n",
              "Index: []"
            ]
          },
          "metadata": {},
          "execution_count": 47
        }
      ]
    },
    {
      "cell_type": "code",
      "metadata": {
        "id": "Qbx_hyaC3nkE"
      },
      "source": [
        "popularity = recommender.prep_data.groupby('item_id')['quantity'].sum().reset_index()\n",
        "popularity.rename(columns={'quantity': 'n_sold'}, inplace=True)\n",
        "top_5 = popularity.sort_values('n_sold', ascending=False).head(6).item_id.tolist()[1:6]\n",
        "top_5"
      ],
      "execution_count": null,
      "outputs": []
    },
    {
      "cell_type": "code",
      "metadata": {
        "id": "9l-9n4S93piT"
      },
      "source": [
        "result_lvl_2.loc[result_lvl_2[\"user_id\"] == 1984, \"pred\"] =\\\n",
        "        result_lvl_2.loc[result_lvl_2[\"user_id\"] == 1984, \"user_id\"].apply(lambda x: top_5)"
      ],
      "execution_count": 49,
      "outputs": []
    },
    {
      "cell_type": "code",
      "metadata": {
        "colab": {
          "base_uri": "https://localhost:8080/",
          "height": 49
        },
        "id": "O2rz9NBs3v_s",
        "outputId": "b0275df1-c3bc-4650-f481-dbe4581d64ab"
      },
      "source": [
        "result_lvl_2.loc[result_lvl_2[\"user_id\"] == 1984]"
      ],
      "execution_count": 50,
      "outputs": [
        {
          "output_type": "execute_result",
          "data": {
            "text/html": [
              "<div>\n",
              "<style scoped>\n",
              "    .dataframe tbody tr th:only-of-type {\n",
              "        vertical-align: middle;\n",
              "    }\n",
              "\n",
              "    .dataframe tbody tr th {\n",
              "        vertical-align: top;\n",
              "    }\n",
              "\n",
              "    .dataframe thead th {\n",
              "        text-align: right;\n",
              "    }\n",
              "</style>\n",
              "<table border=\"1\" class=\"dataframe\">\n",
              "  <thead>\n",
              "    <tr style=\"text-align: right;\">\n",
              "      <th></th>\n",
              "      <th>user_id</th>\n",
              "      <th>actual</th>\n",
              "      <th>pred</th>\n",
              "    </tr>\n",
              "  </thead>\n",
              "  <tbody>\n",
              "  </tbody>\n",
              "</table>\n",
              "</div>"
            ],
            "text/plain": [
              "Empty DataFrame\n",
              "Columns: [user_id, actual, pred]\n",
              "Index: []"
            ]
          },
          "metadata": {},
          "execution_count": 50
        }
      ]
    },
    {
      "cell_type": "code",
      "metadata": {
        "id": "SKIRHXS93xkY"
      },
      "source": [
        "len(result_lvl_2.loc[result_lvl_2[\"user_id\"] == 1984, \"pred\"].values[0])"
      ],
      "execution_count": null,
      "outputs": []
    },
    {
      "cell_type": "code",
      "metadata": {
        "id": "ACp8whC234vq"
      },
      "source": [
        "res = []\n",
        "res.extend(result_lvl_2.loc[result_lvl_2[\"user_id\"] == 1984, \"pred\"].values[0])\n",
        "res"
      ],
      "execution_count": null,
      "outputs": []
    },
    {
      "cell_type": "code",
      "metadata": {
        "id": "PLxOoRVR36hq"
      },
      "source": [
        "def fill_if_not_5(recommender, x):\n",
        "    res = []\n",
        "    res.extend(result_lvl_2.loc[result_lvl_2[\"user_id\"] == x, \"pred\"].values[0])\n",
        "    pred_num = len(result_lvl_2.loc[result_lvl_2[\"user_id\"] == x, \"pred\"].values[0])\n",
        "    if pred_num < 5:\n",
        "        res.extend(recommender.get_als_recommendations(x, rec_num=5-pred_num))\n",
        "    return res"
      ],
      "execution_count": 53,
      "outputs": []
    },
    {
      "cell_type": "code",
      "metadata": {
        "id": "FUSXj9X73_7a"
      },
      "source": [
        "result_lvl_2[\"pred\"] = result_lvl_2[\"user_id\"].apply(lambda x: fill_if_not_5(recommender, x))"
      ],
      "execution_count": null,
      "outputs": []
    },
    {
      "cell_type": "code",
      "metadata": {
        "colab": {
          "base_uri": "https://localhost:8080/",
          "height": 206
        },
        "id": "6E5uUC664Cci",
        "outputId": "951fa3c6-2b0b-4862-db0e-eb4798711f5d"
      },
      "source": [
        "result_lvl_2.head()"
      ],
      "execution_count": 55,
      "outputs": [
        {
          "output_type": "execute_result",
          "data": {
            "text/html": [
              "<div>\n",
              "<style scoped>\n",
              "    .dataframe tbody tr th:only-of-type {\n",
              "        vertical-align: middle;\n",
              "    }\n",
              "\n",
              "    .dataframe tbody tr th {\n",
              "        vertical-align: top;\n",
              "    }\n",
              "\n",
              "    .dataframe thead th {\n",
              "        text-align: right;\n",
              "    }\n",
              "</style>\n",
              "<table border=\"1\" class=\"dataframe\">\n",
              "  <thead>\n",
              "    <tr style=\"text-align: right;\">\n",
              "      <th></th>\n",
              "      <th>user_id</th>\n",
              "      <th>actual</th>\n",
              "      <th>pred</th>\n",
              "    </tr>\n",
              "  </thead>\n",
              "  <tbody>\n",
              "    <tr>\n",
              "      <th>0</th>\n",
              "      <td>1</td>\n",
              "      <td>[999999.0, 865178.0, 953561.0, 995242.0, 10331...</td>\n",
              "      <td>NaN</td>\n",
              "    </tr>\n",
              "    <tr>\n",
              "      <th>1</th>\n",
              "      <td>5</td>\n",
              "      <td>[938983.0, 5980822.0, 999999.0, 825538.0]</td>\n",
              "      <td>NaN</td>\n",
              "    </tr>\n",
              "    <tr>\n",
              "      <th>2</th>\n",
              "      <td>7</td>\n",
              "      <td>[999999.0]</td>\n",
              "      <td>NaN</td>\n",
              "    </tr>\n",
              "    <tr>\n",
              "      <th>3</th>\n",
              "      <td>8</td>\n",
              "      <td>[999999.0]</td>\n",
              "      <td>NaN</td>\n",
              "    </tr>\n",
              "    <tr>\n",
              "      <th>4</th>\n",
              "      <td>12</td>\n",
              "      <td>[999999.0, 981760.0, 993638.0, 995965.0, 10408...</td>\n",
              "      <td>NaN</td>\n",
              "    </tr>\n",
              "  </tbody>\n",
              "</table>\n",
              "</div>"
            ],
            "text/plain": [
              "   user_id                                             actual  pred\n",
              "0        1  [999999.0, 865178.0, 953561.0, 995242.0, 10331...   NaN\n",
              "1        5          [938983.0, 5980822.0, 999999.0, 825538.0]   NaN\n",
              "2        7                                         [999999.0]   NaN\n",
              "3        8                                         [999999.0]   NaN\n",
              "4       12  [999999.0, 981760.0, 993638.0, 995965.0, 10408...   NaN"
            ]
          },
          "metadata": {},
          "execution_count": 55
        }
      ]
    },
    {
      "cell_type": "code",
      "metadata": {
        "id": "_5rVR9Yu4HpW"
      },
      "source": [
        "result_lvl_2[\"rec\"] = result_lvl_2['user_id'].apply(\\\n",
        "        lambda x: precision_at_k(result_lvl_2.loc[result_lvl_2[\"user_id\"] == x, \"pred\"].values[0], \n",
        "                                 list(result_lvl_2.loc[result_lvl_2[\"user_id\"] == x, \"actual\"].values[0]), \n",
        "                                 k=5))\n",
        "\n",
        "result_lvl_2['rec'].mean()"
      ],
      "execution_count": null,
      "outputs": []
    },
    {
      "cell_type": "markdown",
      "metadata": {
        "id": "ZtN_vn2N4NwO"
      },
      "source": [
        "**LightGBM Ranker**"
      ]
    },
    {
      "cell_type": "code",
      "metadata": {
        "colab": {
          "base_uri": "https://localhost:8080/"
        },
        "id": "cbEL7ddp4Pm2",
        "outputId": "6822f329-4572-458b-df69-64a3d6b9c012"
      },
      "source": [
        "X_train.shape"
      ],
      "execution_count": 57,
      "outputs": [
        {
          "output_type": "execute_result",
          "data": {
            "text/plain": [
              "(59600, 18)"
            ]
          },
          "metadata": {},
          "execution_count": 57
        }
      ]
    },
    {
      "cell_type": "code",
      "metadata": {
        "id": "tuCrSoAi4TCv"
      },
      "source": [
        "X_train['num'] = np.arange(len(X_train))"
      ],
      "execution_count": 58,
      "outputs": []
    },
    {
      "cell_type": "code",
      "metadata": {
        "id": "pwRGoBjK4X-o"
      },
      "source": [
        "gr = X_train[['user_id', 'num']].groupby('user_id', sort=False).max()['num'].values"
      ],
      "execution_count": 59,
      "outputs": []
    },
    {
      "cell_type": "code",
      "metadata": {
        "id": "EaiukX8t4asw"
      },
      "source": [
        "grs = np.concatenate((np.array([gr[0]+1]), gr[1:] - gr[:-1]))"
      ],
      "execution_count": 60,
      "outputs": []
    },
    {
      "cell_type": "code",
      "metadata": {
        "colab": {
          "base_uri": "https://localhost:8080/"
        },
        "id": "Fss4EQyX4eI4",
        "outputId": "c91d8c2c-55b9-4c42-964c-a9e21951df54"
      },
      "source": [
        "X_train.shape, y_train.shape, np.sum(grs)"
      ],
      "execution_count": 61,
      "outputs": [
        {
          "output_type": "execute_result",
          "data": {
            "text/plain": [
              "((59600, 19), (59600, 1), 59576)"
            ]
          },
          "metadata": {},
          "execution_count": 61
        }
      ]
    },
    {
      "cell_type": "code",
      "metadata": {
        "id": "wsnZ18554iE5"
      },
      "source": [
        "from lightgbm import LGBMRanker\n",
        "\n",
        "lgb_params = { \n",
        "    'objective':'lambdarank',\n",
        "    'boosting_type': 'gbdt',\n",
        "    'n_estimators': 1000,\n",
        "    'learning_rate': 0.08,\n",
        "    'max_depth': 5,\n",
        "    'categorical_column': cat_feats,\n",
        "    'random_state': 27,\n",
        "    'verbose': 0,\n",
        "    'is_unbalance': True\n",
        "}"
      ],
      "execution_count": 62,
      "outputs": []
    },
    {
      "cell_type": "code",
      "metadata": {
        "id": "wHyU2CxO4mJ_"
      },
      "source": [
        "lgb_rn = LGBMRanker(**lgb_params, silent=False)\n",
        "\n",
        "eval_h = lgb_rn.fit(X_train, y_train, group=grs,\n",
        "                    eval_set=[(X_train, y_train)], eval_group=[grs], \n",
        "                    eval_metric=['ndcg'],\n",
        "                    eval_at=[5, 10 ], \n",
        "                    early_stopping_rounds=50, \n",
        "                    verbose=0)"
      ],
      "execution_count": null,
      "outputs": []
    },
    {
      "cell_type": "code",
      "metadata": {
        "id": "JRuft3eb4tud"
      },
      "source": [
        "eval_h.evals_result_['training']['ndcg@5'][:3], eval_h.evals_result_['training']['ndcg@5'][-3:]"
      ],
      "execution_count": null,
      "outputs": []
    },
    {
      "cell_type": "code",
      "metadata": {
        "id": "GtdnWoJX4zF9"
      },
      "source": [
        "rank_preds = lgb_rn.predict(X_train)"
      ],
      "execution_count": null,
      "outputs": []
    },
    {
      "cell_type": "code",
      "metadata": {
        "id": "ADLV64Wx42i1"
      },
      "source": [
        "ranker_prediction = X_train[['user_id', 'item_id']]\n",
        "ranker_prediction[\"pred\"] = rank_preds\n",
        "ranker_prediction.head()"
      ],
      "execution_count": null,
      "outputs": []
    },
    {
      "cell_type": "code",
      "metadata": {
        "id": "kwrkgjwf46n4"
      },
      "source": [
        "ranker_prediction = ranker_prediction.drop_duplicates()"
      ],
      "execution_count": 67,
      "outputs": []
    },
    {
      "cell_type": "code",
      "metadata": {
        "id": "B89mVJmd4_el"
      },
      "source": [
        "ranker_prediction.sort_values(by=\"pred\", inplace=True, ascending=False)\n",
        "ranker_prediction.head()"
      ],
      "execution_count": null,
      "outputs": []
    },
    {
      "cell_type": "code",
      "metadata": {
        "colab": {
          "base_uri": "https://localhost:8080/",
          "height": 424
        },
        "id": "Fyof1_cu5B_0",
        "outputId": "70edf639-5c8c-498b-aa6f-503948db7e9e"
      },
      "source": [
        "ranked_res = ranker_prediction.groupby('user_id')['item_id'].unique().reset_index()   \n",
        "ranked_res"
      ],
      "execution_count": 69,
      "outputs": [
        {
          "output_type": "execute_result",
          "data": {
            "text/html": [
              "<div>\n",
              "<style scoped>\n",
              "    .dataframe tbody tr th:only-of-type {\n",
              "        vertical-align: middle;\n",
              "    }\n",
              "\n",
              "    .dataframe tbody tr th {\n",
              "        vertical-align: top;\n",
              "    }\n",
              "\n",
              "    .dataframe thead th {\n",
              "        text-align: right;\n",
              "    }\n",
              "</style>\n",
              "<table border=\"1\" class=\"dataframe\">\n",
              "  <thead>\n",
              "    <tr style=\"text-align: right;\">\n",
              "      <th></th>\n",
              "      <th>user_id</th>\n",
              "      <th>item_id</th>\n",
              "    </tr>\n",
              "  </thead>\n",
              "  <tbody>\n",
              "    <tr>\n",
              "      <th>0</th>\n",
              "      <td>1</td>\n",
              "      <td>[999999.0, 840361.0, 845307.0, 852014.0, 94094...</td>\n",
              "    </tr>\n",
              "    <tr>\n",
              "      <th>1</th>\n",
              "      <td>7</td>\n",
              "      <td>[999999.0, 856335.0, 862682.0, 896369.0, 92155...</td>\n",
              "    </tr>\n",
              "    <tr>\n",
              "      <th>2</th>\n",
              "      <td>8</td>\n",
              "      <td>[999999.0, 841220.0, 847982.0, 849843.0, 86050...</td>\n",
              "    </tr>\n",
              "    <tr>\n",
              "      <th>3</th>\n",
              "      <td>14</td>\n",
              "      <td>[999999.0, 5978648.0, 916122.0, 1081189.0, 597...</td>\n",
              "    </tr>\n",
              "    <tr>\n",
              "      <th>4</th>\n",
              "      <td>15</td>\n",
              "      <td>[826249.0, 999999.0, 845208.0, 848071.0, 85567...</td>\n",
              "    </tr>\n",
              "    <tr>\n",
              "      <th>...</th>\n",
              "      <td>...</td>\n",
              "      <td>...</td>\n",
              "    </tr>\n",
              "    <tr>\n",
              "      <th>1165</th>\n",
              "      <td>2487</td>\n",
              "      <td>[999999.0, 1026118.0, 5566472.0, 5978656.0, 11...</td>\n",
              "    </tr>\n",
              "    <tr>\n",
              "      <th>1166</th>\n",
              "      <td>2488</td>\n",
              "      <td>[999999.0, 916122.0, 940766.0, 963502.0, 10331...</td>\n",
              "    </tr>\n",
              "    <tr>\n",
              "      <th>1167</th>\n",
              "      <td>2491</td>\n",
              "      <td>[999999.0, 1005609.0, 1035143.0, 1070105.0, 95...</td>\n",
              "    </tr>\n",
              "    <tr>\n",
              "      <th>1168</th>\n",
              "      <td>2492</td>\n",
              "      <td>[999999.0, 1042438.0, 1106523.0, 928049.0, 846...</td>\n",
              "    </tr>\n",
              "    <tr>\n",
              "      <th>1169</th>\n",
              "      <td>2493</td>\n",
              "      <td>[999999.0, 828867.0, 845193.0, 856772.0, 86962...</td>\n",
              "    </tr>\n",
              "  </tbody>\n",
              "</table>\n",
              "<p>1170 rows × 2 columns</p>\n",
              "</div>"
            ],
            "text/plain": [
              "      user_id                                            item_id\n",
              "0           1  [999999.0, 840361.0, 845307.0, 852014.0, 94094...\n",
              "1           7  [999999.0, 856335.0, 862682.0, 896369.0, 92155...\n",
              "2           8  [999999.0, 841220.0, 847982.0, 849843.0, 86050...\n",
              "3          14  [999999.0, 5978648.0, 916122.0, 1081189.0, 597...\n",
              "4          15  [826249.0, 999999.0, 845208.0, 848071.0, 85567...\n",
              "...       ...                                                ...\n",
              "1165     2487  [999999.0, 1026118.0, 5566472.0, 5978656.0, 11...\n",
              "1166     2488  [999999.0, 916122.0, 940766.0, 963502.0, 10331...\n",
              "1167     2491  [999999.0, 1005609.0, 1035143.0, 1070105.0, 95...\n",
              "1168     2492  [999999.0, 1042438.0, 1106523.0, 928049.0, 846...\n",
              "1169     2493  [999999.0, 828867.0, 845193.0, 856772.0, 86962...\n",
              "\n",
              "[1170 rows x 2 columns]"
            ]
          },
          "metadata": {},
          "execution_count": 69
        }
      ]
    },
    {
      "cell_type": "code",
      "metadata": {
        "colab": {
          "base_uri": "https://localhost:8080/",
          "height": 424
        },
        "id": "HaiP5N635OVq",
        "outputId": "727f6b6b-a979-41b0-c73b-d3afa92867e8"
      },
      "source": [
        "result_lvl_2 = data_val_lvl_2.groupby('user_id')['item_id'].unique().reset_index()\n",
        "result_lvl_2.columns=['user_id', 'actual']\n",
        "\n",
        "result_lvl_2 = result_lvl_2.merge(ranked_res, on='user_id', how='left')\n",
        "result_lvl_2"
      ],
      "execution_count": 70,
      "outputs": [
        {
          "output_type": "execute_result",
          "data": {
            "text/html": [
              "<div>\n",
              "<style scoped>\n",
              "    .dataframe tbody tr th:only-of-type {\n",
              "        vertical-align: middle;\n",
              "    }\n",
              "\n",
              "    .dataframe tbody tr th {\n",
              "        vertical-align: top;\n",
              "    }\n",
              "\n",
              "    .dataframe thead th {\n",
              "        text-align: right;\n",
              "    }\n",
              "</style>\n",
              "<table border=\"1\" class=\"dataframe\">\n",
              "  <thead>\n",
              "    <tr style=\"text-align: right;\">\n",
              "      <th></th>\n",
              "      <th>user_id</th>\n",
              "      <th>actual</th>\n",
              "      <th>item_id</th>\n",
              "    </tr>\n",
              "  </thead>\n",
              "  <tbody>\n",
              "    <tr>\n",
              "      <th>0</th>\n",
              "      <td>1</td>\n",
              "      <td>[999999.0, 865178.0, 953561.0, 995242.0, 10331...</td>\n",
              "      <td>[999999.0, 840361.0, 845307.0, 852014.0, 94094...</td>\n",
              "    </tr>\n",
              "    <tr>\n",
              "      <th>1</th>\n",
              "      <td>5</td>\n",
              "      <td>[938983.0, 5980822.0, 999999.0, 825538.0]</td>\n",
              "      <td>NaN</td>\n",
              "    </tr>\n",
              "    <tr>\n",
              "      <th>2</th>\n",
              "      <td>7</td>\n",
              "      <td>[999999.0]</td>\n",
              "      <td>[999999.0, 856335.0, 862682.0, 896369.0, 92155...</td>\n",
              "    </tr>\n",
              "    <tr>\n",
              "      <th>3</th>\n",
              "      <td>8</td>\n",
              "      <td>[999999.0]</td>\n",
              "      <td>[999999.0, 841220.0, 847982.0, 849843.0, 86050...</td>\n",
              "    </tr>\n",
              "    <tr>\n",
              "      <th>4</th>\n",
              "      <td>12</td>\n",
              "      <td>[999999.0, 981760.0, 993638.0, 995965.0, 10408...</td>\n",
              "      <td>NaN</td>\n",
              "    </tr>\n",
              "    <tr>\n",
              "      <th>...</th>\n",
              "      <td>...</td>\n",
              "      <td>...</td>\n",
              "      <td>...</td>\n",
              "    </tr>\n",
              "    <tr>\n",
              "      <th>1607</th>\n",
              "      <td>2493</td>\n",
              "      <td>[826784.0, 999999.0, 883404.0, 1062966.0, 1106...</td>\n",
              "      <td>[999999.0, 828867.0, 845193.0, 856772.0, 86962...</td>\n",
              "    </tr>\n",
              "    <tr>\n",
              "      <th>1608</th>\n",
              "      <td>2495</td>\n",
              "      <td>[889731.0, 999999.0]</td>\n",
              "      <td>NaN</td>\n",
              "    </tr>\n",
              "    <tr>\n",
              "      <th>1609</th>\n",
              "      <td>2497</td>\n",
              "      <td>[999999.0, 1037840.0, 5569230.0, 8090537.0, 55...</td>\n",
              "      <td>NaN</td>\n",
              "    </tr>\n",
              "    <tr>\n",
              "      <th>1610</th>\n",
              "      <td>2499</td>\n",
              "      <td>[838186.0, 999999.0, 932949.0, 933835.0, 10676...</td>\n",
              "      <td>NaN</td>\n",
              "    </tr>\n",
              "    <tr>\n",
              "      <th>1611</th>\n",
              "      <td>2500</td>\n",
              "      <td>[999999.0, 837751.0, 893018.0, 972931.0, 10237...</td>\n",
              "      <td>NaN</td>\n",
              "    </tr>\n",
              "  </tbody>\n",
              "</table>\n",
              "<p>1612 rows × 3 columns</p>\n",
              "</div>"
            ],
            "text/plain": [
              "      user_id  ...                                            item_id\n",
              "0           1  ...  [999999.0, 840361.0, 845307.0, 852014.0, 94094...\n",
              "1           5  ...                                                NaN\n",
              "2           7  ...  [999999.0, 856335.0, 862682.0, 896369.0, 92155...\n",
              "3           8  ...  [999999.0, 841220.0, 847982.0, 849843.0, 86050...\n",
              "4          12  ...                                                NaN\n",
              "...       ...  ...                                                ...\n",
              "1607     2493  ...  [999999.0, 828867.0, 845193.0, 856772.0, 86962...\n",
              "1608     2495  ...                                                NaN\n",
              "1609     2497  ...                                                NaN\n",
              "1610     2499  ...                                                NaN\n",
              "1611     2500  ...                                                NaN\n",
              "\n",
              "[1612 rows x 3 columns]"
            ]
          },
          "metadata": {},
          "execution_count": 70
        }
      ]
    },
    {
      "cell_type": "code",
      "metadata": {
        "colab": {
          "base_uri": "https://localhost:8080/"
        },
        "id": "imdVKhjH5Tjq",
        "outputId": "943266ad-945d-44d6-f66d-107db6296b60"
      },
      "source": [
        "user_pred_nan = result_lvl_2.loc[result_lvl_2[\"item_id\"] != result_lvl_2[\"item_id\"], 'user_id'].values\n",
        "len(user_pred_nan)"
      ],
      "execution_count": 71,
      "outputs": [
        {
          "output_type": "execute_result",
          "data": {
            "text/plain": [
              "640"
            ]
          },
          "metadata": {},
          "execution_count": 71
        }
      ]
    },
    {
      "cell_type": "code",
      "metadata": {
        "colab": {
          "base_uri": "https://localhost:8080/"
        },
        "id": "Ncd6IJqV5WdK",
        "outputId": "1c526e01-485e-4d70-ca28-d42640966188"
      },
      "source": [
        "set_tr_1 = set(data_train_lvl_1.user_id.unique())\n",
        "len(set_tr_1)"
      ],
      "execution_count": 72,
      "outputs": [
        {
          "output_type": "execute_result",
          "data": {
            "text/plain": [
              "448"
            ]
          },
          "metadata": {},
          "execution_count": 72
        }
      ]
    },
    {
      "cell_type": "code",
      "metadata": {
        "colab": {
          "base_uri": "https://localhost:8080/"
        },
        "id": "4t0LUWvf5ajv",
        "outputId": "c68ac84e-6ba2-43aa-8191-a506deb1e41b"
      },
      "source": [
        "user_list = set(user_pred_nan).intersection(set_tr_1)\n",
        "len(user_list)"
      ],
      "execution_count": 73,
      "outputs": [
        {
          "output_type": "execute_result",
          "data": {
            "text/plain": [
              "20"
            ]
          },
          "metadata": {},
          "execution_count": 73
        }
      ]
    },
    {
      "cell_type": "code",
      "metadata": {
        "id": "8l4zkBhD5eqY"
      },
      "source": [
        "result_lvl_2.loc[result_lvl_2[\"user_id\"].isin(user_list), \"item_id\"] =\\\n",
        "result_lvl_2.loc[result_lvl_2[\"user_id\"].isin(user_list), \"user_id\"].apply(lambda x: recommender.get_als_recommendations(x, rec_num=k_n))\n",
        "result_lvl_2.head()"
      ],
      "execution_count": null,
      "outputs": []
    },
    {
      "cell_type": "code",
      "metadata": {
        "colab": {
          "base_uri": "https://localhost:8080/",
          "height": 49
        },
        "id": "uDfDaMB85iiw",
        "outputId": "524e51a1-3ab5-4f74-dce3-3412fbc6fc0e"
      },
      "source": [
        "result_lvl_2.loc[result_lvl_2[\"user_id\"] == 1984]"
      ],
      "execution_count": 75,
      "outputs": [
        {
          "output_type": "execute_result",
          "data": {
            "text/html": [
              "<div>\n",
              "<style scoped>\n",
              "    .dataframe tbody tr th:only-of-type {\n",
              "        vertical-align: middle;\n",
              "    }\n",
              "\n",
              "    .dataframe tbody tr th {\n",
              "        vertical-align: top;\n",
              "    }\n",
              "\n",
              "    .dataframe thead th {\n",
              "        text-align: right;\n",
              "    }\n",
              "</style>\n",
              "<table border=\"1\" class=\"dataframe\">\n",
              "  <thead>\n",
              "    <tr style=\"text-align: right;\">\n",
              "      <th></th>\n",
              "      <th>user_id</th>\n",
              "      <th>actual</th>\n",
              "      <th>item_id</th>\n",
              "    </tr>\n",
              "  </thead>\n",
              "  <tbody>\n",
              "  </tbody>\n",
              "</table>\n",
              "</div>"
            ],
            "text/plain": [
              "Empty DataFrame\n",
              "Columns: [user_id, actual, item_id]\n",
              "Index: []"
            ]
          },
          "metadata": {},
          "execution_count": 75
        }
      ]
    },
    {
      "cell_type": "code",
      "metadata": {
        "id": "H_dYj8815m8Y"
      },
      "source": [
        "result_lvl_2[\"rec\"] = result_lvl_2['user_id'].apply(\\\n",
        "        lambda x: precision_at_k(result_lvl_2.loc[result_lvl_2[\"user_id\"] == x, \"item_id\"].values[0], \n",
        "                                 list(result_lvl_2.loc[result_lvl_2[\"user_id\"] == x, \"actual\"].values[0]), \n",
        "                                 k=5))\n",
        "\n",
        "result_lvl_2['rec'].mean()"
      ],
      "execution_count": null,
      "outputs": []
    }
  ]
}